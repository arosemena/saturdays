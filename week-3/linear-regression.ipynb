{
 "cells": [
  {
   "cell_type": "markdown",
   "metadata": {
    "pycharm": {
     "name": "#%% md\n"
    }
   },
   "source": [
    "# Linear Regression example"
   ]
  },
  {
   "cell_type": "code",
   "execution_count": 8,
   "metadata": {
    "ExecuteTime": {
     "end_time": "2021-10-25T06:43:46.237484Z",
     "start_time": "2021-10-25T06:43:12.679785Z"
    },
    "pycharm": {
     "name": "#%%\n"
    }
   },
   "outputs": [],
   "source": [
    "# Data manipulation\n",
    "import numpy as np\n",
    "import pandas as pd\n",
    "from sklearn.model_selection import train_test_split\n",
    "\n",
    "# Evaluation of models\n",
    "from sklearn.metrics import mean_squared_error, r2_score\n",
    "\n",
    "# Model implementation\n",
    "from sklearn.linear_model import LinearRegression\n",
    "\n",
    "# Load data (from a dataset in sklearn)\n",
    "from sklearn.datasets import fetch_california_housing\n",
    "\n",
    "# Save models into a file!\n",
    "import pickle\n",
    "\n",
    "# Data visualization\n",
    "import matplotlib.pyplot as plt\n",
    "import seaborn as sns\n",
    "from mpl_toolkits.mplot3d import Axes3D"
   ]
  },
  {
   "cell_type": "code",
   "execution_count": 9,
   "metadata": {
    "ExecuteTime": {
     "end_time": "2021-10-25T06:43:56.334857Z",
     "start_time": "2021-10-25T06:43:56.300309Z"
    },
    "pycharm": {
     "name": "#%%\n"
    }
   },
   "outputs": [
    {
     "data": {
      "text/plain": "dict_keys(['data', 'target', 'frame', 'target_names', 'feature_names', 'DESCR'])"
     },
     "execution_count": 9,
     "metadata": {},
     "output_type": "execute_result"
    }
   ],
   "source": [
    "# Obtain data\n",
    "data = fetch_california_housing()\n",
    "\n",
    "# See what can we do\n",
    "data.keys()"
   ]
  },
  {
   "cell_type": "code",
   "execution_count": 10,
   "metadata": {
    "ExecuteTime": {
     "end_time": "2021-10-25T06:44:05.884625Z",
     "start_time": "2021-10-25T06:44:05.879687Z"
    },
    "pycharm": {
     "name": "#%%\n"
    }
   },
   "outputs": [
    {
     "name": "stdout",
     "output_type": "stream",
     "text": [
      ".. _california_housing_dataset:\n",
      "\n",
      "California Housing dataset\n",
      "--------------------------\n",
      "\n",
      "**Data Set Characteristics:**\n",
      "\n",
      "    :Number of Instances: 20640\n",
      "\n",
      "    :Number of Attributes: 8 numeric, predictive attributes and the target\n",
      "\n",
      "    :Attribute Information:\n",
      "        - MedInc        median income in block group\n",
      "        - HouseAge      median house age in block group\n",
      "        - AveRooms      average number of rooms per household\n",
      "        - AveBedrms     average number of bedrooms per household\n",
      "        - Population    block group population\n",
      "        - AveOccup      average number of household members\n",
      "        - Latitude      block group latitude\n",
      "        - Longitude     block group longitude\n",
      "\n",
      "    :Missing Attribute Values: None\n",
      "\n",
      "This dataset was obtained from the StatLib repository.\n",
      "https://www.dcc.fc.up.pt/~ltorgo/Regression/cal_housing.html\n",
      "\n",
      "The target variable is the median house value for California districts,\n",
      "expressed in hundreds of thousands of dollars ($100,000).\n",
      "\n",
      "This dataset was derived from the 1990 U.S. census, using one row per census\n",
      "block group. A block group is the smallest geographical unit for which the U.S.\n",
      "Census Bureau publishes sample data (a block group typically has a population\n",
      "of 600 to 3,000 people).\n",
      "\n",
      "An household is a group of people residing within a home. Since the average\n",
      "number of rooms and bedrooms in this dataset are provided per household, these\n",
      "columns may take surpinsingly large values for block groups with few households\n",
      "and many empty houses, such as vacation resorts.\n",
      "\n",
      "It can be downloaded/loaded using the\n",
      ":func:`sklearn.datasets.fetch_california_housing` function.\n",
      "\n",
      ".. topic:: References\n",
      "\n",
      "    - Pace, R. Kelley and Ronald Barry, Sparse Spatial Autoregressions,\n",
      "      Statistics and Probability Letters, 33 (1997) 291-297\n",
      "\n"
     ]
    }
   ],
   "source": [
    "# Obtain a description\n",
    "print(data.DESCR)"
   ]
  },
  {
   "cell_type": "code",
   "execution_count": 11,
   "metadata": {
    "ExecuteTime": {
     "end_time": "2021-10-25T06:44:12.574021Z",
     "start_time": "2021-10-25T06:44:12.521248Z"
    },
    "pycharm": {
     "name": "#%%\n"
    }
   },
   "outputs": [
    {
     "data": {
      "text/plain": "   MedInc  HouseAge  AveRooms  AveBedrms  Population  AveOccup  Latitude  \\\n0  8.3252      41.0  6.984127   1.023810       322.0  2.555556     37.88   \n1  8.3014      21.0  6.238137   0.971880      2401.0  2.109842     37.86   \n2  7.2574      52.0  8.288136   1.073446       496.0  2.802260     37.85   \n3  5.6431      52.0  5.817352   1.073059       558.0  2.547945     37.85   \n4  3.8462      52.0  6.281853   1.081081       565.0  2.181467     37.85   \n\n   Longitude  median_house_value  \n0    -122.23               4.526  \n1    -122.22               3.585  \n2    -122.24               3.521  \n3    -122.25               3.413  \n4    -122.25               3.422  ",
      "text/html": "<div>\n<style scoped>\n    .dataframe tbody tr th:only-of-type {\n        vertical-align: middle;\n    }\n\n    .dataframe tbody tr th {\n        vertical-align: top;\n    }\n\n    .dataframe thead th {\n        text-align: right;\n    }\n</style>\n<table border=\"1\" class=\"dataframe\">\n  <thead>\n    <tr style=\"text-align: right;\">\n      <th></th>\n      <th>MedInc</th>\n      <th>HouseAge</th>\n      <th>AveRooms</th>\n      <th>AveBedrms</th>\n      <th>Population</th>\n      <th>AveOccup</th>\n      <th>Latitude</th>\n      <th>Longitude</th>\n      <th>median_house_value</th>\n    </tr>\n  </thead>\n  <tbody>\n    <tr>\n      <th>0</th>\n      <td>8.3252</td>\n      <td>41.0</td>\n      <td>6.984127</td>\n      <td>1.023810</td>\n      <td>322.0</td>\n      <td>2.555556</td>\n      <td>37.88</td>\n      <td>-122.23</td>\n      <td>4.526</td>\n    </tr>\n    <tr>\n      <th>1</th>\n      <td>8.3014</td>\n      <td>21.0</td>\n      <td>6.238137</td>\n      <td>0.971880</td>\n      <td>2401.0</td>\n      <td>2.109842</td>\n      <td>37.86</td>\n      <td>-122.22</td>\n      <td>3.585</td>\n    </tr>\n    <tr>\n      <th>2</th>\n      <td>7.2574</td>\n      <td>52.0</td>\n      <td>8.288136</td>\n      <td>1.073446</td>\n      <td>496.0</td>\n      <td>2.802260</td>\n      <td>37.85</td>\n      <td>-122.24</td>\n      <td>3.521</td>\n    </tr>\n    <tr>\n      <th>3</th>\n      <td>5.6431</td>\n      <td>52.0</td>\n      <td>5.817352</td>\n      <td>1.073059</td>\n      <td>558.0</td>\n      <td>2.547945</td>\n      <td>37.85</td>\n      <td>-122.25</td>\n      <td>3.413</td>\n    </tr>\n    <tr>\n      <th>4</th>\n      <td>3.8462</td>\n      <td>52.0</td>\n      <td>6.281853</td>\n      <td>1.081081</td>\n      <td>565.0</td>\n      <td>2.181467</td>\n      <td>37.85</td>\n      <td>-122.25</td>\n      <td>3.422</td>\n    </tr>\n  </tbody>\n</table>\n</div>"
     },
     "execution_count": 11,
     "metadata": {},
     "output_type": "execute_result"
    }
   ],
   "source": [
    "df = pd.DataFrame(data.data, columns=data.feature_names)\n",
    "df[\"median_house_value\"] = data.target\n",
    "df.head()"
   ]
  },
  {
   "cell_type": "code",
   "execution_count": 12,
   "metadata": {
    "ExecuteTime": {
     "end_time": "2021-10-25T06:44:51.891962Z",
     "start_time": "2021-10-25T06:44:46.359608Z"
    },
    "pycharm": {
     "name": "#%%\n"
    }
   },
   "outputs": [
    {
     "data": {
      "text/plain": "<Figure size 720x720 with 9 Axes>",
      "image/png": "[encoded data removed]"
     },
     "metadata": {
      "needs_background": "light"
     },
     "output_type": "display_data"
    }
   ],
   "source": [
    "df.hist(bins=20, figsize=(10,10))\n",
    "plt.tight_layout()"
   ]
  },
  {
   "cell_type": "markdown",
   "metadata": {
    "pycharm": {
     "name": "#%% md\n"
    }
   },
   "source": [
    "# First Model:"
   ]
  },
  {
   "cell_type": "code",
   "execution_count": 13,
   "metadata": {
    "ExecuteTime": {
     "end_time": "2021-10-25T06:45:17.796370Z",
     "start_time": "2021-10-25T06:45:17.780714Z"
    },
    "pycharm": {
     "name": "#%%\n"
    }
   },
   "outputs": [],
   "source": [
    "# Select some features\n",
    "X = df[[\"MedInc\",\"HouseAge\"]]\n",
    "Y = df[\"median_house_value\"]\n",
    "\n",
    "# Split the data into test and train\n",
    "X_train, X_test, Y_train, Y_test = train_test_split(X,Y, test_size=0.2, random_state=9)"
   ]
  },
  {
   "cell_type": "code",
   "execution_count": 14,
   "metadata": {
    "ExecuteTime": {
     "end_time": "2021-10-25T06:45:23.123343Z",
     "start_time": "2021-10-25T06:45:23.089616Z"
    },
    "pycharm": {
     "name": "#%%\n"
    }
   },
   "outputs": [
    {
     "data": {
      "text/plain": "LinearRegression()",
      "text/html": "<style>#sk-container-id-2 {color: black;background-color: white;}#sk-container-id-2 pre{padding: 0;}#sk-container-id-2 div.sk-toggleable {background-color: white;}#sk-container-id-2 label.sk-toggleable__label {cursor: pointer;display: block;width: 100%;margin-bottom: 0;padding: 0.3em;box-sizing: border-box;text-align: center;}#sk-container-id-2 label.sk-toggleable__label-arrow:before {content: \"▸\";float: left;margin-right: 0.25em;color: #696969;}#sk-container-id-2 label.sk-toggleable__label-arrow:hover:before {color: black;}#sk-container-id-2 div.sk-estimator:hover label.sk-toggleable__label-arrow:before {color: black;}#sk-container-id-2 div.sk-toggleable__content {max-height: 0;max-width: 0;overflow: hidden;text-align: left;background-color: #f0f8ff;}#sk-container-id-2 div.sk-toggleable__content pre {margin: 0.2em;color: black;border-radius: 0.25em;background-color: #f0f8ff;}#sk-container-id-2 input.sk-toggleable__control:checked~div.sk-toggleable__content {max-height: 200px;max-width: 100%;overflow: auto;}#sk-container-id-2 input.sk-toggleable__control:checked~label.sk-toggleable__label-arrow:before {content: \"▾\";}#sk-container-id-2 div.sk-estimator input.sk-toggleable__control:checked~label.sk-toggleable__label {background-color: #d4ebff;}#sk-container-id-2 div.sk-label input.sk-toggleable__control:checked~label.sk-toggleable__label {background-color: #d4ebff;}#sk-container-id-2 input.sk-hidden--visually {border: 0;clip: rect(1px 1px 1px 1px);clip: rect(1px, 1px, 1px, 1px);height: 1px;margin: -1px;overflow: hidden;padding: 0;position: absolute;width: 1px;}#sk-container-id-2 div.sk-estimator {font-family: monospace;background-color: #f0f8ff;border: 1px dotted black;border-radius: 0.25em;box-sizing: border-box;margin-bottom: 0.5em;}#sk-container-id-2 div.sk-estimator:hover {background-color: #d4ebff;}#sk-container-id-2 div.sk-parallel-item::after {content: \"\";width: 100%;border-bottom: 1px solid gray;flex-grow: 1;}#sk-container-id-2 div.sk-label:hover label.sk-toggleable__label {background-color: #d4ebff;}#sk-container-id-2 div.sk-serial::before {content: \"\";position: absolute;border-left: 1px solid gray;box-sizing: border-box;top: 0;bottom: 0;left: 50%;z-index: 0;}#sk-container-id-2 div.sk-serial {display: flex;flex-direction: column;align-items: center;background-color: white;padding-right: 0.2em;padding-left: 0.2em;position: relative;}#sk-container-id-2 div.sk-item {position: relative;z-index: 1;}#sk-container-id-2 div.sk-parallel {display: flex;align-items: stretch;justify-content: center;background-color: white;position: relative;}#sk-container-id-2 div.sk-item::before, #sk-container-id-2 div.sk-parallel-item::before {content: \"\";position: absolute;border-left: 1px solid gray;box-sizing: border-box;top: 0;bottom: 0;left: 50%;z-index: -1;}#sk-container-id-2 div.sk-parallel-item {display: flex;flex-direction: column;z-index: 1;position: relative;background-color: white;}#sk-container-id-2 div.sk-parallel-item:first-child::after {align-self: flex-end;width: 50%;}#sk-container-id-2 div.sk-parallel-item:last-child::after {align-self: flex-start;width: 50%;}#sk-container-id-2 div.sk-parallel-item:only-child::after {width: 0;}#sk-container-id-2 div.sk-dashed-wrapped {border: 1px dashed gray;margin: 0 0.4em 0.5em 0.4em;box-sizing: border-box;padding-bottom: 0.4em;background-color: white;}#sk-container-id-2 div.sk-label label {font-family: monospace;font-weight: bold;display: inline-block;line-height: 1.2em;}#sk-container-id-2 div.sk-label-container {text-align: center;}#sk-container-id-2 div.sk-container {/* jupyter's `normalize.less` sets `[hidden] { display: none; }` but bootstrap.min.css set `[hidden] { display: none !important; }` so we also need the `!important` here to be able to override the default hidden behavior on the sphinx rendered scikit-learn.org. See: https://github.com/scikit-learn/scikit-learn/issues/21755 */display: inline-block !important;position: relative;}#sk-container-id-2 div.sk-text-repr-fallback {display: none;}</style><div id=\"sk-container-id-2\" class=\"sk-top-container\"><div class=\"sk-text-repr-fallback\"><pre>LinearRegression()</pre><b>In a Jupyter environment, please rerun this cell to show the HTML representation or trust the notebook. <br />On GitHub, the HTML representation is unable to render, please try loading this page with nbviewer.org.</b></div><div class=\"sk-container\" hidden><div class=\"sk-item\"><div class=\"sk-estimator sk-toggleable\"><input class=\"sk-toggleable__control sk-hidden--visually\" id=\"sk-estimator-id-2\" type=\"checkbox\" checked><label for=\"sk-estimator-id-2\" class=\"sk-toggleable__label sk-toggleable__label-arrow\">LinearRegression</label><div class=\"sk-toggleable__content\"><pre>LinearRegression()</pre></div></div></div></div></div>"
     },
     "execution_count": 14,
     "metadata": {},
     "output_type": "execute_result"
    }
   ],
   "source": [
    "# Create an instance of the Linear Regression model\n",
    "reg = LinearRegression(fit_intercept=True, normalize='deprecated', copy_X=True)\n",
    "\n",
    "# Fit the data to the Linear Regression model (train the model)\n",
    "reg.fit(X_train,Y_train)"
   ]
  },
  {
   "cell_type": "code",
   "execution_count": 15,
   "metadata": {
    "ExecuteTime": {
     "end_time": "2021-10-25T06:45:28.880149Z",
     "start_time": "2021-10-25T06:45:28.869683Z"
    },
    "pycharm": {
     "name": "#%%\n"
    }
   },
   "outputs": [
    {
     "data": {
      "text/plain": "          Coeficients\nMedInc       0.431509\nHouseAge     0.017173",
      "text/html": "<div>\n<style scoped>\n    .dataframe tbody tr th:only-of-type {\n        vertical-align: middle;\n    }\n\n    .dataframe tbody tr th {\n        vertical-align: top;\n    }\n\n    .dataframe thead th {\n        text-align: right;\n    }\n</style>\n<table border=\"1\" class=\"dataframe\">\n  <thead>\n    <tr style=\"text-align: right;\">\n      <th></th>\n      <th>Coeficients</th>\n    </tr>\n  </thead>\n  <tbody>\n    <tr>\n      <th>MedInc</th>\n      <td>0.431509</td>\n    </tr>\n    <tr>\n      <th>HouseAge</th>\n      <td>0.017173</td>\n    </tr>\n  </tbody>\n</table>\n</div>"
     },
     "execution_count": 15,
     "metadata": {},
     "output_type": "execute_result"
    }
   ],
   "source": [
    "# Determine the coeficients of the model\n",
    "reg.coef_\n",
    "pd.DataFrame(reg.coef_, index=X.columns, columns =[\"Coeficients\"])\n",
    "\n"
   ]
  },
  {
   "cell_type": "code",
   "execution_count": 16,
   "metadata": {
    "ExecuteTime": {
     "end_time": "2021-10-25T06:45:44.706654Z",
     "start_time": "2021-10-25T06:45:44.679121Z"
    },
    "pycharm": {
     "name": "#%%\n"
    }
   },
   "outputs": [
    {
     "data": {
      "text/plain": "   Intercept\n0  -0.093104",
      "text/html": "<div>\n<style scoped>\n    .dataframe tbody tr th:only-of-type {\n        vertical-align: middle;\n    }\n\n    .dataframe tbody tr th {\n        vertical-align: top;\n    }\n\n    .dataframe thead th {\n        text-align: right;\n    }\n</style>\n<table border=\"1\" class=\"dataframe\">\n  <thead>\n    <tr style=\"text-align: right;\">\n      <th></th>\n      <th>Intercept</th>\n    </tr>\n  </thead>\n  <tbody>\n    <tr>\n      <th>0</th>\n      <td>-0.093104</td>\n    </tr>\n  </tbody>\n</table>\n</div>"
     },
     "execution_count": 16,
     "metadata": {},
     "output_type": "execute_result"
    }
   ],
   "source": [
    "# Determine the intecept of the model\n",
    "reg.intercept_\n",
    "pd.DataFrame([reg.intercept_], columns =[\"Intercept\"])"
   ]
  },
  {
   "cell_type": "code",
   "execution_count": 17,
   "metadata": {
    "pycharm": {
     "name": "#%%\n"
    }
   },
   "outputs": [],
   "source": [
    "#y = 0.431509*MedInc + 0.017173*HouseAge + -0.093104"
   ]
  },
  {
   "cell_type": "code",
   "execution_count": 18,
   "metadata": {
    "ExecuteTime": {
     "end_time": "2021-10-25T06:45:48.622412Z",
     "start_time": "2021-10-25T06:45:48.614803Z"
    },
    "pycharm": {
     "name": "#%%\n"
    }
   },
   "outputs": [],
   "source": [
    "# Now that the model has been trained, we can make predictions\n",
    "predictions = reg.predict(X_test)"
   ]
  },
  {
   "cell_type": "code",
   "execution_count": 19,
   "metadata": {
    "ExecuteTime": {
     "end_time": "2021-10-25T06:45:54.878364Z",
     "start_time": "2021-10-25T06:45:54.870543Z"
    },
    "pycharm": {
     "name": "#%%\n"
    }
   },
   "outputs": [
    {
     "name": "stdout",
     "output_type": "stream",
     "text": [
      "Square root of the mean squared error 0.8158350049867046\n",
      "Determination Coeficient 0.5045069388606385\n"
     ]
    }
   ],
   "source": [
    "# To determine the performance of the model we can use some metrics\n",
    "\n",
    "# Square root of the mean squared error:\n",
    "test_rmse = np.sqrt(mean_squared_error(Y_test,predictions))\n",
    "\n",
    "# Determination coeficient (R2)\n",
    "test_r2sc = r2_score(Y_test, predictions)\n",
    "\n",
    "# Remember the lower the value is the better it is\n",
    "print(\"Square root of the mean squared error\",test_rmse)\n",
    "\n",
    "\n",
    "# The closer to one the better\n",
    "print(\"Determination Coeficient\",test_r2sc)"
   ]
  },
  {
   "cell_type": "code",
   "execution_count": 20,
   "metadata": {
    "ExecuteTime": {
     "end_time": "2021-10-25T06:46:17.005878Z",
     "start_time": "2021-10-25T06:46:16.992096Z"
    },
    "pycharm": {
     "name": "#%%\n"
    }
   },
   "outputs": [],
   "source": [
    "# Save the model into a file\n",
    "with open(\"linear_regression_model_1.pkl\",\"wb\") as f:\n",
    "    pickle.dump(reg,f)\n",
    "\n",
    "# to use the model later, one can do:\n",
    "#with open(\"linear_regression_model.pkl\",\"rb\") as f:\n",
    "#    model = pickle.load(f)"
   ]
  },
  {
   "cell_type": "code",
   "execution_count": 23,
   "metadata": {
    "ExecuteTime": {
     "end_time": "2021-10-25T06:46:21.539917Z",
     "start_time": "2021-10-25T06:46:21.493754Z"
    },
    "pycharm": {
     "name": "#%%\n"
    }
   },
   "outputs": [],
   "source": [
    "%matplotlib notebook"
   ]
  },
  {
   "cell_type": "code",
   "execution_count": 26,
   "metadata": {
    "ExecuteTime": {
     "end_time": "2021-10-25T06:46:25.844907Z",
     "start_time": "2021-10-25T06:46:25.648036Z"
    },
    "pycharm": {
     "name": "#%%\n"
    }
   },
   "outputs": [
    {
     "data": {
      "text/plain": "<IPython.core.display.Javascript object>",
      "application/javascript": "/* Put everything inside the global mpl namespace */\n/* global mpl */\nwindow.mpl = {};\n\nmpl.get_websocket_type = function () {\n    if (typeof WebSocket !== 'undefined') {\n        return WebSocket;\n    } else if (typeof MozWebSocket !== 'undefined') {\n        return MozWebSocket;\n    } else {\n        alert(\n            'Your browser does not have WebSocket support. ' +\n                'Please try Chrome, Safari or Firefox ≥ 6. ' +\n                'Firefox 4 and 5 are also supported but you ' +\n                'have to enable WebSockets in about:config.'\n        );\n    }\n};\n\nmpl.figure = function (figure_id, websocket, ondownload, parent_element) {\n    this.id = figure_id;\n\n    this.ws = websocket;\n\n    this.supports_binary = this.ws.binaryType !== undefined;\n\n    if (!this.supports_binary) {\n        var warnings = document.getElementById('mpl-warnings');\n        if (warnings) {\n            warnings.style.display = 'block';\n            warnings.textContent =\n                'This browser does not support binary websocket messages. ' +\n                'Performance may be slow.';\n        }\n    }\n\n    this.imageObj = new Image();\n\n    this.context = undefined;\n    this.message = undefined;\n    this.canvas = undefined;\n    this.rubberband_canvas = undefined;\n    this.rubberband_context = undefined;\n    this.format_dropdown = undefined;\n\n    this.image_mode = 'full';\n\n    this.root = document.createElement('div');\n    this.root.setAttribute('style', 'display: inline-block');\n    this._root_extra_style(this.root);\n\n    parent_element.appendChild(this.root);\n\n    this._init_header(this);\n    this._init_canvas(this);\n    this._init_toolbar(this);\n\n    var fig = this;\n\n    this.waiting = false;\n\n    this.ws.onopen = function () {\n        fig.send_message('supports_binary', { value: fig.supports_binary });\n        fig.send_message('send_image_mode', {});\n        if (fig.ratio !== 1) {\n            fig.send_message('set_device_pixel_ratio', {\n                device_pixel_ratio: fig.ratio,\n            });\n        }\n        fig.send_message('refresh', {});\n    };\n\n    this.imageObj.onload = function () {\n        if (fig.image_mode === 'full') {\n            // Full images could contain transparency (where diff images\n            // almost always do), so we need to clear the canvas so that\n            // there is no ghosting.\n            fig.context.clearRect(0, 0, fig.canvas.width, fig.canvas.height);\n        }\n        fig.context.drawImage(fig.imageObj, 0, 0);\n    };\n\n    this.imageObj.onunload = function () {\n        fig.ws.close();\n    };\n\n    this.ws.onmessage = this._make_on_message_function(this);\n\n    this.ondownload = ondownload;\n};\n\nmpl.figure.prototype._init_header = function () {\n    var titlebar = document.createElement('div');\n    titlebar.classList =\n        'ui-dialog-titlebar ui-widget-header ui-corner-all ui-helper-clearfix';\n    var titletext = document.createElement('div');\n    titletext.classList = 'ui-dialog-title';\n    titletext.setAttribute(\n        'style',\n        'width: 100%; text-align: center; padding: 3px;'\n    );\n    titlebar.appendChild(titletext);\n    this.root.appendChild(titlebar);\n    this.header = titletext;\n};\n\nmpl.figure.prototype._canvas_extra_style = function (_canvas_div) {};\n\nmpl.figure.prototype._root_extra_style = function (_canvas_div) {};\n\nmpl.figure.prototype._init_canvas = function () {\n    var fig = this;\n\n    var canvas_div = (this.canvas_div = document.createElement('div'));\n    canvas_div.setAttribute(\n        'style',\n        'border: 1px solid #ddd;' +\n            'box-sizing: content-box;' +\n            'clear: both;' +\n            'min-height: 1px;' +\n            'min-width: 1px;' +\n            'outline: 0;' +\n            'overflow: hidden;' +\n            'position: relative;' +\n            'resize: both;'\n    );\n\n    function on_keyboard_event_closure(name) {\n        return function (event) {\n            return fig.key_event(event, name);\n        };\n    }\n\n    canvas_div.addEventListener(\n        'keydown',\n        on_keyboard_event_closure('key_press')\n    );\n    canvas_div.addEventListener(\n        'keyup',\n        on_keyboard_event_closure('key_release')\n    );\n\n    this._canvas_extra_style(canvas_div);\n    this.root.appendChild(canvas_div);\n\n    var canvas = (this.canvas = document.createElement('canvas'));\n    canvas.classList.add('mpl-canvas');\n    canvas.setAttribute('style', 'box-sizing: content-box;');\n\n    this.context = canvas.getContext('2d');\n\n    var backingStore =\n        this.context.backingStorePixelRatio ||\n        this.context.webkitBackingStorePixelRatio ||\n        this.context.mozBackingStorePixelRatio ||\n        this.context.msBackingStorePixelRatio ||\n        this.context.oBackingStorePixelRatio ||\n        this.context.backingStorePixelRatio ||\n        1;\n\n    this.ratio = (window.devicePixelRatio || 1) / backingStore;\n\n    var rubberband_canvas = (this.rubberband_canvas = document.createElement(\n        'canvas'\n    ));\n    rubberband_canvas.setAttribute(\n        'style',\n        'box-sizing: content-box; position: absolute; left: 0; top: 0; z-index: 1;'\n    );\n\n    // Apply a ponyfill if ResizeObserver is not implemented by browser.\n    if (this.ResizeObserver === undefined) {\n        if (window.ResizeObserver !== undefined) {\n            this.ResizeObserver = window.ResizeObserver;\n        } else {\n            var obs = _JSXTOOLS_RESIZE_OBSERVER({});\n            this.ResizeObserver = obs.ResizeObserver;\n        }\n    }\n\n    this.resizeObserverInstance = new this.ResizeObserver(function (entries) {\n        var nentries = entries.length;\n        for (var i = 0; i < nentries; i++) {\n            var entry = entries[i];\n            var width, height;\n            if (entry.contentBoxSize) {\n                if (entry.contentBoxSize instanceof Array) {\n                    // Chrome 84 implements new version of spec.\n                    width = entry.contentBoxSize[0].inlineSize;\n                    height = entry.contentBoxSize[0].blockSize;\n                } else {\n                    // Firefox implements old version of spec.\n                    width = entry.contentBoxSize.inlineSize;\n                    height = entry.contentBoxSize.blockSize;\n                }\n            } else {\n                // Chrome <84 implements even older version of spec.\n                width = entry.contentRect.width;\n                height = entry.contentRect.height;\n            }\n\n            // Keep the size of the canvas and rubber band canvas in sync with\n            // the canvas container.\n            if (entry.devicePixelContentBoxSize) {\n                // Chrome 84 implements new version of spec.\n                canvas.setAttribute(\n                    'width',\n                    entry.devicePixelContentBoxSize[0].inlineSize\n                );\n                canvas.setAttribute(\n                    'height',\n                    entry.devicePixelContentBoxSize[0].blockSize\n                );\n            } else {\n                canvas.setAttribute('width', width * fig.ratio);\n                canvas.setAttribute('height', height * fig.ratio);\n            }\n            canvas.setAttribute(\n                'style',\n                'width: ' + width + 'px; height: ' + height + 'px;'\n            );\n\n            rubberband_canvas.setAttribute('width', width);\n            rubberband_canvas.setAttribute('height', height);\n\n            // And update the size in Python. We ignore the initial 0/0 size\n            // that occurs as the element is placed into the DOM, which should\n            // otherwise not happen due to the minimum size styling.\n            if (fig.ws.readyState == 1 && width != 0 && height != 0) {\n                fig.request_resize(width, height);\n            }\n        }\n    });\n    this.resizeObserverInstance.observe(canvas_div);\n\n    function on_mouse_event_closure(name) {\n        return function (event) {\n            return fig.mouse_event(event, name);\n        };\n    }\n\n    rubberband_canvas.addEventListener(\n        'mousedown',\n        on_mouse_event_closure('button_press')\n    );\n    rubberband_canvas.addEventListener(\n        'mouseup',\n        on_mouse_event_closure('button_release')\n    );\n    rubberband_canvas.addEventListener(\n        'dblclick',\n        on_mouse_event_closure('dblclick')\n    );\n    // Throttle sequential mouse events to 1 every 20ms.\n    rubberband_canvas.addEventListener(\n        'mousemove',\n        on_mouse_event_closure('motion_notify')\n    );\n\n    rubberband_canvas.addEventListener(\n        'mouseenter',\n        on_mouse_event_closure('figure_enter')\n    );\n    rubberband_canvas.addEventListener(\n        'mouseleave',\n        on_mouse_event_closure('figure_leave')\n    );\n\n    canvas_div.addEventListener('wheel', function (event) {\n        if (event.deltaY < 0) {\n            event.step = 1;\n        } else {\n            event.step = -1;\n        }\n        on_mouse_event_closure('scroll')(event);\n    });\n\n    canvas_div.appendChild(canvas);\n    canvas_div.appendChild(rubberband_canvas);\n\n    this.rubberband_context = rubberband_canvas.getContext('2d');\n    this.rubberband_context.strokeStyle = '#000000';\n\n    this._resize_canvas = function (width, height, forward) {\n        if (forward) {\n            canvas_div.style.width = width + 'px';\n            canvas_div.style.height = height + 'px';\n        }\n    };\n\n    // Disable right mouse context menu.\n    this.rubberband_canvas.addEventListener('contextmenu', function (_e) {\n        event.preventDefault();\n        return false;\n    });\n\n    function set_focus() {\n        canvas.focus();\n        canvas_div.focus();\n    }\n\n    window.setTimeout(set_focus, 100);\n};\n\nmpl.figure.prototype._init_toolbar = function () {\n    var fig = this;\n\n    var toolbar = document.createElement('div');\n    toolbar.classList = 'mpl-toolbar';\n    this.root.appendChild(toolbar);\n\n    function on_click_closure(name) {\n        return function (_event) {\n            return fig.toolbar_button_onclick(name);\n        };\n    }\n\n    function on_mouseover_closure(tooltip) {\n        return function (event) {\n            if (!event.currentTarget.disabled) {\n                return fig.toolbar_button_onmouseover(tooltip);\n            }\n        };\n    }\n\n    fig.buttons = {};\n    var buttonGroup = document.createElement('div');\n    buttonGroup.classList = 'mpl-button-group';\n    for (var toolbar_ind in mpl.toolbar_items) {\n        var name = mpl.toolbar_items[toolbar_ind][0];\n        var tooltip = mpl.toolbar_items[toolbar_ind][1];\n        var image = mpl.toolbar_items[toolbar_ind][2];\n        var method_name = mpl.toolbar_items[toolbar_ind][3];\n\n        if (!name) {\n            /* Instead of a spacer, we start a new button group. */\n            if (buttonGroup.hasChildNodes()) {\n                toolbar.appendChild(buttonGroup);\n            }\n            buttonGroup = document.createElement('div');\n            buttonGroup.classList = 'mpl-button-group';\n            continue;\n        }\n\n        var button = (fig.buttons[name] = document.createElement('button'));\n        button.classList = 'mpl-widget';\n        button.setAttribute('role', 'button');\n        button.setAttribute('aria-disabled', 'false');\n        button.addEventListener('click', on_click_closure(method_name));\n        button.addEventListener('mouseover', on_mouseover_closure(tooltip));\n\n        var icon_img = document.createElement('img');\n        icon_img.src = '_images/' + image + '.png';\n        icon_img.srcset = '_images/' + image + '_large.png 2x';\n        icon_img.alt = tooltip;\n        button.appendChild(icon_img);\n\n        buttonGroup.appendChild(button);\n    }\n\n    if (buttonGroup.hasChildNodes()) {\n        toolbar.appendChild(buttonGroup);\n    }\n\n    var fmt_picker = document.createElement('select');\n    fmt_picker.classList = 'mpl-widget';\n    toolbar.appendChild(fmt_picker);\n    this.format_dropdown = fmt_picker;\n\n    for (var ind in mpl.extensions) {\n        var fmt = mpl.extensions[ind];\n        var option = document.createElement('option');\n        option.selected = fmt === mpl.default_extension;\n        option.innerHTML = fmt;\n        fmt_picker.appendChild(option);\n    }\n\n    var status_bar = document.createElement('span');\n    status_bar.classList = 'mpl-message';\n    toolbar.appendChild(status_bar);\n    this.message = status_bar;\n};\n\nmpl.figure.prototype.request_resize = function (x_pixels, y_pixels) {\n    // Request matplotlib to resize the figure. Matplotlib will then trigger a resize in the client,\n    // which will in turn request a refresh of the image.\n    this.send_message('resize', { width: x_pixels, height: y_pixels });\n};\n\nmpl.figure.prototype.send_message = function (type, properties) {\n    properties['type'] = type;\n    properties['figure_id'] = this.id;\n    this.ws.send(JSON.stringify(properties));\n};\n\nmpl.figure.prototype.send_draw_message = function () {\n    if (!this.waiting) {\n        this.waiting = true;\n        this.ws.send(JSON.stringify({ type: 'draw', figure_id: this.id }));\n    }\n};\n\nmpl.figure.prototype.handle_save = function (fig, _msg) {\n    var format_dropdown = fig.format_dropdown;\n    var format = format_dropdown.options[format_dropdown.selectedIndex].value;\n    fig.ondownload(fig, format);\n};\n\nmpl.figure.prototype.handle_resize = function (fig, msg) {\n    var size = msg['size'];\n    if (size[0] !== fig.canvas.width || size[1] !== fig.canvas.height) {\n        fig._resize_canvas(size[0], size[1], msg['forward']);\n        fig.send_message('refresh', {});\n    }\n};\n\nmpl.figure.prototype.handle_rubberband = function (fig, msg) {\n    var x0 = msg['x0'] / fig.ratio;\n    var y0 = (fig.canvas.height - msg['y0']) / fig.ratio;\n    var x1 = msg['x1'] / fig.ratio;\n    var y1 = (fig.canvas.height - msg['y1']) / fig.ratio;\n    x0 = Math.floor(x0) + 0.5;\n    y0 = Math.floor(y0) + 0.5;\n    x1 = Math.floor(x1) + 0.5;\n    y1 = Math.floor(y1) + 0.5;\n    var min_x = Math.min(x0, x1);\n    var min_y = Math.min(y0, y1);\n    var width = Math.abs(x1 - x0);\n    var height = Math.abs(y1 - y0);\n\n    fig.rubberband_context.clearRect(\n        0,\n        0,\n        fig.canvas.width / fig.ratio,\n        fig.canvas.height / fig.ratio\n    );\n\n    fig.rubberband_context.strokeRect(min_x, min_y, width, height);\n};\n\nmpl.figure.prototype.handle_figure_label = function (fig, msg) {\n    // Updates the figure title.\n    fig.header.textContent = msg['label'];\n};\n\nmpl.figure.prototype.handle_cursor = function (fig, msg) {\n    fig.rubberband_canvas.style.cursor = msg['cursor'];\n};\n\nmpl.figure.prototype.handle_message = function (fig, msg) {\n    fig.message.textContent = msg['message'];\n};\n\nmpl.figure.prototype.handle_draw = function (fig, _msg) {\n    // Request the server to send over a new figure.\n    fig.send_draw_message();\n};\n\nmpl.figure.prototype.handle_image_mode = function (fig, msg) {\n    fig.image_mode = msg['mode'];\n};\n\nmpl.figure.prototype.handle_history_buttons = function (fig, msg) {\n    for (var key in msg) {\n        if (!(key in fig.buttons)) {\n            continue;\n        }\n        fig.buttons[key].disabled = !msg[key];\n        fig.buttons[key].setAttribute('aria-disabled', !msg[key]);\n    }\n};\n\nmpl.figure.prototype.handle_navigate_mode = function (fig, msg) {\n    if (msg['mode'] === 'PAN') {\n        fig.buttons['Pan'].classList.add('active');\n        fig.buttons['Zoom'].classList.remove('active');\n    } else if (msg['mode'] === 'ZOOM') {\n        fig.buttons['Pan'].classList.remove('active');\n        fig.buttons['Zoom'].classList.add('active');\n    } else {\n        fig.buttons['Pan'].classList.remove('active');\n        fig.buttons['Zoom'].classList.remove('active');\n    }\n};\n\nmpl.figure.prototype.updated_canvas_event = function () {\n    // Called whenever the canvas gets updated.\n    this.send_message('ack', {});\n};\n\n// A function to construct a web socket function for onmessage handling.\n// Called in the figure constructor.\nmpl.figure.prototype._make_on_message_function = function (fig) {\n    return function socket_on_message(evt) {\n        if (evt.data instanceof Blob) {\n            var img = evt.data;\n            if (img.type !== 'image/png') {\n                /* FIXME: We get \"Resource interpreted as Image but\n                 * transferred with MIME type text/plain:\" errors on\n                 * Chrome.  But how to set the MIME type?  It doesn't seem\n                 * to be part of the websocket stream */\n                img.type = 'image/png';\n            }\n\n            /* Free the memory for the previous frames */\n            if (fig.imageObj.src) {\n                (window.URL || window.webkitURL).revokeObjectURL(\n                    fig.imageObj.src\n                );\n            }\n\n            fig.imageObj.src = (window.URL || window.webkitURL).createObjectURL(\n                img\n            );\n            fig.updated_canvas_event();\n            fig.waiting = false;\n            return;\n        } else if (\n            typeof evt.data === 'string' &&\n            evt.data.slice(0, 21) === 'data:image/png;base64'\n        ) {\n            fig.imageObj.src = evt.data;\n            fig.updated_canvas_event();\n            fig.waiting = false;\n            return;\n        }\n\n        var msg = JSON.parse(evt.data);\n        var msg_type = msg['type'];\n\n        // Call the  \"handle_{type}\" callback, which takes\n        // the figure and JSON message as its only arguments.\n        try {\n            var callback = fig['handle_' + msg_type];\n        } catch (e) {\n            console.log(\n                \"No handler for the '\" + msg_type + \"' message type: \",\n                msg\n            );\n            return;\n        }\n\n        if (callback) {\n            try {\n                // console.log(\"Handling '\" + msg_type + \"' message: \", msg);\n                callback(fig, msg);\n            } catch (e) {\n                console.log(\n                    \"Exception inside the 'handler_\" + msg_type + \"' callback:\",\n                    e,\n                    e.stack,\n                    msg\n                );\n            }\n        }\n    };\n};\n\n// from https://stackoverflow.com/questions/1114465/getting-mouse-location-in-canvas\nmpl.findpos = function (e) {\n    //this section is from http://www.quirksmode.org/js/events_properties.html\n    var targ;\n    if (!e) {\n        e = window.event;\n    }\n    if (e.target) {\n        targ = e.target;\n    } else if (e.srcElement) {\n        targ = e.srcElement;\n    }\n    if (targ.nodeType === 3) {\n        // defeat Safari bug\n        targ = targ.parentNode;\n    }\n\n    // pageX,Y are the mouse positions relative to the document\n    var boundingRect = targ.getBoundingClientRect();\n    var x = e.pageX - (boundingRect.left + document.body.scrollLeft);\n    var y = e.pageY - (boundingRect.top + document.body.scrollTop);\n\n    return { x: x, y: y };\n};\n\n/*\n * return a copy of an object with only non-object keys\n * we need this to avoid circular references\n * https://stackoverflow.com/a/24161582/3208463\n */\nfunction simpleKeys(original) {\n    return Object.keys(original).reduce(function (obj, key) {\n        if (typeof original[key] !== 'object') {\n            obj[key] = original[key];\n        }\n        return obj;\n    }, {});\n}\n\nmpl.figure.prototype.mouse_event = function (event, name) {\n    var canvas_pos = mpl.findpos(event);\n\n    if (name === 'button_press') {\n        this.canvas.focus();\n        this.canvas_div.focus();\n    }\n\n    var x = canvas_pos.x * this.ratio;\n    var y = canvas_pos.y * this.ratio;\n\n    this.send_message(name, {\n        x: x,\n        y: y,\n        button: event.button,\n        step: event.step,\n        guiEvent: simpleKeys(event),\n    });\n\n    /* This prevents the web browser from automatically changing to\n     * the text insertion cursor when the button is pressed.  We want\n     * to control all of the cursor setting manually through the\n     * 'cursor' event from matplotlib */\n    event.preventDefault();\n    return false;\n};\n\nmpl.figure.prototype._key_event_extra = function (_event, _name) {\n    // Handle any extra behaviour associated with a key event\n};\n\nmpl.figure.prototype.key_event = function (event, name) {\n    // Prevent repeat events\n    if (name === 'key_press') {\n        if (event.key === this._key) {\n            return;\n        } else {\n            this._key = event.key;\n        }\n    }\n    if (name === 'key_release') {\n        this._key = null;\n    }\n\n    var value = '';\n    if (event.ctrlKey && event.key !== 'Control') {\n        value += 'ctrl+';\n    }\n    else if (event.altKey && event.key !== 'Alt') {\n        value += 'alt+';\n    }\n    else if (event.shiftKey && event.key !== 'Shift') {\n        value += 'shift+';\n    }\n\n    value += 'k' + event.key;\n\n    this._key_event_extra(event, name);\n\n    this.send_message(name, { key: value, guiEvent: simpleKeys(event) });\n    return false;\n};\n\nmpl.figure.prototype.toolbar_button_onclick = function (name) {\n    if (name === 'download') {\n        this.handle_save(this, null);\n    } else {\n        this.send_message('toolbar_button', { name: name });\n    }\n};\n\nmpl.figure.prototype.toolbar_button_onmouseover = function (tooltip) {\n    this.message.textContent = tooltip;\n};\n\n///////////////// REMAINING CONTENT GENERATED BY embed_js.py /////////////////\n// prettier-ignore\nvar _JSXTOOLS_RESIZE_OBSERVER=function(A){var t,i=new WeakMap,n=new WeakMap,a=new WeakMap,r=new WeakMap,o=new Set;function s(e){if(!(this instanceof s))throw new TypeError(\"Constructor requires 'new' operator\");i.set(this,e)}function h(){throw new TypeError(\"Function is not a constructor\")}function c(e,t,i,n){e=0 in arguments?Number(arguments[0]):0,t=1 in arguments?Number(arguments[1]):0,i=2 in arguments?Number(arguments[2]):0,n=3 in arguments?Number(arguments[3]):0,this.right=(this.x=this.left=e)+(this.width=i),this.bottom=(this.y=this.top=t)+(this.height=n),Object.freeze(this)}function d(){t=requestAnimationFrame(d);var s=new WeakMap,p=new Set;o.forEach((function(t){r.get(t).forEach((function(i){var r=t instanceof window.SVGElement,o=a.get(t),d=r?0:parseFloat(o.paddingTop),f=r?0:parseFloat(o.paddingRight),l=r?0:parseFloat(o.paddingBottom),u=r?0:parseFloat(o.paddingLeft),g=r?0:parseFloat(o.borderTopWidth),m=r?0:parseFloat(o.borderRightWidth),w=r?0:parseFloat(o.borderBottomWidth),b=u+f,F=d+l,v=(r?0:parseFloat(o.borderLeftWidth))+m,W=g+w,y=r?0:t.offsetHeight-W-t.clientHeight,E=r?0:t.offsetWidth-v-t.clientWidth,R=b+v,z=F+W,M=r?t.width:parseFloat(o.width)-R-E,O=r?t.height:parseFloat(o.height)-z-y;if(n.has(t)){var k=n.get(t);if(k[0]===M&&k[1]===O)return}n.set(t,[M,O]);var S=Object.create(h.prototype);S.target=t,S.contentRect=new c(u,d,M,O),s.has(i)||(s.set(i,[]),p.add(i)),s.get(i).push(S)}))})),p.forEach((function(e){i.get(e).call(e,s.get(e),e)}))}return s.prototype.observe=function(i){if(i instanceof window.Element){r.has(i)||(r.set(i,new Set),o.add(i),a.set(i,window.getComputedStyle(i)));var n=r.get(i);n.has(this)||n.add(this),cancelAnimationFrame(t),t=requestAnimationFrame(d)}},s.prototype.unobserve=function(i){if(i instanceof window.Element&&r.has(i)){var n=r.get(i);n.has(this)&&(n.delete(this),n.size||(r.delete(i),o.delete(i))),n.size||r.delete(i),o.size||cancelAnimationFrame(t)}},A.DOMRectReadOnly=c,A.ResizeObserver=s,A.ResizeObserverEntry=h,A}; // eslint-disable-line\nmpl.toolbar_items = [[\"Home\", \"Reset original view\", \"fa fa-home icon-home\", \"home\"], [\"Back\", \"Back to previous view\", \"fa fa-arrow-left icon-arrow-left\", \"back\"], [\"Forward\", \"Forward to next view\", \"fa fa-arrow-right icon-arrow-right\", \"forward\"], [\"\", \"\", \"\", \"\"], [\"Pan\", \"Left button pans, Right button zooms\\nx/y fixes axis, CTRL fixes aspect\", \"fa fa-arrows icon-move\", \"pan\"], [\"Zoom\", \"Zoom to rectangle\\nx/y fixes axis\", \"fa fa-square-o icon-check-empty\", \"zoom\"], [\"\", \"\", \"\", \"\"], [\"Download\", \"Download plot\", \"fa fa-floppy-o icon-save\", \"download\"]];\n\nmpl.extensions = [\"eps\", \"jpeg\", \"pgf\", \"pdf\", \"png\", \"ps\", \"raw\", \"svg\", \"tif\"];\n\nmpl.default_extension = \"png\";/* global mpl */\n\nvar comm_websocket_adapter = function (comm) {\n    // Create a \"websocket\"-like object which calls the given IPython comm\n    // object with the appropriate methods. Currently this is a non binary\n    // socket, so there is still some room for performance tuning.\n    var ws = {};\n\n    ws.binaryType = comm.kernel.ws.binaryType;\n    ws.readyState = comm.kernel.ws.readyState;\n    function updateReadyState(_event) {\n        if (comm.kernel.ws) {\n            ws.readyState = comm.kernel.ws.readyState;\n        } else {\n            ws.readyState = 3; // Closed state.\n        }\n    }\n    comm.kernel.ws.addEventListener('open', updateReadyState);\n    comm.kernel.ws.addEventListener('close', updateReadyState);\n    comm.kernel.ws.addEventListener('error', updateReadyState);\n\n    ws.close = function () {\n        comm.close();\n    };\n    ws.send = function (m) {\n        //console.log('sending', m);\n        comm.send(m);\n    };\n    // Register the callback with on_msg.\n    comm.on_msg(function (msg) {\n        //console.log('receiving', msg['content']['data'], msg);\n        var data = msg['content']['data'];\n        if (data['blob'] !== undefined) {\n            data = {\n                data: new Blob(msg['buffers'], { type: data['blob'] }),\n            };\n        }\n        // Pass the mpl event to the overridden (by mpl) onmessage function.\n        ws.onmessage(data);\n    });\n    return ws;\n};\n\nmpl.mpl_figure_comm = function (comm, msg) {\n    // This is the function which gets called when the mpl process\n    // starts-up an IPython Comm through the \"matplotlib\" channel.\n\n    var id = msg.content.data.id;\n    // Get hold of the div created by the display call when the Comm\n    // socket was opened in Python.\n    var element = document.getElementById(id);\n    var ws_proxy = comm_websocket_adapter(comm);\n\n    function ondownload(figure, _format) {\n        window.open(figure.canvas.toDataURL());\n    }\n\n    var fig = new mpl.figure(id, ws_proxy, ondownload, element);\n\n    // Call onopen now - mpl needs it, as it is assuming we've passed it a real\n    // web socket which is closed, not our websocket->open comm proxy.\n    ws_proxy.onopen();\n\n    fig.parent_element = element;\n    fig.cell_info = mpl.find_output_cell(\"<div id='\" + id + \"'></div>\");\n    if (!fig.cell_info) {\n        console.error('Failed to find cell for figure', id, fig);\n        return;\n    }\n    fig.cell_info[0].output_area.element.on(\n        'cleared',\n        { fig: fig },\n        fig._remove_fig_handler\n    );\n};\n\nmpl.figure.prototype.handle_close = function (fig, msg) {\n    var width = fig.canvas.width / fig.ratio;\n    fig.cell_info[0].output_area.element.off(\n        'cleared',\n        fig._remove_fig_handler\n    );\n    fig.resizeObserverInstance.unobserve(fig.canvas_div);\n\n    // Update the output cell to use the data from the current canvas.\n    fig.push_to_output();\n    var dataURL = fig.canvas.toDataURL();\n    // Re-enable the keyboard manager in IPython - without this line, in FF,\n    // the notebook keyboard shortcuts fail.\n    IPython.keyboard_manager.enable();\n    fig.parent_element.innerHTML =\n        '<img src=\"' + dataURL + '\" width=\"' + width + '\">';\n    fig.close_ws(fig, msg);\n};\n\nmpl.figure.prototype.close_ws = function (fig, msg) {\n    fig.send_message('closing', msg);\n    // fig.ws.close()\n};\n\nmpl.figure.prototype.push_to_output = function (_remove_interactive) {\n    // Turn the data on the canvas into data in the output cell.\n    var width = this.canvas.width / this.ratio;\n    var dataURL = this.canvas.toDataURL();\n    this.cell_info[1]['text/html'] =\n        '<img src=\"' + dataURL + '\" width=\"' + width + '\">';\n};\n\nmpl.figure.prototype.updated_canvas_event = function () {\n    // Tell IPython that the notebook contents must change.\n    IPython.notebook.set_dirty(true);\n    this.send_message('ack', {});\n    var fig = this;\n    // Wait a second, then push the new image to the DOM so\n    // that it is saved nicely (might be nice to debounce this).\n    setTimeout(function () {\n        fig.push_to_output();\n    }, 1000);\n};\n\nmpl.figure.prototype._init_toolbar = function () {\n    var fig = this;\n\n    var toolbar = document.createElement('div');\n    toolbar.classList = 'btn-toolbar';\n    this.root.appendChild(toolbar);\n\n    function on_click_closure(name) {\n        return function (_event) {\n            return fig.toolbar_button_onclick(name);\n        };\n    }\n\n    function on_mouseover_closure(tooltip) {\n        return function (event) {\n            if (!event.currentTarget.disabled) {\n                return fig.toolbar_button_onmouseover(tooltip);\n            }\n        };\n    }\n\n    fig.buttons = {};\n    var buttonGroup = document.createElement('div');\n    buttonGroup.classList = 'btn-group';\n    var button;\n    for (var toolbar_ind in mpl.toolbar_items) {\n        var name = mpl.toolbar_items[toolbar_ind][0];\n        var tooltip = mpl.toolbar_items[toolbar_ind][1];\n        var image = mpl.toolbar_items[toolbar_ind][2];\n        var method_name = mpl.toolbar_items[toolbar_ind][3];\n\n        if (!name) {\n            /* Instead of a spacer, we start a new button group. */\n            if (buttonGroup.hasChildNodes()) {\n                toolbar.appendChild(buttonGroup);\n            }\n            buttonGroup = document.createElement('div');\n            buttonGroup.classList = 'btn-group';\n            continue;\n        }\n\n        button = fig.buttons[name] = document.createElement('button');\n        button.classList = 'btn btn-default';\n        button.href = '#';\n        button.title = name;\n        button.innerHTML = '<i class=\"fa ' + image + ' fa-lg\"></i>';\n        button.addEventListener('click', on_click_closure(method_name));\n        button.addEventListener('mouseover', on_mouseover_closure(tooltip));\n        buttonGroup.appendChild(button);\n    }\n\n    if (buttonGroup.hasChildNodes()) {\n        toolbar.appendChild(buttonGroup);\n    }\n\n    // Add the status bar.\n    var status_bar = document.createElement('span');\n    status_bar.classList = 'mpl-message pull-right';\n    toolbar.appendChild(status_bar);\n    this.message = status_bar;\n\n    // Add the close button to the window.\n    var buttongrp = document.createElement('div');\n    buttongrp.classList = 'btn-group inline pull-right';\n    button = document.createElement('button');\n    button.classList = 'btn btn-mini btn-primary';\n    button.href = '#';\n    button.title = 'Stop Interaction';\n    button.innerHTML = '<i class=\"fa fa-power-off icon-remove icon-large\"></i>';\n    button.addEventListener('click', function (_evt) {\n        fig.handle_close(fig, {});\n    });\n    button.addEventListener(\n        'mouseover',\n        on_mouseover_closure('Stop Interaction')\n    );\n    buttongrp.appendChild(button);\n    var titlebar = this.root.querySelector('.ui-dialog-titlebar');\n    titlebar.insertBefore(buttongrp, titlebar.firstChild);\n};\n\nmpl.figure.prototype._remove_fig_handler = function (event) {\n    var fig = event.data.fig;\n    if (event.target !== this) {\n        // Ignore bubbled events from children.\n        return;\n    }\n    fig.close_ws(fig, {});\n};\n\nmpl.figure.prototype._root_extra_style = function (el) {\n    el.style.boxSizing = 'content-box'; // override notebook setting of border-box.\n};\n\nmpl.figure.prototype._canvas_extra_style = function (el) {\n    // this is important to make the div 'focusable\n    el.setAttribute('tabindex', 0);\n    // reach out to IPython and tell the keyboard manager to turn it's self\n    // off when our div gets focus\n\n    // location in version 3\n    if (IPython.notebook.keyboard_manager) {\n        IPython.notebook.keyboard_manager.register_events(el);\n    } else {\n        // location in version 2\n        IPython.keyboard_manager.register_events(el);\n    }\n};\n\nmpl.figure.prototype._key_event_extra = function (event, _name) {\n    // Check for shift+enter\n    if (event.shiftKey && event.which === 13) {\n        this.canvas_div.blur();\n        // select the cell after this one\n        var index = IPython.notebook.find_cell_index(this.cell_info[0]);\n        IPython.notebook.select(index + 1);\n    }\n};\n\nmpl.figure.prototype.handle_save = function (fig, _msg) {\n    fig.ondownload(fig, null);\n};\n\nmpl.find_output_cell = function (html_output) {\n    // Return the cell and output element which can be found *uniquely* in the notebook.\n    // Note - this is a bit hacky, but it is done because the \"notebook_saving.Notebook\"\n    // IPython event is triggered only after the cells have been serialised, which for\n    // our purposes (turning an active figure into a static one), is too late.\n    var cells = IPython.notebook.get_cells();\n    var ncells = cells.length;\n    for (var i = 0; i < ncells; i++) {\n        var cell = cells[i];\n        if (cell.cell_type === 'code') {\n            for (var j = 0; j < cell.output_area.outputs.length; j++) {\n                var data = cell.output_area.outputs[j];\n                if (data.data) {\n                    // IPython >= 3 moved mimebundle to data attribute of output\n                    data = data.data;\n                }\n                if (data['text/html'] === html_output) {\n                    return [cell, data, j];\n                }\n            }\n        }\n    }\n};\n\n// Register the function which deals with the matplotlib target/channel.\n// The kernel may be null if the page has been refreshed.\nif (IPython.notebook.kernel !== null) {\n    IPython.notebook.kernel.comm_manager.register_target(\n        'matplotlib',\n        mpl.mpl_figure_comm\n    );\n}\n"
     },
     "metadata": {},
     "output_type": "display_data"
    },
    {
     "data": {
      "text/plain": "<IPython.core.display.HTML object>",
      "text/html": "<div id='ecb81c47-c888-4512-8873-cb792b2c923b'></div>"
     },
     "metadata": {},
     "output_type": "display_data"
    }
   ],
   "source": [
    "# 3D visualization\n",
    "fig = plt.figure()\n",
    "ax = fig.add_subplot(111,projection='3d')\n",
    "ax.scatter(X.MedInc,X.HouseAge, Y, s=1)\n",
    "ax.scatter(X.MedInc, X.HouseAge, reg.predict(X), s=1)\n",
    "ax.set_xlabel(\"MedInc\")\n",
    "ax.set_ylabel(\"HouseAge\")\n",
    "ax.set_zlabel(\"median_house_value\")\n",
    "plt.show()"
   ]
  },
  {
   "cell_type": "markdown",
   "metadata": {
    "pycharm": {
     "name": "#%% md\n"
    }
   },
   "source": [
    "# Second Model"
   ]
  },
  {
   "cell_type": "code",
   "execution_count": 16,
   "metadata": {
    "ExecuteTime": {
     "end_time": "2021-10-25T06:46:59.189104Z",
     "start_time": "2021-10-25T06:46:59.181539Z"
    },
    "pycharm": {
     "name": "#%%\n"
    }
   },
   "outputs": [],
   "source": [
    "# Use all features\n",
    "X2 = df.drop('median_house_value',axis=1)\n",
    "Y2 = df[\"median_house_value\"]\n",
    "\n",
    "# Split the data into test and train\n",
    "X2_train, X2_test, Y2_train, Y2_test = train_test_split(X2,Y2, test_size=0.2, random_state=10)"
   ]
  },
  {
   "cell_type": "code",
   "execution_count": 17,
   "metadata": {
    "ExecuteTime": {
     "end_time": "2021-10-25T06:47:01.646515Z",
     "start_time": "2021-10-25T06:47:01.635844Z"
    },
    "pycharm": {
     "name": "#%%\n"
    }
   },
   "outputs": [
    {
     "data": {
      "text/html": [
       "<style>#sk-container-id-2 {color: black;background-color: white;}#sk-container-id-2 pre{padding: 0;}#sk-container-id-2 div.sk-toggleable {background-color: white;}#sk-container-id-2 label.sk-toggleable__label {cursor: pointer;display: block;width: 100%;margin-bottom: 0;padding: 0.3em;box-sizing: border-box;text-align: center;}#sk-container-id-2 label.sk-toggleable__label-arrow:before {content: \"▸\";float: left;margin-right: 0.25em;color: #696969;}#sk-container-id-2 label.sk-toggleable__label-arrow:hover:before {color: black;}#sk-container-id-2 div.sk-estimator:hover label.sk-toggleable__label-arrow:before {color: black;}#sk-container-id-2 div.sk-toggleable__content {max-height: 0;max-width: 0;overflow: hidden;text-align: left;background-color: #f0f8ff;}#sk-container-id-2 div.sk-toggleable__content pre {margin: 0.2em;color: black;border-radius: 0.25em;background-color: #f0f8ff;}#sk-container-id-2 input.sk-toggleable__control:checked~div.sk-toggleable__content {max-height: 200px;max-width: 100%;overflow: auto;}#sk-container-id-2 input.sk-toggleable__control:checked~label.sk-toggleable__label-arrow:before {content: \"▾\";}#sk-container-id-2 div.sk-estimator input.sk-toggleable__control:checked~label.sk-toggleable__label {background-color: #d4ebff;}#sk-container-id-2 div.sk-label input.sk-toggleable__control:checked~label.sk-toggleable__label {background-color: #d4ebff;}#sk-container-id-2 input.sk-hidden--visually {border: 0;clip: rect(1px 1px 1px 1px);clip: rect(1px, 1px, 1px, 1px);height: 1px;margin: -1px;overflow: hidden;padding: 0;position: absolute;width: 1px;}#sk-container-id-2 div.sk-estimator {font-family: monospace;background-color: #f0f8ff;border: 1px dotted black;border-radius: 0.25em;box-sizing: border-box;margin-bottom: 0.5em;}#sk-container-id-2 div.sk-estimator:hover {background-color: #d4ebff;}#sk-container-id-2 div.sk-parallel-item::after {content: \"\";width: 100%;border-bottom: 1px solid gray;flex-grow: 1;}#sk-container-id-2 div.sk-label:hover label.sk-toggleable__label {background-color: #d4ebff;}#sk-container-id-2 div.sk-serial::before {content: \"\";position: absolute;border-left: 1px solid gray;box-sizing: border-box;top: 0;bottom: 0;left: 50%;z-index: 0;}#sk-container-id-2 div.sk-serial {display: flex;flex-direction: column;align-items: center;background-color: white;padding-right: 0.2em;padding-left: 0.2em;position: relative;}#sk-container-id-2 div.sk-item {position: relative;z-index: 1;}#sk-container-id-2 div.sk-parallel {display: flex;align-items: stretch;justify-content: center;background-color: white;position: relative;}#sk-container-id-2 div.sk-item::before, #sk-container-id-2 div.sk-parallel-item::before {content: \"\";position: absolute;border-left: 1px solid gray;box-sizing: border-box;top: 0;bottom: 0;left: 50%;z-index: -1;}#sk-container-id-2 div.sk-parallel-item {display: flex;flex-direction: column;z-index: 1;position: relative;background-color: white;}#sk-container-id-2 div.sk-parallel-item:first-child::after {align-self: flex-end;width: 50%;}#sk-container-id-2 div.sk-parallel-item:last-child::after {align-self: flex-start;width: 50%;}#sk-container-id-2 div.sk-parallel-item:only-child::after {width: 0;}#sk-container-id-2 div.sk-dashed-wrapped {border: 1px dashed gray;margin: 0 0.4em 0.5em 0.4em;box-sizing: border-box;padding-bottom: 0.4em;background-color: white;}#sk-container-id-2 div.sk-label label {font-family: monospace;font-weight: bold;display: inline-block;line-height: 1.2em;}#sk-container-id-2 div.sk-label-container {text-align: center;}#sk-container-id-2 div.sk-container {/* jupyter's `normalize.less` sets `[hidden] { display: none; }` but bootstrap.min.css set `[hidden] { display: none !important; }` so we also need the `!important` here to be able to override the default hidden behavior on the sphinx rendered scikit-learn.org. See: https://github.com/scikit-learn/scikit-learn/issues/21755 */display: inline-block !important;position: relative;}#sk-container-id-2 div.sk-text-repr-fallback {display: none;}</style><div id=\"sk-container-id-2\" class=\"sk-top-container\"><div class=\"sk-text-repr-fallback\"><pre>LinearRegression()</pre><b>In a Jupyter environment, please rerun this cell to show the HTML representation or trust the notebook. <br />On GitHub, the HTML representation is unable to render, please try loading this page with nbviewer.org.</b></div><div class=\"sk-container\" hidden><div class=\"sk-item\"><div class=\"sk-estimator sk-toggleable\"><input class=\"sk-toggleable__control sk-hidden--visually\" id=\"sk-estimator-id-2\" type=\"checkbox\" checked><label for=\"sk-estimator-id-2\" class=\"sk-toggleable__label sk-toggleable__label-arrow\">LinearRegression</label><div class=\"sk-toggleable__content\"><pre>LinearRegression()</pre></div></div></div></div></div>"
      ],
      "text/plain": [
       "LinearRegression()"
      ]
     },
     "execution_count": 17,
     "metadata": {},
     "output_type": "execute_result"
    }
   ],
   "source": [
    "# Create an instance of the Linear Regression model\n",
    "reg2 = LinearRegression()\n",
    "\n",
    "# Fit the data to the Linear Regression model\n",
    "reg2.fit(X2_train,Y2_train)"
   ]
  },
  {
   "cell_type": "code",
   "execution_count": 18,
   "metadata": {
    "ExecuteTime": {
     "end_time": "2021-10-25T06:47:02.395249Z",
     "start_time": "2021-10-25T06:47:02.389384Z"
    },
    "pycharm": {
     "name": "#%%\n"
    }
   },
   "outputs": [],
   "source": [
    "# Now that the model has been trained, we can make predictions\n",
    "predictions2 = reg2.predict(X2_test)"
   ]
  },
  {
   "cell_type": "code",
   "execution_count": 19,
   "metadata": {
    "ExecuteTime": {
     "end_time": "2021-10-25T06:47:03.470394Z",
     "start_time": "2021-10-25T06:47:03.461559Z"
    },
    "pycharm": {
     "name": "#%%\n"
    }
   },
   "outputs": [
    {
     "name": "stdout",
     "output_type": "stream",
     "text": [
      "Square root of the mean squared error 0.737891734750625\n",
      "Determination Coeficient 0.6009790143129111\n"
     ]
    }
   ],
   "source": [
    "# Model Performance\n",
    "\n",
    "test_rmse2 = np.sqrt(mean_squared_error(Y2_test,predictions2))\n",
    "test_r2sc2 = r2_score(Y2_test,predictions2)\n",
    "\n",
    "# Remember the lower the value is the better it is\n",
    "print(\"Square root of the mean squared error\",test_rmse2)\n",
    "\n",
    "# The closer to one the better\n",
    "print(\"Determination Coefficient\",test_r2sc2)"
   ]
  },
  {
   "cell_type": "code",
   "execution_count": 20,
   "metadata": {
    "ExecuteTime": {
     "end_time": "2021-10-25T06:47:09.917793Z",
     "start_time": "2021-10-25T06:47:09.902952Z"
    },
    "pycharm": {
     "name": "#%%\n"
    }
   },
   "outputs": [
    {
     "data": {
      "text/html": [
       "<div>\n",
       "<style scoped>\n",
       "    .dataframe tbody tr th:only-of-type {\n",
       "        vertical-align: middle;\n",
       "    }\n",
       "\n",
       "    .dataframe tbody tr th {\n",
       "        vertical-align: top;\n",
       "    }\n",
       "\n",
       "    .dataframe thead th {\n",
       "        text-align: right;\n",
       "    }\n",
       "</style>\n",
       "<table border=\"1\" class=\"dataframe\">\n",
       "  <thead>\n",
       "    <tr style=\"text-align: right;\">\n",
       "      <th></th>\n",
       "      <th>Coeficients</th>\n",
       "    </tr>\n",
       "  </thead>\n",
       "  <tbody>\n",
       "    <tr>\n",
       "      <th>Longitude</th>\n",
       "      <td>-0.441484</td>\n",
       "    </tr>\n",
       "    <tr>\n",
       "      <th>Latitude</th>\n",
       "      <td>-0.429077</td>\n",
       "    </tr>\n",
       "    <tr>\n",
       "      <th>AveRooms</th>\n",
       "      <td>-0.100333</td>\n",
       "    </tr>\n",
       "    <tr>\n",
       "      <th>AveOccup</th>\n",
       "      <td>-0.004782</td>\n",
       "    </tr>\n",
       "    <tr>\n",
       "      <th>Population</th>\n",
       "      <td>-0.000003</td>\n",
       "    </tr>\n",
       "    <tr>\n",
       "      <th>HouseAge</th>\n",
       "      <td>0.009324</td>\n",
       "    </tr>\n",
       "    <tr>\n",
       "      <th>MedInc</th>\n",
       "      <td>0.433102</td>\n",
       "    </tr>\n",
       "    <tr>\n",
       "      <th>AveBedrms</th>\n",
       "      <td>0.615219</td>\n",
       "    </tr>\n",
       "  </tbody>\n",
       "</table>\n",
       "</div>"
      ],
      "text/plain": [
       "            Coeficients\n",
       "Longitude     -0.441484\n",
       "Latitude      -0.429077\n",
       "AveRooms      -0.100333\n",
       "AveOccup      -0.004782\n",
       "Population    -0.000003\n",
       "HouseAge       0.009324\n",
       "MedInc         0.433102\n",
       "AveBedrms      0.615219"
      ]
     },
     "execution_count": 20,
     "metadata": {},
     "output_type": "execute_result"
    }
   ],
   "source": [
    "# Determine the coeficients\n",
    "pd.DataFrame(reg2.coef_, index=X2.columns, columns =[\"Coeficients\"]).sort_values(\"Coeficients\")"
   ]
  },
  {
   "cell_type": "code",
   "execution_count": 21,
   "metadata": {
    "ExecuteTime": {
     "end_time": "2021-10-25T06:47:12.407720Z",
     "start_time": "2021-10-25T06:47:12.398640Z"
    },
    "pycharm": {
     "name": "#%%\n"
    }
   },
   "outputs": [
    {
     "data": {
      "text/html": [
       "<div>\n",
       "<style scoped>\n",
       "    .dataframe tbody tr th:only-of-type {\n",
       "        vertical-align: middle;\n",
       "    }\n",
       "\n",
       "    .dataframe tbody tr th {\n",
       "        vertical-align: top;\n",
       "    }\n",
       "\n",
       "    .dataframe thead th {\n",
       "        text-align: right;\n",
       "    }\n",
       "</style>\n",
       "<table border=\"1\" class=\"dataframe\">\n",
       "  <thead>\n",
       "    <tr style=\"text-align: right;\">\n",
       "      <th></th>\n",
       "      <th>Intercept</th>\n",
       "    </tr>\n",
       "  </thead>\n",
       "  <tbody>\n",
       "    <tr>\n",
       "      <th>0</th>\n",
       "      <td>-37.486966</td>\n",
       "    </tr>\n",
       "  </tbody>\n",
       "</table>\n",
       "</div>"
      ],
      "text/plain": [
       "   Intercept\n",
       "0 -37.486966"
      ]
     },
     "execution_count": 21,
     "metadata": {},
     "output_type": "execute_result"
    }
   ],
   "source": [
    "# Determine the intercept\n",
    "pd.DataFrame([reg2.intercept_], columns =[\"Intercept\"])"
   ]
  },
  {
   "cell_type": "code",
   "execution_count": 22,
   "metadata": {
    "ExecuteTime": {
     "end_time": "2021-10-25T06:47:14.215543Z",
     "start_time": "2021-10-25T06:47:14.212266Z"
    },
    "pycharm": {
     "name": "#%%\n"
    }
   },
   "outputs": [],
   "source": [
    "# Save the model into a file: (your turn)"
   ]
  },
  {
   "cell_type": "code",
   "execution_count": 23,
   "metadata": {
    "ExecuteTime": {
     "end_time": "2021-10-25T06:47:15.297355Z",
     "start_time": "2021-10-25T06:47:15.226825Z"
    },
    "pycharm": {
     "name": "#%%\n"
    }
   },
   "outputs": [
    {
     "data": {
      "application/javascript": [
       "/* Put everything inside the global mpl namespace */\n",
       "/* global mpl */\n",
       "window.mpl = {};\n",
       "\n",
       "mpl.get_websocket_type = function () {\n",
       "    if (typeof WebSocket !== 'undefined') {\n",
       "        return WebSocket;\n",
       "    } else if (typeof MozWebSocket !== 'undefined') {\n",
       "        return MozWebSocket;\n",
       "    } else {\n",
       "        alert(\n",
       "            'Your browser does not have WebSocket support. ' +\n",
       "                'Please try Chrome, Safari or Firefox ≥ 6. ' +\n",
       "                'Firefox 4 and 5 are also supported but you ' +\n",
       "                'have to enable WebSockets in about:config.'\n",
       "        );\n",
       "    }\n",
       "};\n",
       "\n",
       "mpl.figure = function (figure_id, websocket, ondownload, parent_element) {\n",
       "    this.id = figure_id;\n",
       "\n",
       "    this.ws = websocket;\n",
       "\n",
       "    this.supports_binary = this.ws.binaryType !== undefined;\n",
       "\n",
       "    if (!this.supports_binary) {\n",
       "        var warnings = document.getElementById('mpl-warnings');\n",
       "        if (warnings) {\n",
       "            warnings.style.display = 'block';\n",
       "            warnings.textContent =\n",
       "                'This browser does not support binary websocket messages. ' +\n",
       "                'Performance may be slow.';\n",
       "        }\n",
       "    }\n",
       "\n",
       "    this.imageObj = new Image();\n",
       "\n",
       "    this.context = undefined;\n",
       "    this.message = undefined;\n",
       "    this.canvas = undefined;\n",
       "    this.rubberband_canvas = undefined;\n",
       "    this.rubberband_context = undefined;\n",
       "    this.format_dropdown = undefined;\n",
       "\n",
       "    this.image_mode = 'full';\n",
       "\n",
       "    this.root = document.createElement('div');\n",
       "    this.root.setAttribute('style', 'display: inline-block');\n",
       "    this._root_extra_style(this.root);\n",
       "\n",
       "    parent_element.appendChild(this.root);\n",
       "\n",
       "    this._init_header(this);\n",
       "    this._init_canvas(this);\n",
       "    this._init_toolbar(this);\n",
       "\n",
       "    var fig = this;\n",
       "\n",
       "    this.waiting = false;\n",
       "\n",
       "    this.ws.onopen = function () {\n",
       "        fig.send_message('supports_binary', { value: fig.supports_binary });\n",
       "        fig.send_message('send_image_mode', {});\n",
       "        if (fig.ratio !== 1) {\n",
       "            fig.send_message('set_device_pixel_ratio', {\n",
       "                device_pixel_ratio: fig.ratio,\n",
       "            });\n",
       "        }\n",
       "        fig.send_message('refresh', {});\n",
       "    };\n",
       "\n",
       "    this.imageObj.onload = function () {\n",
       "        if (fig.image_mode === 'full') {\n",
       "            // Full images could contain transparency (where diff images\n",
       "            // almost always do), so we need to clear the canvas so that\n",
       "            // there is no ghosting.\n",
       "            fig.context.clearRect(0, 0, fig.canvas.width, fig.canvas.height);\n",
       "        }\n",
       "        fig.context.drawImage(fig.imageObj, 0, 0);\n",
       "    };\n",
       "\n",
       "    this.imageObj.onunload = function () {\n",
       "        fig.ws.close();\n",
       "    };\n",
       "\n",
       "    this.ws.onmessage = this._make_on_message_function(this);\n",
       "\n",
       "    this.ondownload = ondownload;\n",
       "};\n",
       "\n",
       "mpl.figure.prototype._init_header = function () {\n",
       "    var titlebar = document.createElement('div');\n",
       "    titlebar.classList =\n",
       "        'ui-dialog-titlebar ui-widget-header ui-corner-all ui-helper-clearfix';\n",
       "    var titletext = document.createElement('div');\n",
       "    titletext.classList = 'ui-dialog-title';\n",
       "    titletext.setAttribute(\n",
       "        'style',\n",
       "        'width: 100%; text-align: center; padding: 3px;'\n",
       "    );\n",
       "    titlebar.appendChild(titletext);\n",
       "    this.root.appendChild(titlebar);\n",
       "    this.header = titletext;\n",
       "};\n",
       "\n",
       "mpl.figure.prototype._canvas_extra_style = function (_canvas_div) {};\n",
       "\n",
       "mpl.figure.prototype._root_extra_style = function (_canvas_div) {};\n",
       "\n",
       "mpl.figure.prototype._init_canvas = function () {\n",
       "    var fig = this;\n",
       "\n",
       "    var canvas_div = (this.canvas_div = document.createElement('div'));\n",
       "    canvas_div.setAttribute(\n",
       "        'style',\n",
       "        'border: 1px solid #ddd;' +\n",
       "            'box-sizing: content-box;' +\n",
       "            'clear: both;' +\n",
       "            'min-height: 1px;' +\n",
       "            'min-width: 1px;' +\n",
       "            'outline: 0;' +\n",
       "            'overflow: hidden;' +\n",
       "            'position: relative;' +\n",
       "            'resize: both;'\n",
       "    );\n",
       "\n",
       "    function on_keyboard_event_closure(name) {\n",
       "        return function (event) {\n",
       "            return fig.key_event(event, name);\n",
       "        };\n",
       "    }\n",
       "\n",
       "    canvas_div.addEventListener(\n",
       "        'keydown',\n",
       "        on_keyboard_event_closure('key_press')\n",
       "    );\n",
       "    canvas_div.addEventListener(\n",
       "        'keyup',\n",
       "        on_keyboard_event_closure('key_release')\n",
       "    );\n",
       "\n",
       "    this._canvas_extra_style(canvas_div);\n",
       "    this.root.appendChild(canvas_div);\n",
       "\n",
       "    var canvas = (this.canvas = document.createElement('canvas'));\n",
       "    canvas.classList.add('mpl-canvas');\n",
       "    canvas.setAttribute('style', 'box-sizing: content-box;');\n",
       "\n",
       "    this.context = canvas.getContext('2d');\n",
       "\n",
       "    var backingStore =\n",
       "        this.context.backingStorePixelRatio ||\n",
       "        this.context.webkitBackingStorePixelRatio ||\n",
       "        this.context.mozBackingStorePixelRatio ||\n",
       "        this.context.msBackingStorePixelRatio ||\n",
       "        this.context.oBackingStorePixelRatio ||\n",
       "        this.context.backingStorePixelRatio ||\n",
       "        1;\n",
       "\n",
       "    this.ratio = (window.devicePixelRatio || 1) / backingStore;\n",
       "\n",
       "    var rubberband_canvas = (this.rubberband_canvas = document.createElement(\n",
       "        'canvas'\n",
       "    ));\n",
       "    rubberband_canvas.setAttribute(\n",
       "        'style',\n",
       "        'box-sizing: content-box; position: absolute; left: 0; top: 0; z-index: 1;'\n",
       "    );\n",
       "\n",
       "    // Apply a ponyfill if ResizeObserver is not implemented by browser.\n",
       "    if (this.ResizeObserver === undefined) {\n",
       "        if (window.ResizeObserver !== undefined) {\n",
       "            this.ResizeObserver = window.ResizeObserver;\n",
       "        } else {\n",
       "            var obs = _JSXTOOLS_RESIZE_OBSERVER({});\n",
       "            this.ResizeObserver = obs.ResizeObserver;\n",
       "        }\n",
       "    }\n",
       "\n",
       "    this.resizeObserverInstance = new this.ResizeObserver(function (entries) {\n",
       "        var nentries = entries.length;\n",
       "        for (var i = 0; i < nentries; i++) {\n",
       "            var entry = entries[i];\n",
       "            var width, height;\n",
       "            if (entry.contentBoxSize) {\n",
       "                if (entry.contentBoxSize instanceof Array) {\n",
       "                    // Chrome 84 implements new version of spec.\n",
       "                    width = entry.contentBoxSize[0].inlineSize;\n",
       "                    height = entry.contentBoxSize[0].blockSize;\n",
       "                } else {\n",
       "                    // Firefox implements old version of spec.\n",
       "                    width = entry.contentBoxSize.inlineSize;\n",
       "                    height = entry.contentBoxSize.blockSize;\n",
       "                }\n",
       "            } else {\n",
       "                // Chrome <84 implements even older version of spec.\n",
       "                width = entry.contentRect.width;\n",
       "                height = entry.contentRect.height;\n",
       "            }\n",
       "\n",
       "            // Keep the size of the canvas and rubber band canvas in sync with\n",
       "            // the canvas container.\n",
       "            if (entry.devicePixelContentBoxSize) {\n",
       "                // Chrome 84 implements new version of spec.\n",
       "                canvas.setAttribute(\n",
       "                    'width',\n",
       "                    entry.devicePixelContentBoxSize[0].inlineSize\n",
       "                );\n",
       "                canvas.setAttribute(\n",
       "                    'height',\n",
       "                    entry.devicePixelContentBoxSize[0].blockSize\n",
       "                );\n",
       "            } else {\n",
       "                canvas.setAttribute('width', width * fig.ratio);\n",
       "                canvas.setAttribute('height', height * fig.ratio);\n",
       "            }\n",
       "            canvas.setAttribute(\n",
       "                'style',\n",
       "                'width: ' + width + 'px; height: ' + height + 'px;'\n",
       "            );\n",
       "\n",
       "            rubberband_canvas.setAttribute('width', width);\n",
       "            rubberband_canvas.setAttribute('height', height);\n",
       "\n",
       "            // And update the size in Python. We ignore the initial 0/0 size\n",
       "            // that occurs as the element is placed into the DOM, which should\n",
       "            // otherwise not happen due to the minimum size styling.\n",
       "            if (fig.ws.readyState == 1 && width != 0 && height != 0) {\n",
       "                fig.request_resize(width, height);\n",
       "            }\n",
       "        }\n",
       "    });\n",
       "    this.resizeObserverInstance.observe(canvas_div);\n",
       "\n",
       "    function on_mouse_event_closure(name) {\n",
       "        return function (event) {\n",
       "            return fig.mouse_event(event, name);\n",
       "        };\n",
       "    }\n",
       "\n",
       "    rubberband_canvas.addEventListener(\n",
       "        'mousedown',\n",
       "        on_mouse_event_closure('button_press')\n",
       "    );\n",
       "    rubberband_canvas.addEventListener(\n",
       "        'mouseup',\n",
       "        on_mouse_event_closure('button_release')\n",
       "    );\n",
       "    rubberband_canvas.addEventListener(\n",
       "        'dblclick',\n",
       "        on_mouse_event_closure('dblclick')\n",
       "    );\n",
       "    // Throttle sequential mouse events to 1 every 20ms.\n",
       "    rubberband_canvas.addEventListener(\n",
       "        'mousemove',\n",
       "        on_mouse_event_closure('motion_notify')\n",
       "    );\n",
       "\n",
       "    rubberband_canvas.addEventListener(\n",
       "        'mouseenter',\n",
       "        on_mouse_event_closure('figure_enter')\n",
       "    );\n",
       "    rubberband_canvas.addEventListener(\n",
       "        'mouseleave',\n",
       "        on_mouse_event_closure('figure_leave')\n",
       "    );\n",
       "\n",
       "    canvas_div.addEventListener('wheel', function (event) {\n",
       "        if (event.deltaY < 0) {\n",
       "            event.step = 1;\n",
       "        } else {\n",
       "            event.step = -1;\n",
       "        }\n",
       "        on_mouse_event_closure('scroll')(event);\n",
       "    });\n",
       "\n",
       "    canvas_div.appendChild(canvas);\n",
       "    canvas_div.appendChild(rubberband_canvas);\n",
       "\n",
       "    this.rubberband_context = rubberband_canvas.getContext('2d');\n",
       "    this.rubberband_context.strokeStyle = '#000000';\n",
       "\n",
       "    this._resize_canvas = function (width, height, forward) {\n",
       "        if (forward) {\n",
       "            canvas_div.style.width = width + 'px';\n",
       "            canvas_div.style.height = height + 'px';\n",
       "        }\n",
       "    };\n",
       "\n",
       "    // Disable right mouse context menu.\n",
       "    this.rubberband_canvas.addEventListener('contextmenu', function (_e) {\n",
       "        event.preventDefault();\n",
       "        return false;\n",
       "    });\n",
       "\n",
       "    function set_focus() {\n",
       "        canvas.focus();\n",
       "        canvas_div.focus();\n",
       "    }\n",
       "\n",
       "    window.setTimeout(set_focus, 100);\n",
       "};\n",
       "\n",
       "mpl.figure.prototype._init_toolbar = function () {\n",
       "    var fig = this;\n",
       "\n",
       "    var toolbar = document.createElement('div');\n",
       "    toolbar.classList = 'mpl-toolbar';\n",
       "    this.root.appendChild(toolbar);\n",
       "\n",
       "    function on_click_closure(name) {\n",
       "        return function (_event) {\n",
       "            return fig.toolbar_button_onclick(name);\n",
       "        };\n",
       "    }\n",
       "\n",
       "    function on_mouseover_closure(tooltip) {\n",
       "        return function (event) {\n",
       "            if (!event.currentTarget.disabled) {\n",
       "                return fig.toolbar_button_onmouseover(tooltip);\n",
       "            }\n",
       "        };\n",
       "    }\n",
       "\n",
       "    fig.buttons = {};\n",
       "    var buttonGroup = document.createElement('div');\n",
       "    buttonGroup.classList = 'mpl-button-group';\n",
       "    for (var toolbar_ind in mpl.toolbar_items) {\n",
       "        var name = mpl.toolbar_items[toolbar_ind][0];\n",
       "        var tooltip = mpl.toolbar_items[toolbar_ind][1];\n",
       "        var image = mpl.toolbar_items[toolbar_ind][2];\n",
       "        var method_name = mpl.toolbar_items[toolbar_ind][3];\n",
       "\n",
       "        if (!name) {\n",
       "            /* Instead of a spacer, we start a new button group. */\n",
       "            if (buttonGroup.hasChildNodes()) {\n",
       "                toolbar.appendChild(buttonGroup);\n",
       "            }\n",
       "            buttonGroup = document.createElement('div');\n",
       "            buttonGroup.classList = 'mpl-button-group';\n",
       "            continue;\n",
       "        }\n",
       "\n",
       "        var button = (fig.buttons[name] = document.createElement('button'));\n",
       "        button.classList = 'mpl-widget';\n",
       "        button.setAttribute('role', 'button');\n",
       "        button.setAttribute('aria-disabled', 'false');\n",
       "        button.addEventListener('click', on_click_closure(method_name));\n",
       "        button.addEventListener('mouseover', on_mouseover_closure(tooltip));\n",
       "\n",
       "        var icon_img = document.createElement('img');\n",
       "        icon_img.src = '_images/' + image + '.png';\n",
       "        icon_img.srcset = '_images/' + image + '_large.png 2x';\n",
       "        icon_img.alt = tooltip;\n",
       "        button.appendChild(icon_img);\n",
       "\n",
       "        buttonGroup.appendChild(button);\n",
       "    }\n",
       "\n",
       "    if (buttonGroup.hasChildNodes()) {\n",
       "        toolbar.appendChild(buttonGroup);\n",
       "    }\n",
       "\n",
       "    var fmt_picker = document.createElement('select');\n",
       "    fmt_picker.classList = 'mpl-widget';\n",
       "    toolbar.appendChild(fmt_picker);\n",
       "    this.format_dropdown = fmt_picker;\n",
       "\n",
       "    for (var ind in mpl.extensions) {\n",
       "        var fmt = mpl.extensions[ind];\n",
       "        var option = document.createElement('option');\n",
       "        option.selected = fmt === mpl.default_extension;\n",
       "        option.innerHTML = fmt;\n",
       "        fmt_picker.appendChild(option);\n",
       "    }\n",
       "\n",
       "    var status_bar = document.createElement('span');\n",
       "    status_bar.classList = 'mpl-message';\n",
       "    toolbar.appendChild(status_bar);\n",
       "    this.message = status_bar;\n",
       "};\n",
       "\n",
       "mpl.figure.prototype.request_resize = function (x_pixels, y_pixels) {\n",
       "    // Request matplotlib to resize the figure. Matplotlib will then trigger a resize in the client,\n",
       "    // which will in turn request a refresh of the image.\n",
       "    this.send_message('resize', { width: x_pixels, height: y_pixels });\n",
       "};\n",
       "\n",
       "mpl.figure.prototype.send_message = function (type, properties) {\n",
       "    properties['type'] = type;\n",
       "    properties['figure_id'] = this.id;\n",
       "    this.ws.send(JSON.stringify(properties));\n",
       "};\n",
       "\n",
       "mpl.figure.prototype.send_draw_message = function () {\n",
       "    if (!this.waiting) {\n",
       "        this.waiting = true;\n",
       "        this.ws.send(JSON.stringify({ type: 'draw', figure_id: this.id }));\n",
       "    }\n",
       "};\n",
       "\n",
       "mpl.figure.prototype.handle_save = function (fig, _msg) {\n",
       "    var format_dropdown = fig.format_dropdown;\n",
       "    var format = format_dropdown.options[format_dropdown.selectedIndex].value;\n",
       "    fig.ondownload(fig, format);\n",
       "};\n",
       "\n",
       "mpl.figure.prototype.handle_resize = function (fig, msg) {\n",
       "    var size = msg['size'];\n",
       "    if (size[0] !== fig.canvas.width || size[1] !== fig.canvas.height) {\n",
       "        fig._resize_canvas(size[0], size[1], msg['forward']);\n",
       "        fig.send_message('refresh', {});\n",
       "    }\n",
       "};\n",
       "\n",
       "mpl.figure.prototype.handle_rubberband = function (fig, msg) {\n",
       "    var x0 = msg['x0'] / fig.ratio;\n",
       "    var y0 = (fig.canvas.height - msg['y0']) / fig.ratio;\n",
       "    var x1 = msg['x1'] / fig.ratio;\n",
       "    var y1 = (fig.canvas.height - msg['y1']) / fig.ratio;\n",
       "    x0 = Math.floor(x0) + 0.5;\n",
       "    y0 = Math.floor(y0) + 0.5;\n",
       "    x1 = Math.floor(x1) + 0.5;\n",
       "    y1 = Math.floor(y1) + 0.5;\n",
       "    var min_x = Math.min(x0, x1);\n",
       "    var min_y = Math.min(y0, y1);\n",
       "    var width = Math.abs(x1 - x0);\n",
       "    var height = Math.abs(y1 - y0);\n",
       "\n",
       "    fig.rubberband_context.clearRect(\n",
       "        0,\n",
       "        0,\n",
       "        fig.canvas.width / fig.ratio,\n",
       "        fig.canvas.height / fig.ratio\n",
       "    );\n",
       "\n",
       "    fig.rubberband_context.strokeRect(min_x, min_y, width, height);\n",
       "};\n",
       "\n",
       "mpl.figure.prototype.handle_figure_label = function (fig, msg) {\n",
       "    // Updates the figure title.\n",
       "    fig.header.textContent = msg['label'];\n",
       "};\n",
       "\n",
       "mpl.figure.prototype.handle_cursor = function (fig, msg) {\n",
       "    fig.rubberband_canvas.style.cursor = msg['cursor'];\n",
       "};\n",
       "\n",
       "mpl.figure.prototype.handle_message = function (fig, msg) {\n",
       "    fig.message.textContent = msg['message'];\n",
       "};\n",
       "\n",
       "mpl.figure.prototype.handle_draw = function (fig, _msg) {\n",
       "    // Request the server to send over a new figure.\n",
       "    fig.send_draw_message();\n",
       "};\n",
       "\n",
       "mpl.figure.prototype.handle_image_mode = function (fig, msg) {\n",
       "    fig.image_mode = msg['mode'];\n",
       "};\n",
       "\n",
       "mpl.figure.prototype.handle_history_buttons = function (fig, msg) {\n",
       "    for (var key in msg) {\n",
       "        if (!(key in fig.buttons)) {\n",
       "            continue;\n",
       "        }\n",
       "        fig.buttons[key].disabled = !msg[key];\n",
       "        fig.buttons[key].setAttribute('aria-disabled', !msg[key]);\n",
       "    }\n",
       "};\n",
       "\n",
       "mpl.figure.prototype.handle_navigate_mode = function (fig, msg) {\n",
       "    if (msg['mode'] === 'PAN') {\n",
       "        fig.buttons['Pan'].classList.add('active');\n",
       "        fig.buttons['Zoom'].classList.remove('active');\n",
       "    } else if (msg['mode'] === 'ZOOM') {\n",
       "        fig.buttons['Pan'].classList.remove('active');\n",
       "        fig.buttons['Zoom'].classList.add('active');\n",
       "    } else {\n",
       "        fig.buttons['Pan'].classList.remove('active');\n",
       "        fig.buttons['Zoom'].classList.remove('active');\n",
       "    }\n",
       "};\n",
       "\n",
       "mpl.figure.prototype.updated_canvas_event = function () {\n",
       "    // Called whenever the canvas gets updated.\n",
       "    this.send_message('ack', {});\n",
       "};\n",
       "\n",
       "// A function to construct a web socket function for onmessage handling.\n",
       "// Called in the figure constructor.\n",
       "mpl.figure.prototype._make_on_message_function = function (fig) {\n",
       "    return function socket_on_message(evt) {\n",
       "        if (evt.data instanceof Blob) {\n",
       "            var img = evt.data;\n",
       "            if (img.type !== 'image/png') {\n",
       "                /* FIXME: We get \"Resource interpreted as Image but\n",
       "                 * transferred with MIME type text/plain:\" errors on\n",
       "                 * Chrome.  But how to set the MIME type?  It doesn't seem\n",
       "                 * to be part of the websocket stream */\n",
       "                img.type = 'image/png';\n",
       "            }\n",
       "\n",
       "            /* Free the memory for the previous frames */\n",
       "            if (fig.imageObj.src) {\n",
       "                (window.URL || window.webkitURL).revokeObjectURL(\n",
       "                    fig.imageObj.src\n",
       "                );\n",
       "            }\n",
       "\n",
       "            fig.imageObj.src = (window.URL || window.webkitURL).createObjectURL(\n",
       "                img\n",
       "            );\n",
       "            fig.updated_canvas_event();\n",
       "            fig.waiting = false;\n",
       "            return;\n",
       "        } else if (\n",
       "            typeof evt.data === 'string' &&\n",
       "            evt.data.slice(0, 21) === 'data:image/png;base64'\n",
       "        ) {\n",
       "            fig.imageObj.src = evt.data;\n",
       "            fig.updated_canvas_event();\n",
       "            fig.waiting = false;\n",
       "            return;\n",
       "        }\n",
       "\n",
       "        var msg = JSON.parse(evt.data);\n",
       "        var msg_type = msg['type'];\n",
       "\n",
       "        // Call the  \"handle_{type}\" callback, which takes\n",
       "        // the figure and JSON message as its only arguments.\n",
       "        try {\n",
       "            var callback = fig['handle_' + msg_type];\n",
       "        } catch (e) {\n",
       "            console.log(\n",
       "                \"No handler for the '\" + msg_type + \"' message type: \",\n",
       "                msg\n",
       "            );\n",
       "            return;\n",
       "        }\n",
       "\n",
       "        if (callback) {\n",
       "            try {\n",
       "                // console.log(\"Handling '\" + msg_type + \"' message: \", msg);\n",
       "                callback(fig, msg);\n",
       "            } catch (e) {\n",
       "                console.log(\n",
       "                    \"Exception inside the 'handler_\" + msg_type + \"' callback:\",\n",
       "                    e,\n",
       "                    e.stack,\n",
       "                    msg\n",
       "                );\n",
       "            }\n",
       "        }\n",
       "    };\n",
       "};\n",
       "\n",
       "// from https://stackoverflow.com/questions/1114465/getting-mouse-location-in-canvas\n",
       "mpl.findpos = function (e) {\n",
       "    //this section is from http://www.quirksmode.org/js/events_properties.html\n",
       "    var targ;\n",
       "    if (!e) {\n",
       "        e = window.event;\n",
       "    }\n",
       "    if (e.target) {\n",
       "        targ = e.target;\n",
       "    } else if (e.srcElement) {\n",
       "        targ = e.srcElement;\n",
       "    }\n",
       "    if (targ.nodeType === 3) {\n",
       "        // defeat Safari bug\n",
       "        targ = targ.parentNode;\n",
       "    }\n",
       "\n",
       "    // pageX,Y are the mouse positions relative to the document\n",
       "    var boundingRect = targ.getBoundingClientRect();\n",
       "    var x = e.pageX - (boundingRect.left + document.body.scrollLeft);\n",
       "    var y = e.pageY - (boundingRect.top + document.body.scrollTop);\n",
       "\n",
       "    return { x: x, y: y };\n",
       "};\n",
       "\n",
       "/*\n",
       " * return a copy of an object with only non-object keys\n",
       " * we need this to avoid circular references\n",
       " * https://stackoverflow.com/a/24161582/3208463\n",
       " */\n",
       "function simpleKeys(original) {\n",
       "    return Object.keys(original).reduce(function (obj, key) {\n",
       "        if (typeof original[key] !== 'object') {\n",
       "            obj[key] = original[key];\n",
       "        }\n",
       "        return obj;\n",
       "    }, {});\n",
       "}\n",
       "\n",
       "mpl.figure.prototype.mouse_event = function (event, name) {\n",
       "    var canvas_pos = mpl.findpos(event);\n",
       "\n",
       "    if (name === 'button_press') {\n",
       "        this.canvas.focus();\n",
       "        this.canvas_div.focus();\n",
       "    }\n",
       "\n",
       "    var x = canvas_pos.x * this.ratio;\n",
       "    var y = canvas_pos.y * this.ratio;\n",
       "\n",
       "    this.send_message(name, {\n",
       "        x: x,\n",
       "        y: y,\n",
       "        button: event.button,\n",
       "        step: event.step,\n",
       "        guiEvent: simpleKeys(event),\n",
       "    });\n",
       "\n",
       "    /* This prevents the web browser from automatically changing to\n",
       "     * the text insertion cursor when the button is pressed.  We want\n",
       "     * to control all of the cursor setting manually through the\n",
       "     * 'cursor' event from matplotlib */\n",
       "    event.preventDefault();\n",
       "    return false;\n",
       "};\n",
       "\n",
       "mpl.figure.prototype._key_event_extra = function (_event, _name) {\n",
       "    // Handle any extra behaviour associated with a key event\n",
       "};\n",
       "\n",
       "mpl.figure.prototype.key_event = function (event, name) {\n",
       "    // Prevent repeat events\n",
       "    if (name === 'key_press') {\n",
       "        if (event.key === this._key) {\n",
       "            return;\n",
       "        } else {\n",
       "            this._key = event.key;\n",
       "        }\n",
       "    }\n",
       "    if (name === 'key_release') {\n",
       "        this._key = null;\n",
       "    }\n",
       "\n",
       "    var value = '';\n",
       "    if (event.ctrlKey && event.key !== 'Control') {\n",
       "        value += 'ctrl+';\n",
       "    }\n",
       "    else if (event.altKey && event.key !== 'Alt') {\n",
       "        value += 'alt+';\n",
       "    }\n",
       "    else if (event.shiftKey && event.key !== 'Shift') {\n",
       "        value += 'shift+';\n",
       "    }\n",
       "\n",
       "    value += 'k' + event.key;\n",
       "\n",
       "    this._key_event_extra(event, name);\n",
       "\n",
       "    this.send_message(name, { key: value, guiEvent: simpleKeys(event) });\n",
       "    return false;\n",
       "};\n",
       "\n",
       "mpl.figure.prototype.toolbar_button_onclick = function (name) {\n",
       "    if (name === 'download') {\n",
       "        this.handle_save(this, null);\n",
       "    } else {\n",
       "        this.send_message('toolbar_button', { name: name });\n",
       "    }\n",
       "};\n",
       "\n",
       "mpl.figure.prototype.toolbar_button_onmouseover = function (tooltip) {\n",
       "    this.message.textContent = tooltip;\n",
       "};\n",
       "\n",
       "///////////////// REMAINING CONTENT GENERATED BY embed_js.py /////////////////\n",
       "// prettier-ignore\n",
       "var _JSXTOOLS_RESIZE_OBSERVER=function(A){var t,i=new WeakMap,n=new WeakMap,a=new WeakMap,r=new WeakMap,o=new Set;function s(e){if(!(this instanceof s))throw new TypeError(\"Constructor requires 'new' operator\");i.set(this,e)}function h(){throw new TypeError(\"Function is not a constructor\")}function c(e,t,i,n){e=0 in arguments?Number(arguments[0]):0,t=1 in arguments?Number(arguments[1]):0,i=2 in arguments?Number(arguments[2]):0,n=3 in arguments?Number(arguments[3]):0,this.right=(this.x=this.left=e)+(this.width=i),this.bottom=(this.y=this.top=t)+(this.height=n),Object.freeze(this)}function d(){t=requestAnimationFrame(d);var s=new WeakMap,p=new Set;o.forEach((function(t){r.get(t).forEach((function(i){var r=t instanceof window.SVGElement,o=a.get(t),d=r?0:parseFloat(o.paddingTop),f=r?0:parseFloat(o.paddingRight),l=r?0:parseFloat(o.paddingBottom),u=r?0:parseFloat(o.paddingLeft),g=r?0:parseFloat(o.borderTopWidth),m=r?0:parseFloat(o.borderRightWidth),w=r?0:parseFloat(o.borderBottomWidth),b=u+f,F=d+l,v=(r?0:parseFloat(o.borderLeftWidth))+m,W=g+w,y=r?0:t.offsetHeight-W-t.clientHeight,E=r?0:t.offsetWidth-v-t.clientWidth,R=b+v,z=F+W,M=r?t.width:parseFloat(o.width)-R-E,O=r?t.height:parseFloat(o.height)-z-y;if(n.has(t)){var k=n.get(t);if(k[0]===M&&k[1]===O)return}n.set(t,[M,O]);var S=Object.create(h.prototype);S.target=t,S.contentRect=new c(u,d,M,O),s.has(i)||(s.set(i,[]),p.add(i)),s.get(i).push(S)}))})),p.forEach((function(e){i.get(e).call(e,s.get(e),e)}))}return s.prototype.observe=function(i){if(i instanceof window.Element){r.has(i)||(r.set(i,new Set),o.add(i),a.set(i,window.getComputedStyle(i)));var n=r.get(i);n.has(this)||n.add(this),cancelAnimationFrame(t),t=requestAnimationFrame(d)}},s.prototype.unobserve=function(i){if(i instanceof window.Element&&r.has(i)){var n=r.get(i);n.has(this)&&(n.delete(this),n.size||(r.delete(i),o.delete(i))),n.size||r.delete(i),o.size||cancelAnimationFrame(t)}},A.DOMRectReadOnly=c,A.ResizeObserver=s,A.ResizeObserverEntry=h,A}; // eslint-disable-line\n",
       "mpl.toolbar_items = [[\"Home\", \"Reset original view\", \"fa fa-home icon-home\", \"home\"], [\"Back\", \"Back to previous view\", \"fa fa-arrow-left icon-arrow-left\", \"back\"], [\"Forward\", \"Forward to next view\", \"fa fa-arrow-right icon-arrow-right\", \"forward\"], [\"\", \"\", \"\", \"\"], [\"Pan\", \"Left button pans, Right button zooms\\nx/y fixes axis, CTRL fixes aspect\", \"fa fa-arrows icon-move\", \"pan\"], [\"Zoom\", \"Zoom to rectangle\\nx/y fixes axis\", \"fa fa-square-o icon-check-empty\", \"zoom\"], [\"\", \"\", \"\", \"\"], [\"Download\", \"Download plot\", \"fa fa-floppy-o icon-save\", \"download\"]];\n",
       "\n",
       "mpl.extensions = [\"eps\", \"jpeg\", \"pgf\", \"pdf\", \"png\", \"ps\", \"raw\", \"svg\", \"tif\"];\n",
       "\n",
       "mpl.default_extension = \"png\";/* global mpl */\n",
       "\n",
       "var comm_websocket_adapter = function (comm) {\n",
       "    // Create a \"websocket\"-like object which calls the given IPython comm\n",
       "    // object with the appropriate methods. Currently this is a non binary\n",
       "    // socket, so there is still some room for performance tuning.\n",
       "    var ws = {};\n",
       "\n",
       "    ws.binaryType = comm.kernel.ws.binaryType;\n",
       "    ws.readyState = comm.kernel.ws.readyState;\n",
       "    function updateReadyState(_event) {\n",
       "        if (comm.kernel.ws) {\n",
       "            ws.readyState = comm.kernel.ws.readyState;\n",
       "        } else {\n",
       "            ws.readyState = 3; // Closed state.\n",
       "        }\n",
       "    }\n",
       "    comm.kernel.ws.addEventListener('open', updateReadyState);\n",
       "    comm.kernel.ws.addEventListener('close', updateReadyState);\n",
       "    comm.kernel.ws.addEventListener('error', updateReadyState);\n",
       "\n",
       "    ws.close = function () {\n",
       "        comm.close();\n",
       "    };\n",
       "    ws.send = function (m) {\n",
       "        //console.log('sending', m);\n",
       "        comm.send(m);\n",
       "    };\n",
       "    // Register the callback with on_msg.\n",
       "    comm.on_msg(function (msg) {\n",
       "        //console.log('receiving', msg['content']['data'], msg);\n",
       "        var data = msg['content']['data'];\n",
       "        if (data['blob'] !== undefined) {\n",
       "            data = {\n",
       "                data: new Blob(msg['buffers'], { type: data['blob'] }),\n",
       "            };\n",
       "        }\n",
       "        // Pass the mpl event to the overridden (by mpl) onmessage function.\n",
       "        ws.onmessage(data);\n",
       "    });\n",
       "    return ws;\n",
       "};\n",
       "\n",
       "mpl.mpl_figure_comm = function (comm, msg) {\n",
       "    // This is the function which gets called when the mpl process\n",
       "    // starts-up an IPython Comm through the \"matplotlib\" channel.\n",
       "\n",
       "    var id = msg.content.data.id;\n",
       "    // Get hold of the div created by the display call when the Comm\n",
       "    // socket was opened in Python.\n",
       "    var element = document.getElementById(id);\n",
       "    var ws_proxy = comm_websocket_adapter(comm);\n",
       "\n",
       "    function ondownload(figure, _format) {\n",
       "        window.open(figure.canvas.toDataURL());\n",
       "    }\n",
       "\n",
       "    var fig = new mpl.figure(id, ws_proxy, ondownload, element);\n",
       "\n",
       "    // Call onopen now - mpl needs it, as it is assuming we've passed it a real\n",
       "    // web socket which is closed, not our websocket->open comm proxy.\n",
       "    ws_proxy.onopen();\n",
       "\n",
       "    fig.parent_element = element;\n",
       "    fig.cell_info = mpl.find_output_cell(\"<div id='\" + id + \"'></div>\");\n",
       "    if (!fig.cell_info) {\n",
       "        console.error('Failed to find cell for figure', id, fig);\n",
       "        return;\n",
       "    }\n",
       "    fig.cell_info[0].output_area.element.on(\n",
       "        'cleared',\n",
       "        { fig: fig },\n",
       "        fig._remove_fig_handler\n",
       "    );\n",
       "};\n",
       "\n",
       "mpl.figure.prototype.handle_close = function (fig, msg) {\n",
       "    var width = fig.canvas.width / fig.ratio;\n",
       "    fig.cell_info[0].output_area.element.off(\n",
       "        'cleared',\n",
       "        fig._remove_fig_handler\n",
       "    );\n",
       "    fig.resizeObserverInstance.unobserve(fig.canvas_div);\n",
       "\n",
       "    // Update the output cell to use the data from the current canvas.\n",
       "    fig.push_to_output();\n",
       "    var dataURL = fig.canvas.toDataURL();\n",
       "    // Re-enable the keyboard manager in IPython - without this line, in FF,\n",
       "    // the notebook keyboard shortcuts fail.\n",
       "    IPython.keyboard_manager.enable();\n",
       "    fig.parent_element.innerHTML =\n",
       "        '<img src=\"' + dataURL + '\" width=\"' + width + '\">';\n",
       "    fig.close_ws(fig, msg);\n",
       "};\n",
       "\n",
       "mpl.figure.prototype.close_ws = function (fig, msg) {\n",
       "    fig.send_message('closing', msg);\n",
       "    // fig.ws.close()\n",
       "};\n",
       "\n",
       "mpl.figure.prototype.push_to_output = function (_remove_interactive) {\n",
       "    // Turn the data on the canvas into data in the output cell.\n",
       "    var width = this.canvas.width / this.ratio;\n",
       "    var dataURL = this.canvas.toDataURL();\n",
       "    this.cell_info[1]['text/html'] =\n",
       "        '<img src=\"' + dataURL + '\" width=\"' + width + '\">';\n",
       "};\n",
       "\n",
       "mpl.figure.prototype.updated_canvas_event = function () {\n",
       "    // Tell IPython that the notebook contents must change.\n",
       "    IPython.notebook.set_dirty(true);\n",
       "    this.send_message('ack', {});\n",
       "    var fig = this;\n",
       "    // Wait a second, then push the new image to the DOM so\n",
       "    // that it is saved nicely (might be nice to debounce this).\n",
       "    setTimeout(function () {\n",
       "        fig.push_to_output();\n",
       "    }, 1000);\n",
       "};\n",
       "\n",
       "mpl.figure.prototype._init_toolbar = function () {\n",
       "    var fig = this;\n",
       "\n",
       "    var toolbar = document.createElement('div');\n",
       "    toolbar.classList = 'btn-toolbar';\n",
       "    this.root.appendChild(toolbar);\n",
       "\n",
       "    function on_click_closure(name) {\n",
       "        return function (_event) {\n",
       "            return fig.toolbar_button_onclick(name);\n",
       "        };\n",
       "    }\n",
       "\n",
       "    function on_mouseover_closure(tooltip) {\n",
       "        return function (event) {\n",
       "            if (!event.currentTarget.disabled) {\n",
       "                return fig.toolbar_button_onmouseover(tooltip);\n",
       "            }\n",
       "        };\n",
       "    }\n",
       "\n",
       "    fig.buttons = {};\n",
       "    var buttonGroup = document.createElement('div');\n",
       "    buttonGroup.classList = 'btn-group';\n",
       "    var button;\n",
       "    for (var toolbar_ind in mpl.toolbar_items) {\n",
       "        var name = mpl.toolbar_items[toolbar_ind][0];\n",
       "        var tooltip = mpl.toolbar_items[toolbar_ind][1];\n",
       "        var image = mpl.toolbar_items[toolbar_ind][2];\n",
       "        var method_name = mpl.toolbar_items[toolbar_ind][3];\n",
       "\n",
       "        if (!name) {\n",
       "            /* Instead of a spacer, we start a new button group. */\n",
       "            if (buttonGroup.hasChildNodes()) {\n",
       "                toolbar.appendChild(buttonGroup);\n",
       "            }\n",
       "            buttonGroup = document.createElement('div');\n",
       "            buttonGroup.classList = 'btn-group';\n",
       "            continue;\n",
       "        }\n",
       "\n",
       "        button = fig.buttons[name] = document.createElement('button');\n",
       "        button.classList = 'btn btn-default';\n",
       "        button.href = '#';\n",
       "        button.title = name;\n",
       "        button.innerHTML = '<i class=\"fa ' + image + ' fa-lg\"></i>';\n",
       "        button.addEventListener('click', on_click_closure(method_name));\n",
       "        button.addEventListener('mouseover', on_mouseover_closure(tooltip));\n",
       "        buttonGroup.appendChild(button);\n",
       "    }\n",
       "\n",
       "    if (buttonGroup.hasChildNodes()) {\n",
       "        toolbar.appendChild(buttonGroup);\n",
       "    }\n",
       "\n",
       "    // Add the status bar.\n",
       "    var status_bar = document.createElement('span');\n",
       "    status_bar.classList = 'mpl-message pull-right';\n",
       "    toolbar.appendChild(status_bar);\n",
       "    this.message = status_bar;\n",
       "\n",
       "    // Add the close button to the window.\n",
       "    var buttongrp = document.createElement('div');\n",
       "    buttongrp.classList = 'btn-group inline pull-right';\n",
       "    button = document.createElement('button');\n",
       "    button.classList = 'btn btn-mini btn-primary';\n",
       "    button.href = '#';\n",
       "    button.title = 'Stop Interaction';\n",
       "    button.innerHTML = '<i class=\"fa fa-power-off icon-remove icon-large\"></i>';\n",
       "    button.addEventListener('click', function (_evt) {\n",
       "        fig.handle_close(fig, {});\n",
       "    });\n",
       "    button.addEventListener(\n",
       "        'mouseover',\n",
       "        on_mouseover_closure('Stop Interaction')\n",
       "    );\n",
       "    buttongrp.appendChild(button);\n",
       "    var titlebar = this.root.querySelector('.ui-dialog-titlebar');\n",
       "    titlebar.insertBefore(buttongrp, titlebar.firstChild);\n",
       "};\n",
       "\n",
       "mpl.figure.prototype._remove_fig_handler = function (event) {\n",
       "    var fig = event.data.fig;\n",
       "    if (event.target !== this) {\n",
       "        // Ignore bubbled events from children.\n",
       "        return;\n",
       "    }\n",
       "    fig.close_ws(fig, {});\n",
       "};\n",
       "\n",
       "mpl.figure.prototype._root_extra_style = function (el) {\n",
       "    el.style.boxSizing = 'content-box'; // override notebook setting of border-box.\n",
       "};\n",
       "\n",
       "mpl.figure.prototype._canvas_extra_style = function (el) {\n",
       "    // this is important to make the div 'focusable\n",
       "    el.setAttribute('tabindex', 0);\n",
       "    // reach out to IPython and tell the keyboard manager to turn it's self\n",
       "    // off when our div gets focus\n",
       "\n",
       "    // location in version 3\n",
       "    if (IPython.notebook.keyboard_manager) {\n",
       "        IPython.notebook.keyboard_manager.register_events(el);\n",
       "    } else {\n",
       "        // location in version 2\n",
       "        IPython.keyboard_manager.register_events(el);\n",
       "    }\n",
       "};\n",
       "\n",
       "mpl.figure.prototype._key_event_extra = function (event, _name) {\n",
       "    // Check for shift+enter\n",
       "    if (event.shiftKey && event.which === 13) {\n",
       "        this.canvas_div.blur();\n",
       "        // select the cell after this one\n",
       "        var index = IPython.notebook.find_cell_index(this.cell_info[0]);\n",
       "        IPython.notebook.select(index + 1);\n",
       "    }\n",
       "};\n",
       "\n",
       "mpl.figure.prototype.handle_save = function (fig, _msg) {\n",
       "    fig.ondownload(fig, null);\n",
       "};\n",
       "\n",
       "mpl.find_output_cell = function (html_output) {\n",
       "    // Return the cell and output element which can be found *uniquely* in the notebook.\n",
       "    // Note - this is a bit hacky, but it is done because the \"notebook_saving.Notebook\"\n",
       "    // IPython event is triggered only after the cells have been serialised, which for\n",
       "    // our purposes (turning an active figure into a static one), is too late.\n",
       "    var cells = IPython.notebook.get_cells();\n",
       "    var ncells = cells.length;\n",
       "    for (var i = 0; i < ncells; i++) {\n",
       "        var cell = cells[i];\n",
       "        if (cell.cell_type === 'code') {\n",
       "            for (var j = 0; j < cell.output_area.outputs.length; j++) {\n",
       "                var data = cell.output_area.outputs[j];\n",
       "                if (data.data) {\n",
       "                    // IPython >= 3 moved mimebundle to data attribute of output\n",
       "                    data = data.data;\n",
       "                }\n",
       "                if (data['text/html'] === html_output) {\n",
       "                    return [cell, data, j];\n",
       "                }\n",
       "            }\n",
       "        }\n",
       "    }\n",
       "};\n",
       "\n",
       "// Register the function which deals with the matplotlib target/channel.\n",
       "// The kernel may be null if the page has been refreshed.\n",
       "if (IPython.notebook.kernel !== null) {\n",
       "    IPython.notebook.kernel.comm_manager.register_target(\n",
       "        'matplotlib',\n",
       "        mpl.mpl_figure_comm\n",
       "    );\n",
       "}\n"
      ],
      "text/plain": [
       "<IPython.core.display.Javascript object>"
      ]
     },
     "metadata": {},
     "output_type": "display_data"
    },
    {
     "data": {
      "text/html": [
       "<img src=\"data:image/png;base64,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\" width=\"640\">"
      ],
      "text/plain": [
       "<IPython.core.display.HTML object>"
      ]
     },
     "metadata": {},
     "output_type": "display_data"
    }
   ],
   "source": [
    "# 3D visualization\n",
    "\n",
    "fig = plt.figure()\n",
    "ax = fig.add_subplot(111,projection='3d')\n",
    "ax.scatter(X2.MedInc,X2.HouseAge, Y2, s=1)\n",
    "ax.scatter(X2.MedInc, X2.HouseAge, reg2.predict(X2), s=1, cmap=\"YlOrRd\")\n",
    "\n",
    "ax.set_xlabel(\"MedInc\")\n",
    "ax.set_ylabel(\"HouseAge\")\n",
    "ax.set_zlabel(\"median_house_value\")\n",
    "plt.show()\n"
   ]
  }
 ],
 "metadata": {
  "hide_input": false,
  "kernelspec": {
   "display_name": "Python 3 (ipykernel)",
   "language": "python",
   "name": "python3"
  },
  "language_info": {
   "codemirror_mode": {
    "name": "ipython",
    "version": 3
   },
   "file_extension": ".py",
   "mimetype": "text/x-python",
   "name": "python",
   "nbconvert_exporter": "python",
   "pygments_lexer": "ipython3",
   "version": "3.8.2"
  },
  "varInspector": {
   "cols": {
    "lenName": 16,
    "lenType": 16,
    "lenVar": 40
   },
   "kernels_config": {
    "python": {
     "delete_cmd_postfix": "",
     "delete_cmd_prefix": "del ",
     "library": "var_list.py",
     "varRefreshCmd": "print(var_dic_list())"
    },
    "r": {
     "delete_cmd_postfix": ") ",
     "delete_cmd_prefix": "rm(",
     "library": "var_list.r",
     "varRefreshCmd": "cat(var_dic_list()) "
    }
   },
   "types_to_exclude": [
    "module",
    "function",
    "builtin_function_or_method",
    "instance",
    "_Feature"
   ],
   "window_display": false
  }
 },
 "nbformat": 4,
 "nbformat_minor": 2
}