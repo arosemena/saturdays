{
 "cells": [
  {
   "cell_type": "markdown",
   "id": "8e416bb9",
   "metadata": {
    "pycharm": {
     "name": "#%% md\n"
    }
   },
   "source": [
    "# ¿Qué onda con los valores nulos?\n",
    "\n",
    "\n",
    "## Ver los datos:\n",
    "\n",
    "Tenemos que utilizar las librerias que nos van a ayudar a manipular los datos. Usaremos un conjunto de datos de casas."
   ]
  },
  {
   "cell_type": "code",
   "execution_count": 1,
   "id": "07809f39",
   "metadata": {
    "ExecuteTime": {
     "end_time": "2022-09-02T03:27:39.453538Z",
     "start_time": "2022-09-02T03:27:33.973003Z"
    },
    "pycharm": {
     "name": "#%%\n"
    }
   },
   "outputs": [],
   "source": [
    "import pandas as pd\n",
    "import numpy as np\n",
    "from sklearn.impute import SimpleImputer, KNNImputer"
   ]
  },
  {
   "cell_type": "code",
   "execution_count": 2,
   "id": "f271e5bb",
   "metadata": {
    "ExecuteTime": {
     "end_time": "2022-09-02T03:27:39.481997Z",
     "start_time": "2022-09-02T03:27:39.456105Z"
    },
    "pycharm": {
     "name": "#%%\n"
    }
   },
   "outputs": [
    {
     "data": {
      "text/plain": "(1459, 80)"
     },
     "execution_count": 2,
     "metadata": {},
     "output_type": "execute_result"
    }
   ],
   "source": [
    "\n",
    "# read data and see shape\n",
    "house_data = pd.read_csv('../data/house-prices.csv')\n",
    "house_data.shape"
   ]
  },
  {
   "cell_type": "code",
   "execution_count": 3,
   "id": "c30cf2c4",
   "metadata": {
    "ExecuteTime": {
     "end_time": "2022-09-02T03:27:39.509515Z",
     "start_time": "2022-09-02T03:27:39.483481Z"
    },
    "pycharm": {
     "name": "#%%\n"
    }
   },
   "outputs": [
    {
     "data": {
      "text/plain": "        Id  MSSubClass MSZoning  LotFrontage  LotArea Street Alley LotShape  \\\n1187  2648         120       RL         53.0     4043   Pave   NaN      Reg   \n49    1510          20       RL         80.0     9600   Pave   NaN      Reg   \n567   2028         160       FV         30.0     3180   Pave  Pave      Reg   \n1286  2747          20       RL         75.0    10170   Pave   NaN      Reg   \n1378  2839          60       RL         65.0    12438   Pave   NaN      IR1   \n\n     LandContour Utilities  ... ScreenPorch PoolArea PoolQC Fence MiscFeature  \\\n1187         Lvl    AllPub  ...         225        0    NaN   NaN         NaN   \n49           Lvl    AllPub  ...           0        0    NaN   NaN         NaN   \n567          Lvl    AllPub  ...           0        0    NaN   NaN         NaN   \n1286         Lvl    AllPub  ...           0        0    NaN   NaN         NaN   \n1378         Lvl    AllPub  ...           0        0    NaN   NaN         NaN   \n\n     MiscVal MoSold  YrSold  SaleType  SaleCondition  \n1187       0      7    2006        WD         Normal  \n49         0      4    2010        WD         Normal  \n567        0      3    2008        WD        Abnorml  \n1286       0      6    2006        WD         Normal  \n1378       0      8    2006        WD         Normal  \n\n[5 rows x 80 columns]",
      "text/html": "<div>\n<style scoped>\n    .dataframe tbody tr th:only-of-type {\n        vertical-align: middle;\n    }\n\n    .dataframe tbody tr th {\n        vertical-align: top;\n    }\n\n    .dataframe thead th {\n        text-align: right;\n    }\n</style>\n<table border=\"1\" class=\"dataframe\">\n  <thead>\n    <tr style=\"text-align: right;\">\n      <th></th>\n      <th>Id</th>\n      <th>MSSubClass</th>\n      <th>MSZoning</th>\n      <th>LotFrontage</th>\n      <th>LotArea</th>\n      <th>Street</th>\n      <th>Alley</th>\n      <th>LotShape</th>\n      <th>LandContour</th>\n      <th>Utilities</th>\n      <th>...</th>\n      <th>ScreenPorch</th>\n      <th>PoolArea</th>\n      <th>PoolQC</th>\n      <th>Fence</th>\n      <th>MiscFeature</th>\n      <th>MiscVal</th>\n      <th>MoSold</th>\n      <th>YrSold</th>\n      <th>SaleType</th>\n      <th>SaleCondition</th>\n    </tr>\n  </thead>\n  <tbody>\n    <tr>\n      <th>1187</th>\n      <td>2648</td>\n      <td>120</td>\n      <td>RL</td>\n      <td>53.0</td>\n      <td>4043</td>\n      <td>Pave</td>\n      <td>NaN</td>\n      <td>Reg</td>\n      <td>Lvl</td>\n      <td>AllPub</td>\n      <td>...</td>\n      <td>225</td>\n      <td>0</td>\n      <td>NaN</td>\n      <td>NaN</td>\n      <td>NaN</td>\n      <td>0</td>\n      <td>7</td>\n      <td>2006</td>\n      <td>WD</td>\n      <td>Normal</td>\n    </tr>\n    <tr>\n      <th>49</th>\n      <td>1510</td>\n      <td>20</td>\n      <td>RL</td>\n      <td>80.0</td>\n      <td>9600</td>\n      <td>Pave</td>\n      <td>NaN</td>\n      <td>Reg</td>\n      <td>Lvl</td>\n      <td>AllPub</td>\n      <td>...</td>\n      <td>0</td>\n      <td>0</td>\n      <td>NaN</td>\n      <td>NaN</td>\n      <td>NaN</td>\n      <td>0</td>\n      <td>4</td>\n      <td>2010</td>\n      <td>WD</td>\n      <td>Normal</td>\n    </tr>\n    <tr>\n      <th>567</th>\n      <td>2028</td>\n      <td>160</td>\n      <td>FV</td>\n      <td>30.0</td>\n      <td>3180</td>\n      <td>Pave</td>\n      <td>Pave</td>\n      <td>Reg</td>\n      <td>Lvl</td>\n      <td>AllPub</td>\n      <td>...</td>\n      <td>0</td>\n      <td>0</td>\n      <td>NaN</td>\n      <td>NaN</td>\n      <td>NaN</td>\n      <td>0</td>\n      <td>3</td>\n      <td>2008</td>\n      <td>WD</td>\n      <td>Abnorml</td>\n    </tr>\n    <tr>\n      <th>1286</th>\n      <td>2747</td>\n      <td>20</td>\n      <td>RL</td>\n      <td>75.0</td>\n      <td>10170</td>\n      <td>Pave</td>\n      <td>NaN</td>\n      <td>Reg</td>\n      <td>Lvl</td>\n      <td>AllPub</td>\n      <td>...</td>\n      <td>0</td>\n      <td>0</td>\n      <td>NaN</td>\n      <td>NaN</td>\n      <td>NaN</td>\n      <td>0</td>\n      <td>6</td>\n      <td>2006</td>\n      <td>WD</td>\n      <td>Normal</td>\n    </tr>\n    <tr>\n      <th>1378</th>\n      <td>2839</td>\n      <td>60</td>\n      <td>RL</td>\n      <td>65.0</td>\n      <td>12438</td>\n      <td>Pave</td>\n      <td>NaN</td>\n      <td>IR1</td>\n      <td>Lvl</td>\n      <td>AllPub</td>\n      <td>...</td>\n      <td>0</td>\n      <td>0</td>\n      <td>NaN</td>\n      <td>NaN</td>\n      <td>NaN</td>\n      <td>0</td>\n      <td>8</td>\n      <td>2006</td>\n      <td>WD</td>\n      <td>Normal</td>\n    </tr>\n  </tbody>\n</table>\n<p>5 rows × 80 columns</p>\n</div>"
     },
     "execution_count": 3,
     "metadata": {},
     "output_type": "execute_result"
    }
   ],
   "source": [
    "house_data.sample(5)"
   ]
  },
  {
   "cell_type": "code",
   "execution_count": 8,
   "id": "397673bc",
   "metadata": {
    "ExecuteTime": {
     "end_time": "2022-09-02T03:27:39.523535Z",
     "start_time": "2022-09-02T03:27:39.512111Z"
    },
    "pycharm": {
     "name": "#%%\n"
    }
   },
   "outputs": [
    {
     "data": {
      "text/plain": "PoolQC          1456\nMiscFeature     1408\nAlley           1352\nFence           1169\nFireplaceQu      730\nLotFrontage      227\nGarageYrBlt       78\nGarageQual        78\nGarageFinish      78\nGarageCond        78\ndtype: int64"
     },
     "execution_count": 8,
     "metadata": {},
     "output_type": "execute_result"
    }
   ],
   "source": [
    "# Top 10 features with missing columns\n",
    "missing_values_count = house_data.isnull().sum()\n",
    "missing_values_count.sort_values(ascending=False).head(10)"
   ]
  },
  {
   "cell_type": "code",
   "execution_count": 9,
   "id": "7876d448",
   "metadata": {
    "ExecuteTime": {
     "end_time": "2022-09-02T03:27:39.537427Z",
     "start_time": "2022-09-02T03:27:39.527931Z"
    },
    "pycharm": {
     "name": "#%%\n"
    }
   },
   "outputs": [
    {
     "data": {
      "text/plain": "PoolQC          0.997944\nMiscFeature     0.965045\nAlley           0.926662\nFence           0.801234\nFireplaceQu     0.500343\nLotFrontage     0.155586\nGarageYrBlt     0.053461\nGarageQual      0.053461\nGarageFinish    0.053461\nGarageCond      0.053461\nGarageType      0.052090\nBsmtCond        0.030843\nBsmtQual        0.030158\nBsmtExposure    0.030158\nBsmtFinType1    0.028787\nBsmtFinType2    0.028787\nMasVnrType      0.010966\nMasVnrArea      0.010281\nMSZoning        0.002742\nBsmtHalfBath    0.001371\ndtype: float64"
     },
     "execution_count": 9,
     "metadata": {},
     "output_type": "execute_result"
    }
   ],
   "source": [
    "proportion_of_missing_values = (\n",
    "    missing_values_count/house_data.shape[0]\n",
    ").sort_values(ascending=False)\n",
    "proportion_of_missing_values.head(20)"
   ]
  },
  {
   "cell_type": "code",
   "execution_count": null,
   "outputs": [],
   "source": [
    "# how many total missing values do we have?\n",
    "total_cells = np.product(house_data.shape)\n",
    "total_missing = missing_values_count.sum()\n",
    "\n",
    "# percent of data that is missing\n",
    "(total_missing/total_cells) * 100"
   ],
   "metadata": {
    "collapsed": false,
    "pycharm": {
     "name": "#%%\n"
    }
   }
  },
  {
   "cell_type": "code",
   "execution_count": 12,
   "id": "7a7b9947",
   "metadata": {
    "ExecuteTime": {
     "end_time": "2022-09-02T03:27:39.550220Z",
     "start_time": "2022-09-02T03:27:39.546176Z"
    },
    "pycharm": {
     "name": "#%%\n"
    }
   },
   "outputs": [],
   "source": [
    "drop_columns = proportion_of_missing_values[proportion_of_missing_values > 0.8].index\n",
    "house_data_reduced = house_data.drop(drop_columns, axis=1)"
   ]
  },
  {
   "cell_type": "code",
   "execution_count": 13,
   "id": "8442106d",
   "metadata": {
    "ExecuteTime": {
     "end_time": "2022-09-02T03:27:39.573843Z",
     "start_time": "2022-09-02T03:27:39.552348Z"
    },
    "pycharm": {
     "name": "#%%\n"
    }
   },
   "outputs": [
    {
     "data": {
      "text/plain": "        Id  MSSubClass MSZoning  LotFrontage  LotArea Street LotShape  \\\n2     1463          60       RL         74.0    13830   Pave      IR1   \n3     1464          60       RL         78.0     9978   Pave      IR1   \n5     1466          60       RL         75.0    10000   Pave      IR1   \n7     1468          60       RL         63.0     8402   Pave      IR1   \n8     1469          20       RL         85.0    10176   Pave      Reg   \n...    ...         ...      ...          ...      ...    ...      ...   \n1443  2904          20       RL         88.0    11577   Pave      Reg   \n1446  2907         160       RM         41.0     2665   Pave      Reg   \n1451  2912          20       RL         80.0    13384   Pave      Reg   \n1456  2917          20       RL        160.0    20000   Pave      Reg   \n1458  2919          60       RL         74.0     9627   Pave      Reg   \n\n     LandContour Utilities LotConfig  ... OpenPorchSF EnclosedPorch 3SsnPorch  \\\n2            Lvl    AllPub    Inside  ...          34             0         0   \n3            Lvl    AllPub    Inside  ...          36             0         0   \n5            Lvl    AllPub    Corner  ...          84             0         0   \n7            Lvl    AllPub    Inside  ...          75             0         0   \n8            Lvl    AllPub    Inside  ...           0             0         0   \n...          ...       ...       ...  ...         ...           ...       ...   \n1443         Lvl    AllPub    Inside  ...         225             0         0   \n1446         Lvl    AllPub    Inside  ...           0             0         0   \n1451         Lvl    AllPub    Inside  ...           0             0         0   \n1456         Lvl    AllPub    Inside  ...           0             0         0   \n1458         Lvl    AllPub    Inside  ...          48             0         0   \n\n     ScreenPorch PoolArea MiscVal  MoSold  YrSold  SaleType  SaleCondition  \n2              0        0       0       3    2010        WD         Normal  \n3              0        0       0       6    2010        WD         Normal  \n5              0        0       0       4    2010        WD         Normal  \n7              0        0       0       5    2010        WD         Normal  \n8              0        0       0       2    2010        WD         Normal  \n...          ...      ...     ...     ...     ...       ...            ...  \n1443           0        0       0       9    2006       New        Partial  \n1446           0        0       0       5    2006        WD         Normal  \n1451           0        0       0       5    2006        WD         Normal  \n1456           0        0       0       9    2006        WD        Abnorml  \n1458           0        0       0      11    2006        WD         Normal  \n\n[562 rows x 76 columns]",
      "text/html": "<div>\n<style scoped>\n    .dataframe tbody tr th:only-of-type {\n        vertical-align: middle;\n    }\n\n    .dataframe tbody tr th {\n        vertical-align: top;\n    }\n\n    .dataframe thead th {\n        text-align: right;\n    }\n</style>\n<table border=\"1\" class=\"dataframe\">\n  <thead>\n    <tr style=\"text-align: right;\">\n      <th></th>\n      <th>Id</th>\n      <th>MSSubClass</th>\n      <th>MSZoning</th>\n      <th>LotFrontage</th>\n      <th>LotArea</th>\n      <th>Street</th>\n      <th>LotShape</th>\n      <th>LandContour</th>\n      <th>Utilities</th>\n      <th>LotConfig</th>\n      <th>...</th>\n      <th>OpenPorchSF</th>\n      <th>EnclosedPorch</th>\n      <th>3SsnPorch</th>\n      <th>ScreenPorch</th>\n      <th>PoolArea</th>\n      <th>MiscVal</th>\n      <th>MoSold</th>\n      <th>YrSold</th>\n      <th>SaleType</th>\n      <th>SaleCondition</th>\n    </tr>\n  </thead>\n  <tbody>\n    <tr>\n      <th>2</th>\n      <td>1463</td>\n      <td>60</td>\n      <td>RL</td>\n      <td>74.0</td>\n      <td>13830</td>\n      <td>Pave</td>\n      <td>IR1</td>\n      <td>Lvl</td>\n      <td>AllPub</td>\n      <td>Inside</td>\n      <td>...</td>\n      <td>34</td>\n      <td>0</td>\n      <td>0</td>\n      <td>0</td>\n      <td>0</td>\n      <td>0</td>\n      <td>3</td>\n      <td>2010</td>\n      <td>WD</td>\n      <td>Normal</td>\n    </tr>\n    <tr>\n      <th>3</th>\n      <td>1464</td>\n      <td>60</td>\n      <td>RL</td>\n      <td>78.0</td>\n      <td>9978</td>\n      <td>Pave</td>\n      <td>IR1</td>\n      <td>Lvl</td>\n      <td>AllPub</td>\n      <td>Inside</td>\n      <td>...</td>\n      <td>36</td>\n      <td>0</td>\n      <td>0</td>\n      <td>0</td>\n      <td>0</td>\n      <td>0</td>\n      <td>6</td>\n      <td>2010</td>\n      <td>WD</td>\n      <td>Normal</td>\n    </tr>\n    <tr>\n      <th>5</th>\n      <td>1466</td>\n      <td>60</td>\n      <td>RL</td>\n      <td>75.0</td>\n      <td>10000</td>\n      <td>Pave</td>\n      <td>IR1</td>\n      <td>Lvl</td>\n      <td>AllPub</td>\n      <td>Corner</td>\n      <td>...</td>\n      <td>84</td>\n      <td>0</td>\n      <td>0</td>\n      <td>0</td>\n      <td>0</td>\n      <td>0</td>\n      <td>4</td>\n      <td>2010</td>\n      <td>WD</td>\n      <td>Normal</td>\n    </tr>\n    <tr>\n      <th>7</th>\n      <td>1468</td>\n      <td>60</td>\n      <td>RL</td>\n      <td>63.0</td>\n      <td>8402</td>\n      <td>Pave</td>\n      <td>IR1</td>\n      <td>Lvl</td>\n      <td>AllPub</td>\n      <td>Inside</td>\n      <td>...</td>\n      <td>75</td>\n      <td>0</td>\n      <td>0</td>\n      <td>0</td>\n      <td>0</td>\n      <td>0</td>\n      <td>5</td>\n      <td>2010</td>\n      <td>WD</td>\n      <td>Normal</td>\n    </tr>\n    <tr>\n      <th>8</th>\n      <td>1469</td>\n      <td>20</td>\n      <td>RL</td>\n      <td>85.0</td>\n      <td>10176</td>\n      <td>Pave</td>\n      <td>Reg</td>\n      <td>Lvl</td>\n      <td>AllPub</td>\n      <td>Inside</td>\n      <td>...</td>\n      <td>0</td>\n      <td>0</td>\n      <td>0</td>\n      <td>0</td>\n      <td>0</td>\n      <td>0</td>\n      <td>2</td>\n      <td>2010</td>\n      <td>WD</td>\n      <td>Normal</td>\n    </tr>\n    <tr>\n      <th>...</th>\n      <td>...</td>\n      <td>...</td>\n      <td>...</td>\n      <td>...</td>\n      <td>...</td>\n      <td>...</td>\n      <td>...</td>\n      <td>...</td>\n      <td>...</td>\n      <td>...</td>\n      <td>...</td>\n      <td>...</td>\n      <td>...</td>\n      <td>...</td>\n      <td>...</td>\n      <td>...</td>\n      <td>...</td>\n      <td>...</td>\n      <td>...</td>\n      <td>...</td>\n      <td>...</td>\n    </tr>\n    <tr>\n      <th>1443</th>\n      <td>2904</td>\n      <td>20</td>\n      <td>RL</td>\n      <td>88.0</td>\n      <td>11577</td>\n      <td>Pave</td>\n      <td>Reg</td>\n      <td>Lvl</td>\n      <td>AllPub</td>\n      <td>Inside</td>\n      <td>...</td>\n      <td>225</td>\n      <td>0</td>\n      <td>0</td>\n      <td>0</td>\n      <td>0</td>\n      <td>0</td>\n      <td>9</td>\n      <td>2006</td>\n      <td>New</td>\n      <td>Partial</td>\n    </tr>\n    <tr>\n      <th>1446</th>\n      <td>2907</td>\n      <td>160</td>\n      <td>RM</td>\n      <td>41.0</td>\n      <td>2665</td>\n      <td>Pave</td>\n      <td>Reg</td>\n      <td>Lvl</td>\n      <td>AllPub</td>\n      <td>Inside</td>\n      <td>...</td>\n      <td>0</td>\n      <td>0</td>\n      <td>0</td>\n      <td>0</td>\n      <td>0</td>\n      <td>0</td>\n      <td>5</td>\n      <td>2006</td>\n      <td>WD</td>\n      <td>Normal</td>\n    </tr>\n    <tr>\n      <th>1451</th>\n      <td>2912</td>\n      <td>20</td>\n      <td>RL</td>\n      <td>80.0</td>\n      <td>13384</td>\n      <td>Pave</td>\n      <td>Reg</td>\n      <td>Lvl</td>\n      <td>AllPub</td>\n      <td>Inside</td>\n      <td>...</td>\n      <td>0</td>\n      <td>0</td>\n      <td>0</td>\n      <td>0</td>\n      <td>0</td>\n      <td>0</td>\n      <td>5</td>\n      <td>2006</td>\n      <td>WD</td>\n      <td>Normal</td>\n    </tr>\n    <tr>\n      <th>1456</th>\n      <td>2917</td>\n      <td>20</td>\n      <td>RL</td>\n      <td>160.0</td>\n      <td>20000</td>\n      <td>Pave</td>\n      <td>Reg</td>\n      <td>Lvl</td>\n      <td>AllPub</td>\n      <td>Inside</td>\n      <td>...</td>\n      <td>0</td>\n      <td>0</td>\n      <td>0</td>\n      <td>0</td>\n      <td>0</td>\n      <td>0</td>\n      <td>9</td>\n      <td>2006</td>\n      <td>WD</td>\n      <td>Abnorml</td>\n    </tr>\n    <tr>\n      <th>1458</th>\n      <td>2919</td>\n      <td>60</td>\n      <td>RL</td>\n      <td>74.0</td>\n      <td>9627</td>\n      <td>Pave</td>\n      <td>Reg</td>\n      <td>Lvl</td>\n      <td>AllPub</td>\n      <td>Inside</td>\n      <td>...</td>\n      <td>48</td>\n      <td>0</td>\n      <td>0</td>\n      <td>0</td>\n      <td>0</td>\n      <td>0</td>\n      <td>11</td>\n      <td>2006</td>\n      <td>WD</td>\n      <td>Normal</td>\n    </tr>\n  </tbody>\n</table>\n<p>562 rows × 76 columns</p>\n</div>"
     },
     "execution_count": 13,
     "metadata": {},
     "output_type": "execute_result"
    }
   ],
   "source": [
    "# remove all rows that contain a missing value\n",
    "house_data_reduced.dropna()"
   ]
  },
  {
   "cell_type": "code",
   "execution_count": 14,
   "id": "0abcf422",
   "metadata": {
    "ExecuteTime": {
     "end_time": "2022-09-02T03:27:39.595796Z",
     "start_time": "2022-09-02T03:27:39.575482Z"
    },
    "pycharm": {
     "name": "#%%\n"
    }
   },
   "outputs": [
    {
     "data": {
      "text/plain": "        Id  MSSubClass  LotArea Street LotShape LandContour LotConfig  \\\n0     1461          20    11622   Pave      Reg         Lvl    Inside   \n1     1462          20    14267   Pave      IR1         Lvl    Corner   \n2     1463          60    13830   Pave      IR1         Lvl    Inside   \n3     1464          60     9978   Pave      IR1         Lvl    Inside   \n4     1465         120     5005   Pave      IR1         HLS    Inside   \n...    ...         ...      ...    ...      ...         ...       ...   \n1454  2915         160     1936   Pave      Reg         Lvl    Inside   \n1455  2916         160     1894   Pave      Reg         Lvl    Inside   \n1456  2917          20    20000   Pave      Reg         Lvl    Inside   \n1457  2918          85    10441   Pave      Reg         Lvl    Inside   \n1458  2919          60     9627   Pave      Reg         Lvl    Inside   \n\n     LandSlope Neighborhood Condition1  ... WoodDeckSF OpenPorchSF  \\\n0          Gtl        NAmes      Feedr  ...        140           0   \n1          Gtl        NAmes       Norm  ...        393          36   \n2          Gtl      Gilbert       Norm  ...        212          34   \n3          Gtl      Gilbert       Norm  ...        360          36   \n4          Gtl      StoneBr       Norm  ...          0          82   \n...        ...          ...        ...  ...        ...         ...   \n1454       Gtl      MeadowV       Norm  ...          0           0   \n1455       Gtl      MeadowV       Norm  ...          0          24   \n1456       Gtl      Mitchel       Norm  ...        474           0   \n1457       Gtl      Mitchel       Norm  ...         80          32   \n1458       Mod      Mitchel       Norm  ...        190          48   \n\n     EnclosedPorch  3SsnPorch  ScreenPorch  PoolArea  MiscVal MoSold YrSold  \\\n0                0          0          120         0        0      6   2010   \n1                0          0            0         0    12500      6   2010   \n2                0          0            0         0        0      3   2010   \n3                0          0            0         0        0      6   2010   \n4                0          0          144         0        0      1   2010   \n...            ...        ...          ...       ...      ...    ...    ...   \n1454             0          0            0         0        0      6   2006   \n1455             0          0            0         0        0      4   2006   \n1456             0          0            0         0        0      9   2006   \n1457             0          0            0         0      700      7   2006   \n1458             0          0            0         0        0     11   2006   \n\n     SaleCondition  \n0           Normal  \n1           Normal  \n2           Normal  \n3           Normal  \n4           Normal  \n...            ...  \n1454        Normal  \n1455       Abnorml  \n1456       Abnorml  \n1457        Normal  \n1458        Normal  \n\n[1459 rows x 47 columns]",
      "text/html": "<div>\n<style scoped>\n    .dataframe tbody tr th:only-of-type {\n        vertical-align: middle;\n    }\n\n    .dataframe tbody tr th {\n        vertical-align: top;\n    }\n\n    .dataframe thead th {\n        text-align: right;\n    }\n</style>\n<table border=\"1\" class=\"dataframe\">\n  <thead>\n    <tr style=\"text-align: right;\">\n      <th></th>\n      <th>Id</th>\n      <th>MSSubClass</th>\n      <th>LotArea</th>\n      <th>Street</th>\n      <th>LotShape</th>\n      <th>LandContour</th>\n      <th>LotConfig</th>\n      <th>LandSlope</th>\n      <th>Neighborhood</th>\n      <th>Condition1</th>\n      <th>...</th>\n      <th>WoodDeckSF</th>\n      <th>OpenPorchSF</th>\n      <th>EnclosedPorch</th>\n      <th>3SsnPorch</th>\n      <th>ScreenPorch</th>\n      <th>PoolArea</th>\n      <th>MiscVal</th>\n      <th>MoSold</th>\n      <th>YrSold</th>\n      <th>SaleCondition</th>\n    </tr>\n  </thead>\n  <tbody>\n    <tr>\n      <th>0</th>\n      <td>1461</td>\n      <td>20</td>\n      <td>11622</td>\n      <td>Pave</td>\n      <td>Reg</td>\n      <td>Lvl</td>\n      <td>Inside</td>\n      <td>Gtl</td>\n      <td>NAmes</td>\n      <td>Feedr</td>\n      <td>...</td>\n      <td>140</td>\n      <td>0</td>\n      <td>0</td>\n      <td>0</td>\n      <td>120</td>\n      <td>0</td>\n      <td>0</td>\n      <td>6</td>\n      <td>2010</td>\n      <td>Normal</td>\n    </tr>\n    <tr>\n      <th>1</th>\n      <td>1462</td>\n      <td>20</td>\n      <td>14267</td>\n      <td>Pave</td>\n      <td>IR1</td>\n      <td>Lvl</td>\n      <td>Corner</td>\n      <td>Gtl</td>\n      <td>NAmes</td>\n      <td>Norm</td>\n      <td>...</td>\n      <td>393</td>\n      <td>36</td>\n      <td>0</td>\n      <td>0</td>\n      <td>0</td>\n      <td>0</td>\n      <td>12500</td>\n      <td>6</td>\n      <td>2010</td>\n      <td>Normal</td>\n    </tr>\n    <tr>\n      <th>2</th>\n      <td>1463</td>\n      <td>60</td>\n      <td>13830</td>\n      <td>Pave</td>\n      <td>IR1</td>\n      <td>Lvl</td>\n      <td>Inside</td>\n      <td>Gtl</td>\n      <td>Gilbert</td>\n      <td>Norm</td>\n      <td>...</td>\n      <td>212</td>\n      <td>34</td>\n      <td>0</td>\n      <td>0</td>\n      <td>0</td>\n      <td>0</td>\n      <td>0</td>\n      <td>3</td>\n      <td>2010</td>\n      <td>Normal</td>\n    </tr>\n    <tr>\n      <th>3</th>\n      <td>1464</td>\n      <td>60</td>\n      <td>9978</td>\n      <td>Pave</td>\n      <td>IR1</td>\n      <td>Lvl</td>\n      <td>Inside</td>\n      <td>Gtl</td>\n      <td>Gilbert</td>\n      <td>Norm</td>\n      <td>...</td>\n      <td>360</td>\n      <td>36</td>\n      <td>0</td>\n      <td>0</td>\n      <td>0</td>\n      <td>0</td>\n      <td>0</td>\n      <td>6</td>\n      <td>2010</td>\n      <td>Normal</td>\n    </tr>\n    <tr>\n      <th>4</th>\n      <td>1465</td>\n      <td>120</td>\n      <td>5005</td>\n      <td>Pave</td>\n      <td>IR1</td>\n      <td>HLS</td>\n      <td>Inside</td>\n      <td>Gtl</td>\n      <td>StoneBr</td>\n      <td>Norm</td>\n      <td>...</td>\n      <td>0</td>\n      <td>82</td>\n      <td>0</td>\n      <td>0</td>\n      <td>144</td>\n      <td>0</td>\n      <td>0</td>\n      <td>1</td>\n      <td>2010</td>\n      <td>Normal</td>\n    </tr>\n    <tr>\n      <th>...</th>\n      <td>...</td>\n      <td>...</td>\n      <td>...</td>\n      <td>...</td>\n      <td>...</td>\n      <td>...</td>\n      <td>...</td>\n      <td>...</td>\n      <td>...</td>\n      <td>...</td>\n      <td>...</td>\n      <td>...</td>\n      <td>...</td>\n      <td>...</td>\n      <td>...</td>\n      <td>...</td>\n      <td>...</td>\n      <td>...</td>\n      <td>...</td>\n      <td>...</td>\n      <td>...</td>\n    </tr>\n    <tr>\n      <th>1454</th>\n      <td>2915</td>\n      <td>160</td>\n      <td>1936</td>\n      <td>Pave</td>\n      <td>Reg</td>\n      <td>Lvl</td>\n      <td>Inside</td>\n      <td>Gtl</td>\n      <td>MeadowV</td>\n      <td>Norm</td>\n      <td>...</td>\n      <td>0</td>\n      <td>0</td>\n      <td>0</td>\n      <td>0</td>\n      <td>0</td>\n      <td>0</td>\n      <td>0</td>\n      <td>6</td>\n      <td>2006</td>\n      <td>Normal</td>\n    </tr>\n    <tr>\n      <th>1455</th>\n      <td>2916</td>\n      <td>160</td>\n      <td>1894</td>\n      <td>Pave</td>\n      <td>Reg</td>\n      <td>Lvl</td>\n      <td>Inside</td>\n      <td>Gtl</td>\n      <td>MeadowV</td>\n      <td>Norm</td>\n      <td>...</td>\n      <td>0</td>\n      <td>24</td>\n      <td>0</td>\n      <td>0</td>\n      <td>0</td>\n      <td>0</td>\n      <td>0</td>\n      <td>4</td>\n      <td>2006</td>\n      <td>Abnorml</td>\n    </tr>\n    <tr>\n      <th>1456</th>\n      <td>2917</td>\n      <td>20</td>\n      <td>20000</td>\n      <td>Pave</td>\n      <td>Reg</td>\n      <td>Lvl</td>\n      <td>Inside</td>\n      <td>Gtl</td>\n      <td>Mitchel</td>\n      <td>Norm</td>\n      <td>...</td>\n      <td>474</td>\n      <td>0</td>\n      <td>0</td>\n      <td>0</td>\n      <td>0</td>\n      <td>0</td>\n      <td>0</td>\n      <td>9</td>\n      <td>2006</td>\n      <td>Abnorml</td>\n    </tr>\n    <tr>\n      <th>1457</th>\n      <td>2918</td>\n      <td>85</td>\n      <td>10441</td>\n      <td>Pave</td>\n      <td>Reg</td>\n      <td>Lvl</td>\n      <td>Inside</td>\n      <td>Gtl</td>\n      <td>Mitchel</td>\n      <td>Norm</td>\n      <td>...</td>\n      <td>80</td>\n      <td>32</td>\n      <td>0</td>\n      <td>0</td>\n      <td>0</td>\n      <td>0</td>\n      <td>700</td>\n      <td>7</td>\n      <td>2006</td>\n      <td>Normal</td>\n    </tr>\n    <tr>\n      <th>1458</th>\n      <td>2919</td>\n      <td>60</td>\n      <td>9627</td>\n      <td>Pave</td>\n      <td>Reg</td>\n      <td>Lvl</td>\n      <td>Inside</td>\n      <td>Mod</td>\n      <td>Mitchel</td>\n      <td>Norm</td>\n      <td>...</td>\n      <td>190</td>\n      <td>48</td>\n      <td>0</td>\n      <td>0</td>\n      <td>0</td>\n      <td>0</td>\n      <td>0</td>\n      <td>11</td>\n      <td>2006</td>\n      <td>Normal</td>\n    </tr>\n  </tbody>\n</table>\n<p>1459 rows × 47 columns</p>\n</div>"
     },
     "execution_count": 14,
     "metadata": {},
     "output_type": "execute_result"
    }
   ],
   "source": [
    "house_data_reduced.dropna(axis=1)"
   ]
  },
  {
   "cell_type": "markdown",
   "id": "7950d7e2",
   "metadata": {
    "pycharm": {
     "name": "#%% md\n"
    }
   },
   "source": [
    "## Reemplazar los valores"
   ]
  },
  {
   "cell_type": "code",
   "execution_count": 15,
   "id": "3a9698c3",
   "metadata": {
    "ExecuteTime": {
     "end_time": "2022-09-02T03:27:39.601021Z",
     "start_time": "2022-09-02T03:27:39.598312Z"
    },
    "pycharm": {
     "name": "#%%\n"
    }
   },
   "outputs": [],
   "source": [
    "subset_house_data_reduced = house_data_reduced.sample(10, random_state=42)"
   ]
  },
  {
   "cell_type": "code",
   "execution_count": 16,
   "id": "23a66eef",
   "metadata": {
    "ExecuteTime": {
     "end_time": "2022-09-02T03:27:39.617543Z",
     "start_time": "2022-09-02T03:27:39.603261Z"
    },
    "pycharm": {
     "name": "#%%\n"
    }
   },
   "outputs": [
    {
     "data": {
      "text/plain": "        Id  MSSubClass MSZoning  LotFrontage  LotArea Street LotShape  \\\n1321  2782          20       RM         60.0     7200   Pave      Reg   \n836   2297          60       RL         82.0     9709   Pave      IR1   \n413   1874          20       RL         65.0     9757   Pave      Reg   \n522   1983         120       RL         48.0     6240   Pave      Reg   \n1035  2496          20       RL        102.0    12671   Pave      IR1   \n614   2075          20       RL          NaN    12929   Pave      IR1   \n218   1679          20       RL        117.0    15262   Pave      IR1   \n1031  2492          20       RL          NaN    11075   Pave      Reg   \n1289  2750          20       RL         80.0    13600   Pave      Reg   \n886   2347          20       FV         75.0     9000   Pave      Reg   \n\n     LandContour Utilities LotConfig  ... OpenPorchSF EnclosedPorch 3SsnPorch  \\\n1321         Lvl    AllPub    Inside  ...           0             0         0   \n836          Lvl    AllPub    Inside  ...         104             0         0   \n413          Low    AllPub    Inside  ...           0             0         0   \n522          Lvl    AllPub    Inside  ...          35             0         0   \n1035         Lvl    AllPub    Corner  ...          63             0         0   \n614          Lvl    AllPub    Inside  ...          82             0         0   \n218          Lvl    AllPub    Corner  ...          55             0         0   \n1031         Lvl    AllPub    Corner  ...          77             0         0   \n1289         Bnk    AllPub    Inside  ...           0             0         0   \n886          Lvl    AllPub    Inside  ...         210             0         0   \n\n     ScreenPorch PoolArea MiscVal  MoSold  YrSold  SaleType  SaleCondition  \n1321         115        0       0       8    2006       COD         Normal  \n836            0        0       0       9    2007       New        Partial  \n413           92        0       0      10    2009        WD         Normal  \n522            0        0       0       2    2008        WD         Normal  \n1035         144        0       0       7    2007        WD         Normal  \n614            0        0       0       6    2008        WD         Normal  \n218            0        0       0       7    2009        WD         Normal  \n1031         168        0       0       2    2007        WD         Normal  \n1289           0        0     650      11    2006        WD         Normal  \n886            0        0       0       6    2007       New        Partial  \n\n[10 rows x 76 columns]",
      "text/html": "<div>\n<style scoped>\n    .dataframe tbody tr th:only-of-type {\n        vertical-align: middle;\n    }\n\n    .dataframe tbody tr th {\n        vertical-align: top;\n    }\n\n    .dataframe thead th {\n        text-align: right;\n    }\n</style>\n<table border=\"1\" class=\"dataframe\">\n  <thead>\n    <tr style=\"text-align: right;\">\n      <th></th>\n      <th>Id</th>\n      <th>MSSubClass</th>\n      <th>MSZoning</th>\n      <th>LotFrontage</th>\n      <th>LotArea</th>\n      <th>Street</th>\n      <th>LotShape</th>\n      <th>LandContour</th>\n      <th>Utilities</th>\n      <th>LotConfig</th>\n      <th>...</th>\n      <th>OpenPorchSF</th>\n      <th>EnclosedPorch</th>\n      <th>3SsnPorch</th>\n      <th>ScreenPorch</th>\n      <th>PoolArea</th>\n      <th>MiscVal</th>\n      <th>MoSold</th>\n      <th>YrSold</th>\n      <th>SaleType</th>\n      <th>SaleCondition</th>\n    </tr>\n  </thead>\n  <tbody>\n    <tr>\n      <th>1321</th>\n      <td>2782</td>\n      <td>20</td>\n      <td>RM</td>\n      <td>60.0</td>\n      <td>7200</td>\n      <td>Pave</td>\n      <td>Reg</td>\n      <td>Lvl</td>\n      <td>AllPub</td>\n      <td>Inside</td>\n      <td>...</td>\n      <td>0</td>\n      <td>0</td>\n      <td>0</td>\n      <td>115</td>\n      <td>0</td>\n      <td>0</td>\n      <td>8</td>\n      <td>2006</td>\n      <td>COD</td>\n      <td>Normal</td>\n    </tr>\n    <tr>\n      <th>836</th>\n      <td>2297</td>\n      <td>60</td>\n      <td>RL</td>\n      <td>82.0</td>\n      <td>9709</td>\n      <td>Pave</td>\n      <td>IR1</td>\n      <td>Lvl</td>\n      <td>AllPub</td>\n      <td>Inside</td>\n      <td>...</td>\n      <td>104</td>\n      <td>0</td>\n      <td>0</td>\n      <td>0</td>\n      <td>0</td>\n      <td>0</td>\n      <td>9</td>\n      <td>2007</td>\n      <td>New</td>\n      <td>Partial</td>\n    </tr>\n    <tr>\n      <th>413</th>\n      <td>1874</td>\n      <td>20</td>\n      <td>RL</td>\n      <td>65.0</td>\n      <td>9757</td>\n      <td>Pave</td>\n      <td>Reg</td>\n      <td>Low</td>\n      <td>AllPub</td>\n      <td>Inside</td>\n      <td>...</td>\n      <td>0</td>\n      <td>0</td>\n      <td>0</td>\n      <td>92</td>\n      <td>0</td>\n      <td>0</td>\n      <td>10</td>\n      <td>2009</td>\n      <td>WD</td>\n      <td>Normal</td>\n    </tr>\n    <tr>\n      <th>522</th>\n      <td>1983</td>\n      <td>120</td>\n      <td>RL</td>\n      <td>48.0</td>\n      <td>6240</td>\n      <td>Pave</td>\n      <td>Reg</td>\n      <td>Lvl</td>\n      <td>AllPub</td>\n      <td>Inside</td>\n      <td>...</td>\n      <td>35</td>\n      <td>0</td>\n      <td>0</td>\n      <td>0</td>\n      <td>0</td>\n      <td>0</td>\n      <td>2</td>\n      <td>2008</td>\n      <td>WD</td>\n      <td>Normal</td>\n    </tr>\n    <tr>\n      <th>1035</th>\n      <td>2496</td>\n      <td>20</td>\n      <td>RL</td>\n      <td>102.0</td>\n      <td>12671</td>\n      <td>Pave</td>\n      <td>IR1</td>\n      <td>Lvl</td>\n      <td>AllPub</td>\n      <td>Corner</td>\n      <td>...</td>\n      <td>63</td>\n      <td>0</td>\n      <td>0</td>\n      <td>144</td>\n      <td>0</td>\n      <td>0</td>\n      <td>7</td>\n      <td>2007</td>\n      <td>WD</td>\n      <td>Normal</td>\n    </tr>\n    <tr>\n      <th>614</th>\n      <td>2075</td>\n      <td>20</td>\n      <td>RL</td>\n      <td>NaN</td>\n      <td>12929</td>\n      <td>Pave</td>\n      <td>IR1</td>\n      <td>Lvl</td>\n      <td>AllPub</td>\n      <td>Inside</td>\n      <td>...</td>\n      <td>82</td>\n      <td>0</td>\n      <td>0</td>\n      <td>0</td>\n      <td>0</td>\n      <td>0</td>\n      <td>6</td>\n      <td>2008</td>\n      <td>WD</td>\n      <td>Normal</td>\n    </tr>\n    <tr>\n      <th>218</th>\n      <td>1679</td>\n      <td>20</td>\n      <td>RL</td>\n      <td>117.0</td>\n      <td>15262</td>\n      <td>Pave</td>\n      <td>IR1</td>\n      <td>Lvl</td>\n      <td>AllPub</td>\n      <td>Corner</td>\n      <td>...</td>\n      <td>55</td>\n      <td>0</td>\n      <td>0</td>\n      <td>0</td>\n      <td>0</td>\n      <td>0</td>\n      <td>7</td>\n      <td>2009</td>\n      <td>WD</td>\n      <td>Normal</td>\n    </tr>\n    <tr>\n      <th>1031</th>\n      <td>2492</td>\n      <td>20</td>\n      <td>RL</td>\n      <td>NaN</td>\n      <td>11075</td>\n      <td>Pave</td>\n      <td>Reg</td>\n      <td>Lvl</td>\n      <td>AllPub</td>\n      <td>Corner</td>\n      <td>...</td>\n      <td>77</td>\n      <td>0</td>\n      <td>0</td>\n      <td>168</td>\n      <td>0</td>\n      <td>0</td>\n      <td>2</td>\n      <td>2007</td>\n      <td>WD</td>\n      <td>Normal</td>\n    </tr>\n    <tr>\n      <th>1289</th>\n      <td>2750</td>\n      <td>20</td>\n      <td>RL</td>\n      <td>80.0</td>\n      <td>13600</td>\n      <td>Pave</td>\n      <td>Reg</td>\n      <td>Bnk</td>\n      <td>AllPub</td>\n      <td>Inside</td>\n      <td>...</td>\n      <td>0</td>\n      <td>0</td>\n      <td>0</td>\n      <td>0</td>\n      <td>0</td>\n      <td>650</td>\n      <td>11</td>\n      <td>2006</td>\n      <td>WD</td>\n      <td>Normal</td>\n    </tr>\n    <tr>\n      <th>886</th>\n      <td>2347</td>\n      <td>20</td>\n      <td>FV</td>\n      <td>75.0</td>\n      <td>9000</td>\n      <td>Pave</td>\n      <td>Reg</td>\n      <td>Lvl</td>\n      <td>AllPub</td>\n      <td>Inside</td>\n      <td>...</td>\n      <td>210</td>\n      <td>0</td>\n      <td>0</td>\n      <td>0</td>\n      <td>0</td>\n      <td>0</td>\n      <td>6</td>\n      <td>2007</td>\n      <td>New</td>\n      <td>Partial</td>\n    </tr>\n  </tbody>\n</table>\n<p>10 rows × 76 columns</p>\n</div>"
     },
     "execution_count": 16,
     "metadata": {},
     "output_type": "execute_result"
    }
   ],
   "source": [
    "subset_house_data_reduced"
   ]
  },
  {
   "cell_type": "code",
   "execution_count": 17,
   "id": "bbb3ff1e",
   "metadata": {
    "ExecuteTime": {
     "end_time": "2022-09-02T03:27:39.639855Z",
     "start_time": "2022-09-02T03:27:39.620009Z"
    },
    "pycharm": {
     "name": "#%%\n"
    }
   },
   "outputs": [
    {
     "data": {
      "text/plain": "        Id  MSSubClass MSZoning  LotFrontage  LotArea Street LotShape  \\\n1321  2782          20       RM         60.0     7200   Pave      Reg   \n836   2297          60       RL         82.0     9709   Pave      IR1   \n413   1874          20       RL         65.0     9757   Pave      Reg   \n522   1983         120       RL         48.0     6240   Pave      Reg   \n1035  2496          20       RL        102.0    12671   Pave      IR1   \n614   2075          20       RL          0.0    12929   Pave      IR1   \n218   1679          20       RL        117.0    15262   Pave      IR1   \n1031  2492          20       RL          0.0    11075   Pave      Reg   \n1289  2750          20       RL         80.0    13600   Pave      Reg   \n886   2347          20       FV         75.0     9000   Pave      Reg   \n\n     LandContour Utilities LotConfig  ... OpenPorchSF EnclosedPorch 3SsnPorch  \\\n1321         Lvl    AllPub    Inside  ...           0             0         0   \n836          Lvl    AllPub    Inside  ...         104             0         0   \n413          Low    AllPub    Inside  ...           0             0         0   \n522          Lvl    AllPub    Inside  ...          35             0         0   \n1035         Lvl    AllPub    Corner  ...          63             0         0   \n614          Lvl    AllPub    Inside  ...          82             0         0   \n218          Lvl    AllPub    Corner  ...          55             0         0   \n1031         Lvl    AllPub    Corner  ...          77             0         0   \n1289         Bnk    AllPub    Inside  ...           0             0         0   \n886          Lvl    AllPub    Inside  ...         210             0         0   \n\n     ScreenPorch PoolArea MiscVal  MoSold  YrSold  SaleType  SaleCondition  \n1321         115        0       0       8    2006       COD         Normal  \n836            0        0       0       9    2007       New        Partial  \n413           92        0       0      10    2009        WD         Normal  \n522            0        0       0       2    2008        WD         Normal  \n1035         144        0       0       7    2007        WD         Normal  \n614            0        0       0       6    2008        WD         Normal  \n218            0        0       0       7    2009        WD         Normal  \n1031         168        0       0       2    2007        WD         Normal  \n1289           0        0     650      11    2006        WD         Normal  \n886            0        0       0       6    2007       New        Partial  \n\n[10 rows x 76 columns]",
      "text/html": "<div>\n<style scoped>\n    .dataframe tbody tr th:only-of-type {\n        vertical-align: middle;\n    }\n\n    .dataframe tbody tr th {\n        vertical-align: top;\n    }\n\n    .dataframe thead th {\n        text-align: right;\n    }\n</style>\n<table border=\"1\" class=\"dataframe\">\n  <thead>\n    <tr style=\"text-align: right;\">\n      <th></th>\n      <th>Id</th>\n      <th>MSSubClass</th>\n      <th>MSZoning</th>\n      <th>LotFrontage</th>\n      <th>LotArea</th>\n      <th>Street</th>\n      <th>LotShape</th>\n      <th>LandContour</th>\n      <th>Utilities</th>\n      <th>LotConfig</th>\n      <th>...</th>\n      <th>OpenPorchSF</th>\n      <th>EnclosedPorch</th>\n      <th>3SsnPorch</th>\n      <th>ScreenPorch</th>\n      <th>PoolArea</th>\n      <th>MiscVal</th>\n      <th>MoSold</th>\n      <th>YrSold</th>\n      <th>SaleType</th>\n      <th>SaleCondition</th>\n    </tr>\n  </thead>\n  <tbody>\n    <tr>\n      <th>1321</th>\n      <td>2782</td>\n      <td>20</td>\n      <td>RM</td>\n      <td>60.0</td>\n      <td>7200</td>\n      <td>Pave</td>\n      <td>Reg</td>\n      <td>Lvl</td>\n      <td>AllPub</td>\n      <td>Inside</td>\n      <td>...</td>\n      <td>0</td>\n      <td>0</td>\n      <td>0</td>\n      <td>115</td>\n      <td>0</td>\n      <td>0</td>\n      <td>8</td>\n      <td>2006</td>\n      <td>COD</td>\n      <td>Normal</td>\n    </tr>\n    <tr>\n      <th>836</th>\n      <td>2297</td>\n      <td>60</td>\n      <td>RL</td>\n      <td>82.0</td>\n      <td>9709</td>\n      <td>Pave</td>\n      <td>IR1</td>\n      <td>Lvl</td>\n      <td>AllPub</td>\n      <td>Inside</td>\n      <td>...</td>\n      <td>104</td>\n      <td>0</td>\n      <td>0</td>\n      <td>0</td>\n      <td>0</td>\n      <td>0</td>\n      <td>9</td>\n      <td>2007</td>\n      <td>New</td>\n      <td>Partial</td>\n    </tr>\n    <tr>\n      <th>413</th>\n      <td>1874</td>\n      <td>20</td>\n      <td>RL</td>\n      <td>65.0</td>\n      <td>9757</td>\n      <td>Pave</td>\n      <td>Reg</td>\n      <td>Low</td>\n      <td>AllPub</td>\n      <td>Inside</td>\n      <td>...</td>\n      <td>0</td>\n      <td>0</td>\n      <td>0</td>\n      <td>92</td>\n      <td>0</td>\n      <td>0</td>\n      <td>10</td>\n      <td>2009</td>\n      <td>WD</td>\n      <td>Normal</td>\n    </tr>\n    <tr>\n      <th>522</th>\n      <td>1983</td>\n      <td>120</td>\n      <td>RL</td>\n      <td>48.0</td>\n      <td>6240</td>\n      <td>Pave</td>\n      <td>Reg</td>\n      <td>Lvl</td>\n      <td>AllPub</td>\n      <td>Inside</td>\n      <td>...</td>\n      <td>35</td>\n      <td>0</td>\n      <td>0</td>\n      <td>0</td>\n      <td>0</td>\n      <td>0</td>\n      <td>2</td>\n      <td>2008</td>\n      <td>WD</td>\n      <td>Normal</td>\n    </tr>\n    <tr>\n      <th>1035</th>\n      <td>2496</td>\n      <td>20</td>\n      <td>RL</td>\n      <td>102.0</td>\n      <td>12671</td>\n      <td>Pave</td>\n      <td>IR1</td>\n      <td>Lvl</td>\n      <td>AllPub</td>\n      <td>Corner</td>\n      <td>...</td>\n      <td>63</td>\n      <td>0</td>\n      <td>0</td>\n      <td>144</td>\n      <td>0</td>\n      <td>0</td>\n      <td>7</td>\n      <td>2007</td>\n      <td>WD</td>\n      <td>Normal</td>\n    </tr>\n    <tr>\n      <th>614</th>\n      <td>2075</td>\n      <td>20</td>\n      <td>RL</td>\n      <td>0.0</td>\n      <td>12929</td>\n      <td>Pave</td>\n      <td>IR1</td>\n      <td>Lvl</td>\n      <td>AllPub</td>\n      <td>Inside</td>\n      <td>...</td>\n      <td>82</td>\n      <td>0</td>\n      <td>0</td>\n      <td>0</td>\n      <td>0</td>\n      <td>0</td>\n      <td>6</td>\n      <td>2008</td>\n      <td>WD</td>\n      <td>Normal</td>\n    </tr>\n    <tr>\n      <th>218</th>\n      <td>1679</td>\n      <td>20</td>\n      <td>RL</td>\n      <td>117.0</td>\n      <td>15262</td>\n      <td>Pave</td>\n      <td>IR1</td>\n      <td>Lvl</td>\n      <td>AllPub</td>\n      <td>Corner</td>\n      <td>...</td>\n      <td>55</td>\n      <td>0</td>\n      <td>0</td>\n      <td>0</td>\n      <td>0</td>\n      <td>0</td>\n      <td>7</td>\n      <td>2009</td>\n      <td>WD</td>\n      <td>Normal</td>\n    </tr>\n    <tr>\n      <th>1031</th>\n      <td>2492</td>\n      <td>20</td>\n      <td>RL</td>\n      <td>0.0</td>\n      <td>11075</td>\n      <td>Pave</td>\n      <td>Reg</td>\n      <td>Lvl</td>\n      <td>AllPub</td>\n      <td>Corner</td>\n      <td>...</td>\n      <td>77</td>\n      <td>0</td>\n      <td>0</td>\n      <td>168</td>\n      <td>0</td>\n      <td>0</td>\n      <td>2</td>\n      <td>2007</td>\n      <td>WD</td>\n      <td>Normal</td>\n    </tr>\n    <tr>\n      <th>1289</th>\n      <td>2750</td>\n      <td>20</td>\n      <td>RL</td>\n      <td>80.0</td>\n      <td>13600</td>\n      <td>Pave</td>\n      <td>Reg</td>\n      <td>Bnk</td>\n      <td>AllPub</td>\n      <td>Inside</td>\n      <td>...</td>\n      <td>0</td>\n      <td>0</td>\n      <td>0</td>\n      <td>0</td>\n      <td>0</td>\n      <td>650</td>\n      <td>11</td>\n      <td>2006</td>\n      <td>WD</td>\n      <td>Normal</td>\n    </tr>\n    <tr>\n      <th>886</th>\n      <td>2347</td>\n      <td>20</td>\n      <td>FV</td>\n      <td>75.0</td>\n      <td>9000</td>\n      <td>Pave</td>\n      <td>Reg</td>\n      <td>Lvl</td>\n      <td>AllPub</td>\n      <td>Inside</td>\n      <td>...</td>\n      <td>210</td>\n      <td>0</td>\n      <td>0</td>\n      <td>0</td>\n      <td>0</td>\n      <td>0</td>\n      <td>6</td>\n      <td>2007</td>\n      <td>New</td>\n      <td>Partial</td>\n    </tr>\n  </tbody>\n</table>\n<p>10 rows × 76 columns</p>\n</div>"
     },
     "execution_count": 17,
     "metadata": {},
     "output_type": "execute_result"
    }
   ],
   "source": [
    "subset_house_data_reduced.fillna(0)"
   ]
  },
  {
   "cell_type": "code",
   "execution_count": 18,
   "id": "b49e1f85",
   "metadata": {
    "ExecuteTime": {
     "end_time": "2022-09-02T03:27:39.656913Z",
     "start_time": "2022-09-02T03:27:39.641193Z"
    },
    "pycharm": {
     "name": "#%%\n"
    }
   },
   "outputs": [
    {
     "data": {
      "text/plain": "        Id  MSSubClass MSZoning  LotFrontage  LotArea Street LotShape  \\\n1321  2782          20       RM         60.0     7200   Pave      Reg   \n836   2297          60       RL         82.0     9709   Pave      IR1   \n413   1874          20       RL         65.0     9757   Pave      Reg   \n522   1983         120       RL         48.0     6240   Pave      Reg   \n1035  2496          20       RL        102.0    12671   Pave      IR1   \n614   2075          20       RL        117.0    12929   Pave      IR1   \n218   1679          20       RL        117.0    15262   Pave      IR1   \n1031  2492          20       RL         80.0    11075   Pave      Reg   \n1289  2750          20       RL         80.0    13600   Pave      Reg   \n886   2347          20       FV         75.0     9000   Pave      Reg   \n\n     LandContour Utilities LotConfig  ... OpenPorchSF EnclosedPorch 3SsnPorch  \\\n1321         Lvl    AllPub    Inside  ...           0             0         0   \n836          Lvl    AllPub    Inside  ...         104             0         0   \n413          Low    AllPub    Inside  ...           0             0         0   \n522          Lvl    AllPub    Inside  ...          35             0         0   \n1035         Lvl    AllPub    Corner  ...          63             0         0   \n614          Lvl    AllPub    Inside  ...          82             0         0   \n218          Lvl    AllPub    Corner  ...          55             0         0   \n1031         Lvl    AllPub    Corner  ...          77             0         0   \n1289         Bnk    AllPub    Inside  ...           0             0         0   \n886          Lvl    AllPub    Inside  ...         210             0         0   \n\n     ScreenPorch PoolArea MiscVal  MoSold  YrSold  SaleType  SaleCondition  \n1321         115        0       0       8    2006       COD         Normal  \n836            0        0       0       9    2007       New        Partial  \n413           92        0       0      10    2009        WD         Normal  \n522            0        0       0       2    2008        WD         Normal  \n1035         144        0       0       7    2007        WD         Normal  \n614            0        0       0       6    2008        WD         Normal  \n218            0        0       0       7    2009        WD         Normal  \n1031         168        0       0       2    2007        WD         Normal  \n1289           0        0     650      11    2006        WD         Normal  \n886            0        0       0       6    2007       New        Partial  \n\n[10 rows x 76 columns]",
      "text/html": "<div>\n<style scoped>\n    .dataframe tbody tr th:only-of-type {\n        vertical-align: middle;\n    }\n\n    .dataframe tbody tr th {\n        vertical-align: top;\n    }\n\n    .dataframe thead th {\n        text-align: right;\n    }\n</style>\n<table border=\"1\" class=\"dataframe\">\n  <thead>\n    <tr style=\"text-align: right;\">\n      <th></th>\n      <th>Id</th>\n      <th>MSSubClass</th>\n      <th>MSZoning</th>\n      <th>LotFrontage</th>\n      <th>LotArea</th>\n      <th>Street</th>\n      <th>LotShape</th>\n      <th>LandContour</th>\n      <th>Utilities</th>\n      <th>LotConfig</th>\n      <th>...</th>\n      <th>OpenPorchSF</th>\n      <th>EnclosedPorch</th>\n      <th>3SsnPorch</th>\n      <th>ScreenPorch</th>\n      <th>PoolArea</th>\n      <th>MiscVal</th>\n      <th>MoSold</th>\n      <th>YrSold</th>\n      <th>SaleType</th>\n      <th>SaleCondition</th>\n    </tr>\n  </thead>\n  <tbody>\n    <tr>\n      <th>1321</th>\n      <td>2782</td>\n      <td>20</td>\n      <td>RM</td>\n      <td>60.0</td>\n      <td>7200</td>\n      <td>Pave</td>\n      <td>Reg</td>\n      <td>Lvl</td>\n      <td>AllPub</td>\n      <td>Inside</td>\n      <td>...</td>\n      <td>0</td>\n      <td>0</td>\n      <td>0</td>\n      <td>115</td>\n      <td>0</td>\n      <td>0</td>\n      <td>8</td>\n      <td>2006</td>\n      <td>COD</td>\n      <td>Normal</td>\n    </tr>\n    <tr>\n      <th>836</th>\n      <td>2297</td>\n      <td>60</td>\n      <td>RL</td>\n      <td>82.0</td>\n      <td>9709</td>\n      <td>Pave</td>\n      <td>IR1</td>\n      <td>Lvl</td>\n      <td>AllPub</td>\n      <td>Inside</td>\n      <td>...</td>\n      <td>104</td>\n      <td>0</td>\n      <td>0</td>\n      <td>0</td>\n      <td>0</td>\n      <td>0</td>\n      <td>9</td>\n      <td>2007</td>\n      <td>New</td>\n      <td>Partial</td>\n    </tr>\n    <tr>\n      <th>413</th>\n      <td>1874</td>\n      <td>20</td>\n      <td>RL</td>\n      <td>65.0</td>\n      <td>9757</td>\n      <td>Pave</td>\n      <td>Reg</td>\n      <td>Low</td>\n      <td>AllPub</td>\n      <td>Inside</td>\n      <td>...</td>\n      <td>0</td>\n      <td>0</td>\n      <td>0</td>\n      <td>92</td>\n      <td>0</td>\n      <td>0</td>\n      <td>10</td>\n      <td>2009</td>\n      <td>WD</td>\n      <td>Normal</td>\n    </tr>\n    <tr>\n      <th>522</th>\n      <td>1983</td>\n      <td>120</td>\n      <td>RL</td>\n      <td>48.0</td>\n      <td>6240</td>\n      <td>Pave</td>\n      <td>Reg</td>\n      <td>Lvl</td>\n      <td>AllPub</td>\n      <td>Inside</td>\n      <td>...</td>\n      <td>35</td>\n      <td>0</td>\n      <td>0</td>\n      <td>0</td>\n      <td>0</td>\n      <td>0</td>\n      <td>2</td>\n      <td>2008</td>\n      <td>WD</td>\n      <td>Normal</td>\n    </tr>\n    <tr>\n      <th>1035</th>\n      <td>2496</td>\n      <td>20</td>\n      <td>RL</td>\n      <td>102.0</td>\n      <td>12671</td>\n      <td>Pave</td>\n      <td>IR1</td>\n      <td>Lvl</td>\n      <td>AllPub</td>\n      <td>Corner</td>\n      <td>...</td>\n      <td>63</td>\n      <td>0</td>\n      <td>0</td>\n      <td>144</td>\n      <td>0</td>\n      <td>0</td>\n      <td>7</td>\n      <td>2007</td>\n      <td>WD</td>\n      <td>Normal</td>\n    </tr>\n    <tr>\n      <th>614</th>\n      <td>2075</td>\n      <td>20</td>\n      <td>RL</td>\n      <td>117.0</td>\n      <td>12929</td>\n      <td>Pave</td>\n      <td>IR1</td>\n      <td>Lvl</td>\n      <td>AllPub</td>\n      <td>Inside</td>\n      <td>...</td>\n      <td>82</td>\n      <td>0</td>\n      <td>0</td>\n      <td>0</td>\n      <td>0</td>\n      <td>0</td>\n      <td>6</td>\n      <td>2008</td>\n      <td>WD</td>\n      <td>Normal</td>\n    </tr>\n    <tr>\n      <th>218</th>\n      <td>1679</td>\n      <td>20</td>\n      <td>RL</td>\n      <td>117.0</td>\n      <td>15262</td>\n      <td>Pave</td>\n      <td>IR1</td>\n      <td>Lvl</td>\n      <td>AllPub</td>\n      <td>Corner</td>\n      <td>...</td>\n      <td>55</td>\n      <td>0</td>\n      <td>0</td>\n      <td>0</td>\n      <td>0</td>\n      <td>0</td>\n      <td>7</td>\n      <td>2009</td>\n      <td>WD</td>\n      <td>Normal</td>\n    </tr>\n    <tr>\n      <th>1031</th>\n      <td>2492</td>\n      <td>20</td>\n      <td>RL</td>\n      <td>80.0</td>\n      <td>11075</td>\n      <td>Pave</td>\n      <td>Reg</td>\n      <td>Lvl</td>\n      <td>AllPub</td>\n      <td>Corner</td>\n      <td>...</td>\n      <td>77</td>\n      <td>0</td>\n      <td>0</td>\n      <td>168</td>\n      <td>0</td>\n      <td>0</td>\n      <td>2</td>\n      <td>2007</td>\n      <td>WD</td>\n      <td>Normal</td>\n    </tr>\n    <tr>\n      <th>1289</th>\n      <td>2750</td>\n      <td>20</td>\n      <td>RL</td>\n      <td>80.0</td>\n      <td>13600</td>\n      <td>Pave</td>\n      <td>Reg</td>\n      <td>Bnk</td>\n      <td>AllPub</td>\n      <td>Inside</td>\n      <td>...</td>\n      <td>0</td>\n      <td>0</td>\n      <td>0</td>\n      <td>0</td>\n      <td>0</td>\n      <td>650</td>\n      <td>11</td>\n      <td>2006</td>\n      <td>WD</td>\n      <td>Normal</td>\n    </tr>\n    <tr>\n      <th>886</th>\n      <td>2347</td>\n      <td>20</td>\n      <td>FV</td>\n      <td>75.0</td>\n      <td>9000</td>\n      <td>Pave</td>\n      <td>Reg</td>\n      <td>Lvl</td>\n      <td>AllPub</td>\n      <td>Inside</td>\n      <td>...</td>\n      <td>210</td>\n      <td>0</td>\n      <td>0</td>\n      <td>0</td>\n      <td>0</td>\n      <td>0</td>\n      <td>6</td>\n      <td>2007</td>\n      <td>New</td>\n      <td>Partial</td>\n    </tr>\n  </tbody>\n</table>\n<p>10 rows × 76 columns</p>\n</div>"
     },
     "execution_count": 18,
     "metadata": {},
     "output_type": "execute_result"
    }
   ],
   "source": [
    "subset_house_data_reduced.fillna(method='bfill')"
   ]
  },
  {
   "cell_type": "code",
   "execution_count": 14,
   "id": "1ffb3be0",
   "metadata": {
    "ExecuteTime": {
     "end_time": "2022-09-02T03:27:39.674290Z",
     "start_time": "2022-09-02T03:27:39.658331Z"
    },
    "pycharm": {
     "name": "#%%\n"
    }
   },
   "outputs": [
    {
     "data": {
      "text/html": [
       "<div>\n",
       "<style scoped>\n",
       "    .dataframe tbody tr th:only-of-type {\n",
       "        vertical-align: middle;\n",
       "    }\n",
       "\n",
       "    .dataframe tbody tr th {\n",
       "        vertical-align: top;\n",
       "    }\n",
       "\n",
       "    .dataframe thead th {\n",
       "        text-align: right;\n",
       "    }\n",
       "</style>\n",
       "<table border=\"1\" class=\"dataframe\">\n",
       "  <thead>\n",
       "    <tr style=\"text-align: right;\">\n",
       "      <th></th>\n",
       "      <th>Id</th>\n",
       "      <th>MSSubClass</th>\n",
       "      <th>MSZoning</th>\n",
       "      <th>LotFrontage</th>\n",
       "      <th>LotArea</th>\n",
       "      <th>Street</th>\n",
       "      <th>LotShape</th>\n",
       "      <th>LandContour</th>\n",
       "      <th>Utilities</th>\n",
       "      <th>LotConfig</th>\n",
       "      <th>...</th>\n",
       "      <th>OpenPorchSF</th>\n",
       "      <th>EnclosedPorch</th>\n",
       "      <th>3SsnPorch</th>\n",
       "      <th>ScreenPorch</th>\n",
       "      <th>PoolArea</th>\n",
       "      <th>MiscVal</th>\n",
       "      <th>MoSold</th>\n",
       "      <th>YrSold</th>\n",
       "      <th>SaleType</th>\n",
       "      <th>SaleCondition</th>\n",
       "    </tr>\n",
       "  </thead>\n",
       "  <tbody>\n",
       "    <tr>\n",
       "      <th>1321</th>\n",
       "      <td>2782</td>\n",
       "      <td>20</td>\n",
       "      <td>RM</td>\n",
       "      <td>60.0</td>\n",
       "      <td>7200</td>\n",
       "      <td>Pave</td>\n",
       "      <td>Reg</td>\n",
       "      <td>Lvl</td>\n",
       "      <td>AllPub</td>\n",
       "      <td>Inside</td>\n",
       "      <td>...</td>\n",
       "      <td>0</td>\n",
       "      <td>0</td>\n",
       "      <td>0</td>\n",
       "      <td>115</td>\n",
       "      <td>0</td>\n",
       "      <td>0</td>\n",
       "      <td>8</td>\n",
       "      <td>2006</td>\n",
       "      <td>COD</td>\n",
       "      <td>Normal</td>\n",
       "    </tr>\n",
       "    <tr>\n",
       "      <th>836</th>\n",
       "      <td>2297</td>\n",
       "      <td>60</td>\n",
       "      <td>RL</td>\n",
       "      <td>82.0</td>\n",
       "      <td>9709</td>\n",
       "      <td>Pave</td>\n",
       "      <td>IR1</td>\n",
       "      <td>Lvl</td>\n",
       "      <td>AllPub</td>\n",
       "      <td>Inside</td>\n",
       "      <td>...</td>\n",
       "      <td>104</td>\n",
       "      <td>0</td>\n",
       "      <td>0</td>\n",
       "      <td>0</td>\n",
       "      <td>0</td>\n",
       "      <td>0</td>\n",
       "      <td>9</td>\n",
       "      <td>2007</td>\n",
       "      <td>New</td>\n",
       "      <td>Partial</td>\n",
       "    </tr>\n",
       "    <tr>\n",
       "      <th>413</th>\n",
       "      <td>1874</td>\n",
       "      <td>20</td>\n",
       "      <td>RL</td>\n",
       "      <td>65.0</td>\n",
       "      <td>9757</td>\n",
       "      <td>Pave</td>\n",
       "      <td>Reg</td>\n",
       "      <td>Low</td>\n",
       "      <td>AllPub</td>\n",
       "      <td>Inside</td>\n",
       "      <td>...</td>\n",
       "      <td>0</td>\n",
       "      <td>0</td>\n",
       "      <td>0</td>\n",
       "      <td>92</td>\n",
       "      <td>0</td>\n",
       "      <td>0</td>\n",
       "      <td>10</td>\n",
       "      <td>2009</td>\n",
       "      <td>WD</td>\n",
       "      <td>Normal</td>\n",
       "    </tr>\n",
       "    <tr>\n",
       "      <th>522</th>\n",
       "      <td>1983</td>\n",
       "      <td>120</td>\n",
       "      <td>RL</td>\n",
       "      <td>48.0</td>\n",
       "      <td>6240</td>\n",
       "      <td>Pave</td>\n",
       "      <td>Reg</td>\n",
       "      <td>Lvl</td>\n",
       "      <td>AllPub</td>\n",
       "      <td>Inside</td>\n",
       "      <td>...</td>\n",
       "      <td>35</td>\n",
       "      <td>0</td>\n",
       "      <td>0</td>\n",
       "      <td>0</td>\n",
       "      <td>0</td>\n",
       "      <td>0</td>\n",
       "      <td>2</td>\n",
       "      <td>2008</td>\n",
       "      <td>WD</td>\n",
       "      <td>Normal</td>\n",
       "    </tr>\n",
       "    <tr>\n",
       "      <th>1035</th>\n",
       "      <td>2496</td>\n",
       "      <td>20</td>\n",
       "      <td>RL</td>\n",
       "      <td>102.0</td>\n",
       "      <td>12671</td>\n",
       "      <td>Pave</td>\n",
       "      <td>IR1</td>\n",
       "      <td>Lvl</td>\n",
       "      <td>AllPub</td>\n",
       "      <td>Corner</td>\n",
       "      <td>...</td>\n",
       "      <td>63</td>\n",
       "      <td>0</td>\n",
       "      <td>0</td>\n",
       "      <td>144</td>\n",
       "      <td>0</td>\n",
       "      <td>0</td>\n",
       "      <td>7</td>\n",
       "      <td>2007</td>\n",
       "      <td>WD</td>\n",
       "      <td>Normal</td>\n",
       "    </tr>\n",
       "    <tr>\n",
       "      <th>614</th>\n",
       "      <td>2075</td>\n",
       "      <td>20</td>\n",
       "      <td>RL</td>\n",
       "      <td>102.0</td>\n",
       "      <td>12929</td>\n",
       "      <td>Pave</td>\n",
       "      <td>IR1</td>\n",
       "      <td>Lvl</td>\n",
       "      <td>AllPub</td>\n",
       "      <td>Inside</td>\n",
       "      <td>...</td>\n",
       "      <td>82</td>\n",
       "      <td>0</td>\n",
       "      <td>0</td>\n",
       "      <td>0</td>\n",
       "      <td>0</td>\n",
       "      <td>0</td>\n",
       "      <td>6</td>\n",
       "      <td>2008</td>\n",
       "      <td>WD</td>\n",
       "      <td>Normal</td>\n",
       "    </tr>\n",
       "    <tr>\n",
       "      <th>218</th>\n",
       "      <td>1679</td>\n",
       "      <td>20</td>\n",
       "      <td>RL</td>\n",
       "      <td>117.0</td>\n",
       "      <td>15262</td>\n",
       "      <td>Pave</td>\n",
       "      <td>IR1</td>\n",
       "      <td>Lvl</td>\n",
       "      <td>AllPub</td>\n",
       "      <td>Corner</td>\n",
       "      <td>...</td>\n",
       "      <td>55</td>\n",
       "      <td>0</td>\n",
       "      <td>0</td>\n",
       "      <td>0</td>\n",
       "      <td>0</td>\n",
       "      <td>0</td>\n",
       "      <td>7</td>\n",
       "      <td>2009</td>\n",
       "      <td>WD</td>\n",
       "      <td>Normal</td>\n",
       "    </tr>\n",
       "    <tr>\n",
       "      <th>1031</th>\n",
       "      <td>2492</td>\n",
       "      <td>20</td>\n",
       "      <td>RL</td>\n",
       "      <td>117.0</td>\n",
       "      <td>11075</td>\n",
       "      <td>Pave</td>\n",
       "      <td>Reg</td>\n",
       "      <td>Lvl</td>\n",
       "      <td>AllPub</td>\n",
       "      <td>Corner</td>\n",
       "      <td>...</td>\n",
       "      <td>77</td>\n",
       "      <td>0</td>\n",
       "      <td>0</td>\n",
       "      <td>168</td>\n",
       "      <td>0</td>\n",
       "      <td>0</td>\n",
       "      <td>2</td>\n",
       "      <td>2007</td>\n",
       "      <td>WD</td>\n",
       "      <td>Normal</td>\n",
       "    </tr>\n",
       "    <tr>\n",
       "      <th>1289</th>\n",
       "      <td>2750</td>\n",
       "      <td>20</td>\n",
       "      <td>RL</td>\n",
       "      <td>80.0</td>\n",
       "      <td>13600</td>\n",
       "      <td>Pave</td>\n",
       "      <td>Reg</td>\n",
       "      <td>Bnk</td>\n",
       "      <td>AllPub</td>\n",
       "      <td>Inside</td>\n",
       "      <td>...</td>\n",
       "      <td>0</td>\n",
       "      <td>0</td>\n",
       "      <td>0</td>\n",
       "      <td>0</td>\n",
       "      <td>0</td>\n",
       "      <td>650</td>\n",
       "      <td>11</td>\n",
       "      <td>2006</td>\n",
       "      <td>WD</td>\n",
       "      <td>Normal</td>\n",
       "    </tr>\n",
       "    <tr>\n",
       "      <th>886</th>\n",
       "      <td>2347</td>\n",
       "      <td>20</td>\n",
       "      <td>FV</td>\n",
       "      <td>75.0</td>\n",
       "      <td>9000</td>\n",
       "      <td>Pave</td>\n",
       "      <td>Reg</td>\n",
       "      <td>Lvl</td>\n",
       "      <td>AllPub</td>\n",
       "      <td>Inside</td>\n",
       "      <td>...</td>\n",
       "      <td>210</td>\n",
       "      <td>0</td>\n",
       "      <td>0</td>\n",
       "      <td>0</td>\n",
       "      <td>0</td>\n",
       "      <td>0</td>\n",
       "      <td>6</td>\n",
       "      <td>2007</td>\n",
       "      <td>New</td>\n",
       "      <td>Partial</td>\n",
       "    </tr>\n",
       "  </tbody>\n",
       "</table>\n",
       "<p>10 rows × 76 columns</p>\n",
       "</div>"
      ],
      "text/plain": [
       "        Id  MSSubClass MSZoning  LotFrontage  LotArea Street LotShape  \\\n",
       "1321  2782          20       RM         60.0     7200   Pave      Reg   \n",
       "836   2297          60       RL         82.0     9709   Pave      IR1   \n",
       "413   1874          20       RL         65.0     9757   Pave      Reg   \n",
       "522   1983         120       RL         48.0     6240   Pave      Reg   \n",
       "1035  2496          20       RL        102.0    12671   Pave      IR1   \n",
       "614   2075          20       RL        102.0    12929   Pave      IR1   \n",
       "218   1679          20       RL        117.0    15262   Pave      IR1   \n",
       "1031  2492          20       RL        117.0    11075   Pave      Reg   \n",
       "1289  2750          20       RL         80.0    13600   Pave      Reg   \n",
       "886   2347          20       FV         75.0     9000   Pave      Reg   \n",
       "\n",
       "     LandContour Utilities LotConfig  ... OpenPorchSF EnclosedPorch 3SsnPorch  \\\n",
       "1321         Lvl    AllPub    Inside  ...           0             0         0   \n",
       "836          Lvl    AllPub    Inside  ...         104             0         0   \n",
       "413          Low    AllPub    Inside  ...           0             0         0   \n",
       "522          Lvl    AllPub    Inside  ...          35             0         0   \n",
       "1035         Lvl    AllPub    Corner  ...          63             0         0   \n",
       "614          Lvl    AllPub    Inside  ...          82             0         0   \n",
       "218          Lvl    AllPub    Corner  ...          55             0         0   \n",
       "1031         Lvl    AllPub    Corner  ...          77             0         0   \n",
       "1289         Bnk    AllPub    Inside  ...           0             0         0   \n",
       "886          Lvl    AllPub    Inside  ...         210             0         0   \n",
       "\n",
       "     ScreenPorch PoolArea MiscVal  MoSold  YrSold  SaleType  SaleCondition  \n",
       "1321         115        0       0       8    2006       COD         Normal  \n",
       "836            0        0       0       9    2007       New        Partial  \n",
       "413           92        0       0      10    2009        WD         Normal  \n",
       "522            0        0       0       2    2008        WD         Normal  \n",
       "1035         144        0       0       7    2007        WD         Normal  \n",
       "614            0        0       0       6    2008        WD         Normal  \n",
       "218            0        0       0       7    2009        WD         Normal  \n",
       "1031         168        0       0       2    2007        WD         Normal  \n",
       "1289           0        0     650      11    2006        WD         Normal  \n",
       "886            0        0       0       6    2007       New        Partial  \n",
       "\n",
       "[10 rows x 76 columns]"
      ]
     },
     "execution_count": 14,
     "metadata": {},
     "output_type": "execute_result"
    }
   ],
   "source": [
    "subset_house_data_reduced.fillna(method='ffill', axis=0)"
   ]
  },
  {
   "cell_type": "code",
   "execution_count": 15,
   "id": "9fdb810a",
   "metadata": {
    "ExecuteTime": {
     "end_time": "2022-09-02T03:27:39.689803Z",
     "start_time": "2022-09-02T03:27:39.675841Z"
    },
    "pycharm": {
     "name": "#%%\n"
    }
   },
   "outputs": [
    {
     "data": {
      "text/html": [
       "<div>\n",
       "<style scoped>\n",
       "    .dataframe tbody tr th:only-of-type {\n",
       "        vertical-align: middle;\n",
       "    }\n",
       "\n",
       "    .dataframe tbody tr th {\n",
       "        vertical-align: top;\n",
       "    }\n",
       "\n",
       "    .dataframe thead th {\n",
       "        text-align: right;\n",
       "    }\n",
       "</style>\n",
       "<table border=\"1\" class=\"dataframe\">\n",
       "  <thead>\n",
       "    <tr style=\"text-align: right;\">\n",
       "      <th></th>\n",
       "      <th>Id</th>\n",
       "      <th>MSSubClass</th>\n",
       "      <th>MSZoning</th>\n",
       "      <th>LotFrontage</th>\n",
       "      <th>LotArea</th>\n",
       "      <th>Street</th>\n",
       "      <th>LotShape</th>\n",
       "      <th>LandContour</th>\n",
       "      <th>Utilities</th>\n",
       "      <th>LotConfig</th>\n",
       "      <th>...</th>\n",
       "      <th>OpenPorchSF</th>\n",
       "      <th>EnclosedPorch</th>\n",
       "      <th>3SsnPorch</th>\n",
       "      <th>ScreenPorch</th>\n",
       "      <th>PoolArea</th>\n",
       "      <th>MiscVal</th>\n",
       "      <th>MoSold</th>\n",
       "      <th>YrSold</th>\n",
       "      <th>SaleType</th>\n",
       "      <th>SaleCondition</th>\n",
       "    </tr>\n",
       "  </thead>\n",
       "  <tbody>\n",
       "    <tr>\n",
       "      <th>1321</th>\n",
       "      <td>2782</td>\n",
       "      <td>20</td>\n",
       "      <td>RM</td>\n",
       "      <td>60.0</td>\n",
       "      <td>7200</td>\n",
       "      <td>Pave</td>\n",
       "      <td>Reg</td>\n",
       "      <td>Lvl</td>\n",
       "      <td>AllPub</td>\n",
       "      <td>Inside</td>\n",
       "      <td>...</td>\n",
       "      <td>0</td>\n",
       "      <td>0</td>\n",
       "      <td>0</td>\n",
       "      <td>115</td>\n",
       "      <td>0</td>\n",
       "      <td>0</td>\n",
       "      <td>8</td>\n",
       "      <td>2006</td>\n",
       "      <td>COD</td>\n",
       "      <td>Normal</td>\n",
       "    </tr>\n",
       "    <tr>\n",
       "      <th>836</th>\n",
       "      <td>2297</td>\n",
       "      <td>60</td>\n",
       "      <td>RL</td>\n",
       "      <td>82.0</td>\n",
       "      <td>9709</td>\n",
       "      <td>Pave</td>\n",
       "      <td>IR1</td>\n",
       "      <td>Lvl</td>\n",
       "      <td>AllPub</td>\n",
       "      <td>Inside</td>\n",
       "      <td>...</td>\n",
       "      <td>104</td>\n",
       "      <td>0</td>\n",
       "      <td>0</td>\n",
       "      <td>0</td>\n",
       "      <td>0</td>\n",
       "      <td>0</td>\n",
       "      <td>9</td>\n",
       "      <td>2007</td>\n",
       "      <td>New</td>\n",
       "      <td>Partial</td>\n",
       "    </tr>\n",
       "    <tr>\n",
       "      <th>413</th>\n",
       "      <td>1874</td>\n",
       "      <td>20</td>\n",
       "      <td>RL</td>\n",
       "      <td>65.0</td>\n",
       "      <td>9757</td>\n",
       "      <td>Pave</td>\n",
       "      <td>Reg</td>\n",
       "      <td>Low</td>\n",
       "      <td>AllPub</td>\n",
       "      <td>Inside</td>\n",
       "      <td>...</td>\n",
       "      <td>0</td>\n",
       "      <td>0</td>\n",
       "      <td>0</td>\n",
       "      <td>92</td>\n",
       "      <td>0</td>\n",
       "      <td>0</td>\n",
       "      <td>10</td>\n",
       "      <td>2009</td>\n",
       "      <td>WD</td>\n",
       "      <td>Normal</td>\n",
       "    </tr>\n",
       "    <tr>\n",
       "      <th>522</th>\n",
       "      <td>1983</td>\n",
       "      <td>120</td>\n",
       "      <td>RL</td>\n",
       "      <td>48.0</td>\n",
       "      <td>6240</td>\n",
       "      <td>Pave</td>\n",
       "      <td>Reg</td>\n",
       "      <td>Lvl</td>\n",
       "      <td>AllPub</td>\n",
       "      <td>Inside</td>\n",
       "      <td>...</td>\n",
       "      <td>35</td>\n",
       "      <td>0</td>\n",
       "      <td>0</td>\n",
       "      <td>0</td>\n",
       "      <td>0</td>\n",
       "      <td>0</td>\n",
       "      <td>2</td>\n",
       "      <td>2008</td>\n",
       "      <td>WD</td>\n",
       "      <td>Normal</td>\n",
       "    </tr>\n",
       "    <tr>\n",
       "      <th>1035</th>\n",
       "      <td>2496</td>\n",
       "      <td>20</td>\n",
       "      <td>RL</td>\n",
       "      <td>102.0</td>\n",
       "      <td>12671</td>\n",
       "      <td>Pave</td>\n",
       "      <td>IR1</td>\n",
       "      <td>Lvl</td>\n",
       "      <td>AllPub</td>\n",
       "      <td>Corner</td>\n",
       "      <td>...</td>\n",
       "      <td>63</td>\n",
       "      <td>0</td>\n",
       "      <td>0</td>\n",
       "      <td>144</td>\n",
       "      <td>0</td>\n",
       "      <td>0</td>\n",
       "      <td>7</td>\n",
       "      <td>2007</td>\n",
       "      <td>WD</td>\n",
       "      <td>Normal</td>\n",
       "    </tr>\n",
       "    <tr>\n",
       "      <th>614</th>\n",
       "      <td>2075</td>\n",
       "      <td>20</td>\n",
       "      <td>RL</td>\n",
       "      <td>109.5</td>\n",
       "      <td>12929</td>\n",
       "      <td>Pave</td>\n",
       "      <td>IR1</td>\n",
       "      <td>Lvl</td>\n",
       "      <td>AllPub</td>\n",
       "      <td>Inside</td>\n",
       "      <td>...</td>\n",
       "      <td>82</td>\n",
       "      <td>0</td>\n",
       "      <td>0</td>\n",
       "      <td>0</td>\n",
       "      <td>0</td>\n",
       "      <td>0</td>\n",
       "      <td>6</td>\n",
       "      <td>2008</td>\n",
       "      <td>WD</td>\n",
       "      <td>Normal</td>\n",
       "    </tr>\n",
       "    <tr>\n",
       "      <th>218</th>\n",
       "      <td>1679</td>\n",
       "      <td>20</td>\n",
       "      <td>RL</td>\n",
       "      <td>117.0</td>\n",
       "      <td>15262</td>\n",
       "      <td>Pave</td>\n",
       "      <td>IR1</td>\n",
       "      <td>Lvl</td>\n",
       "      <td>AllPub</td>\n",
       "      <td>Corner</td>\n",
       "      <td>...</td>\n",
       "      <td>55</td>\n",
       "      <td>0</td>\n",
       "      <td>0</td>\n",
       "      <td>0</td>\n",
       "      <td>0</td>\n",
       "      <td>0</td>\n",
       "      <td>7</td>\n",
       "      <td>2009</td>\n",
       "      <td>WD</td>\n",
       "      <td>Normal</td>\n",
       "    </tr>\n",
       "    <tr>\n",
       "      <th>1031</th>\n",
       "      <td>2492</td>\n",
       "      <td>20</td>\n",
       "      <td>RL</td>\n",
       "      <td>98.5</td>\n",
       "      <td>11075</td>\n",
       "      <td>Pave</td>\n",
       "      <td>Reg</td>\n",
       "      <td>Lvl</td>\n",
       "      <td>AllPub</td>\n",
       "      <td>Corner</td>\n",
       "      <td>...</td>\n",
       "      <td>77</td>\n",
       "      <td>0</td>\n",
       "      <td>0</td>\n",
       "      <td>168</td>\n",
       "      <td>0</td>\n",
       "      <td>0</td>\n",
       "      <td>2</td>\n",
       "      <td>2007</td>\n",
       "      <td>WD</td>\n",
       "      <td>Normal</td>\n",
       "    </tr>\n",
       "    <tr>\n",
       "      <th>1289</th>\n",
       "      <td>2750</td>\n",
       "      <td>20</td>\n",
       "      <td>RL</td>\n",
       "      <td>80.0</td>\n",
       "      <td>13600</td>\n",
       "      <td>Pave</td>\n",
       "      <td>Reg</td>\n",
       "      <td>Bnk</td>\n",
       "      <td>AllPub</td>\n",
       "      <td>Inside</td>\n",
       "      <td>...</td>\n",
       "      <td>0</td>\n",
       "      <td>0</td>\n",
       "      <td>0</td>\n",
       "      <td>0</td>\n",
       "      <td>0</td>\n",
       "      <td>650</td>\n",
       "      <td>11</td>\n",
       "      <td>2006</td>\n",
       "      <td>WD</td>\n",
       "      <td>Normal</td>\n",
       "    </tr>\n",
       "    <tr>\n",
       "      <th>886</th>\n",
       "      <td>2347</td>\n",
       "      <td>20</td>\n",
       "      <td>FV</td>\n",
       "      <td>75.0</td>\n",
       "      <td>9000</td>\n",
       "      <td>Pave</td>\n",
       "      <td>Reg</td>\n",
       "      <td>Lvl</td>\n",
       "      <td>AllPub</td>\n",
       "      <td>Inside</td>\n",
       "      <td>...</td>\n",
       "      <td>210</td>\n",
       "      <td>0</td>\n",
       "      <td>0</td>\n",
       "      <td>0</td>\n",
       "      <td>0</td>\n",
       "      <td>0</td>\n",
       "      <td>6</td>\n",
       "      <td>2007</td>\n",
       "      <td>New</td>\n",
       "      <td>Partial</td>\n",
       "    </tr>\n",
       "  </tbody>\n",
       "</table>\n",
       "<p>10 rows × 76 columns</p>\n",
       "</div>"
      ],
      "text/plain": [
       "        Id  MSSubClass MSZoning  LotFrontage  LotArea Street LotShape  \\\n",
       "1321  2782          20       RM         60.0     7200   Pave      Reg   \n",
       "836   2297          60       RL         82.0     9709   Pave      IR1   \n",
       "413   1874          20       RL         65.0     9757   Pave      Reg   \n",
       "522   1983         120       RL         48.0     6240   Pave      Reg   \n",
       "1035  2496          20       RL        102.0    12671   Pave      IR1   \n",
       "614   2075          20       RL        109.5    12929   Pave      IR1   \n",
       "218   1679          20       RL        117.0    15262   Pave      IR1   \n",
       "1031  2492          20       RL         98.5    11075   Pave      Reg   \n",
       "1289  2750          20       RL         80.0    13600   Pave      Reg   \n",
       "886   2347          20       FV         75.0     9000   Pave      Reg   \n",
       "\n",
       "     LandContour Utilities LotConfig  ... OpenPorchSF EnclosedPorch 3SsnPorch  \\\n",
       "1321         Lvl    AllPub    Inside  ...           0             0         0   \n",
       "836          Lvl    AllPub    Inside  ...         104             0         0   \n",
       "413          Low    AllPub    Inside  ...           0             0         0   \n",
       "522          Lvl    AllPub    Inside  ...          35             0         0   \n",
       "1035         Lvl    AllPub    Corner  ...          63             0         0   \n",
       "614          Lvl    AllPub    Inside  ...          82             0         0   \n",
       "218          Lvl    AllPub    Corner  ...          55             0         0   \n",
       "1031         Lvl    AllPub    Corner  ...          77             0         0   \n",
       "1289         Bnk    AllPub    Inside  ...           0             0         0   \n",
       "886          Lvl    AllPub    Inside  ...         210             0         0   \n",
       "\n",
       "     ScreenPorch PoolArea MiscVal  MoSold  YrSold  SaleType  SaleCondition  \n",
       "1321         115        0       0       8    2006       COD         Normal  \n",
       "836            0        0       0       9    2007       New        Partial  \n",
       "413           92        0       0      10    2009        WD         Normal  \n",
       "522            0        0       0       2    2008        WD         Normal  \n",
       "1035         144        0       0       7    2007        WD         Normal  \n",
       "614            0        0       0       6    2008        WD         Normal  \n",
       "218            0        0       0       7    2009        WD         Normal  \n",
       "1031         168        0       0       2    2007        WD         Normal  \n",
       "1289           0        0     650      11    2006        WD         Normal  \n",
       "886            0        0       0       6    2007       New        Partial  \n",
       "\n",
       "[10 rows x 76 columns]"
      ]
     },
     "execution_count": 15,
     "metadata": {},
     "output_type": "execute_result"
    }
   ],
   "source": [
    "# No se recomienda si los datos no tienen una secuencia (orden)\n",
    "#https://pandas.pydata.org/docs/reference/api/pandas.DataFrame.interpolate.html#pandas.DataFrame.interpolate\n",
    "subset_house_data_reduced.interpolate()"
   ]
  },
  {
   "cell_type": "code",
   "execution_count": 16,
   "id": "6853e0a9",
   "metadata": {
    "ExecuteTime": {
     "end_time": "2022-09-02T03:27:39.699047Z",
     "start_time": "2022-09-02T03:27:39.691920Z"
    },
    "pycharm": {
     "name": "#%%\n"
    }
   },
   "outputs": [],
   "source": [
    "# Para usar un imputador de sklearn se requieren solamente columnas numericas\n",
    "my_simple_imputer = SimpleImputer(strategy='mean')\n",
    "\n",
    "numerical_house_data_reduced = house_data_reduced.select_dtypes('number')\n",
    "data_with_imputed_values = my_simple_imputer.fit_transform(\n",
    "    numerical_house_data_reduced\n",
    ")"
   ]
  },
  {
   "cell_type": "code",
   "execution_count": 17,
   "id": "5bbb2cb6",
   "metadata": {
    "ExecuteTime": {
     "end_time": "2022-09-02T03:27:39.713717Z",
     "start_time": "2022-09-02T03:27:39.700527Z"
    },
    "pycharm": {
     "name": "#%%\n"
    }
   },
   "outputs": [
    {
     "data": {
      "text/html": [
       "<div>\n",
       "<style scoped>\n",
       "    .dataframe tbody tr th:only-of-type {\n",
       "        vertical-align: middle;\n",
       "    }\n",
       "\n",
       "    .dataframe tbody tr th {\n",
       "        vertical-align: top;\n",
       "    }\n",
       "\n",
       "    .dataframe thead th {\n",
       "        text-align: right;\n",
       "    }\n",
       "</style>\n",
       "<table border=\"1\" class=\"dataframe\">\n",
       "  <thead>\n",
       "    <tr style=\"text-align: right;\">\n",
       "      <th></th>\n",
       "      <th>Id</th>\n",
       "      <th>MSSubClass</th>\n",
       "      <th>LotFrontage</th>\n",
       "      <th>LotArea</th>\n",
       "      <th>OverallQual</th>\n",
       "      <th>OverallCond</th>\n",
       "      <th>YearBuilt</th>\n",
       "      <th>YearRemodAdd</th>\n",
       "      <th>MasVnrArea</th>\n",
       "      <th>BsmtFinSF1</th>\n",
       "      <th>...</th>\n",
       "      <th>GarageArea</th>\n",
       "      <th>WoodDeckSF</th>\n",
       "      <th>OpenPorchSF</th>\n",
       "      <th>EnclosedPorch</th>\n",
       "      <th>3SsnPorch</th>\n",
       "      <th>ScreenPorch</th>\n",
       "      <th>PoolArea</th>\n",
       "      <th>MiscVal</th>\n",
       "      <th>MoSold</th>\n",
       "      <th>YrSold</th>\n",
       "    </tr>\n",
       "  </thead>\n",
       "  <tbody>\n",
       "    <tr>\n",
       "      <th>6</th>\n",
       "      <td>1467</td>\n",
       "      <td>20</td>\n",
       "      <td>NaN</td>\n",
       "      <td>7980</td>\n",
       "      <td>6</td>\n",
       "      <td>7</td>\n",
       "      <td>1992</td>\n",
       "      <td>2007</td>\n",
       "      <td>0.0</td>\n",
       "      <td>935.0</td>\n",
       "      <td>...</td>\n",
       "      <td>420.0</td>\n",
       "      <td>483</td>\n",
       "      <td>21</td>\n",
       "      <td>0</td>\n",
       "      <td>0</td>\n",
       "      <td>0</td>\n",
       "      <td>0</td>\n",
       "      <td>500</td>\n",
       "      <td>3</td>\n",
       "      <td>2010</td>\n",
       "    </tr>\n",
       "    <tr>\n",
       "      <th>40</th>\n",
       "      <td>1501</td>\n",
       "      <td>160</td>\n",
       "      <td>NaN</td>\n",
       "      <td>2980</td>\n",
       "      <td>6</td>\n",
       "      <td>5</td>\n",
       "      <td>2000</td>\n",
       "      <td>2000</td>\n",
       "      <td>1159.0</td>\n",
       "      <td>466.0</td>\n",
       "      <td>...</td>\n",
       "      <td>440.0</td>\n",
       "      <td>0</td>\n",
       "      <td>32</td>\n",
       "      <td>0</td>\n",
       "      <td>0</td>\n",
       "      <td>0</td>\n",
       "      <td>0</td>\n",
       "      <td>0</td>\n",
       "      <td>5</td>\n",
       "      <td>2010</td>\n",
       "    </tr>\n",
       "    <tr>\n",
       "      <th>41</th>\n",
       "      <td>1502</td>\n",
       "      <td>160</td>\n",
       "      <td>NaN</td>\n",
       "      <td>2403</td>\n",
       "      <td>7</td>\n",
       "      <td>5</td>\n",
       "      <td>2003</td>\n",
       "      <td>2003</td>\n",
       "      <td>0.0</td>\n",
       "      <td>244.0</td>\n",
       "      <td>...</td>\n",
       "      <td>496.0</td>\n",
       "      <td>0</td>\n",
       "      <td>50</td>\n",
       "      <td>0</td>\n",
       "      <td>0</td>\n",
       "      <td>0</td>\n",
       "      <td>0</td>\n",
       "      <td>0</td>\n",
       "      <td>6</td>\n",
       "      <td>2010</td>\n",
       "    </tr>\n",
       "    <tr>\n",
       "      <th>45</th>\n",
       "      <td>1506</td>\n",
       "      <td>20</td>\n",
       "      <td>NaN</td>\n",
       "      <td>10456</td>\n",
       "      <td>6</td>\n",
       "      <td>6</td>\n",
       "      <td>1967</td>\n",
       "      <td>1967</td>\n",
       "      <td>120.0</td>\n",
       "      <td>506.0</td>\n",
       "      <td>...</td>\n",
       "      <td>535.0</td>\n",
       "      <td>0</td>\n",
       "      <td>76</td>\n",
       "      <td>0</td>\n",
       "      <td>0</td>\n",
       "      <td>0</td>\n",
       "      <td>0</td>\n",
       "      <td>0</td>\n",
       "      <td>5</td>\n",
       "      <td>2010</td>\n",
       "    </tr>\n",
       "    <tr>\n",
       "      <th>47</th>\n",
       "      <td>1508</td>\n",
       "      <td>50</td>\n",
       "      <td>NaN</td>\n",
       "      <td>18837</td>\n",
       "      <td>6</td>\n",
       "      <td>5</td>\n",
       "      <td>1978</td>\n",
       "      <td>1978</td>\n",
       "      <td>0.0</td>\n",
       "      <td>687.0</td>\n",
       "      <td>...</td>\n",
       "      <td>678.0</td>\n",
       "      <td>0</td>\n",
       "      <td>69</td>\n",
       "      <td>0</td>\n",
       "      <td>0</td>\n",
       "      <td>0</td>\n",
       "      <td>0</td>\n",
       "      <td>0</td>\n",
       "      <td>4</td>\n",
       "      <td>2010</td>\n",
       "    </tr>\n",
       "  </tbody>\n",
       "</table>\n",
       "<p>5 rows × 37 columns</p>\n",
       "</div>"
      ],
      "text/plain": [
       "      Id  MSSubClass  LotFrontage  LotArea  OverallQual  OverallCond  \\\n",
       "6   1467          20          NaN     7980            6            7   \n",
       "40  1501         160          NaN     2980            6            5   \n",
       "41  1502         160          NaN     2403            7            5   \n",
       "45  1506          20          NaN    10456            6            6   \n",
       "47  1508          50          NaN    18837            6            5   \n",
       "\n",
       "    YearBuilt  YearRemodAdd  MasVnrArea  BsmtFinSF1  ...  GarageArea  \\\n",
       "6        1992          2007         0.0       935.0  ...       420.0   \n",
       "40       2000          2000      1159.0       466.0  ...       440.0   \n",
       "41       2003          2003         0.0       244.0  ...       496.0   \n",
       "45       1967          1967       120.0       506.0  ...       535.0   \n",
       "47       1978          1978         0.0       687.0  ...       678.0   \n",
       "\n",
       "    WoodDeckSF  OpenPorchSF  EnclosedPorch  3SsnPorch  ScreenPorch  PoolArea  \\\n",
       "6          483           21              0          0            0         0   \n",
       "40           0           32              0          0            0         0   \n",
       "41           0           50              0          0            0         0   \n",
       "45           0           76              0          0            0         0   \n",
       "47           0           69              0          0            0         0   \n",
       "\n",
       "    MiscVal  MoSold  YrSold  \n",
       "6       500       3    2010  \n",
       "40        0       5    2010  \n",
       "41        0       6    2010  \n",
       "45        0       5    2010  \n",
       "47        0       4    2010  \n",
       "\n",
       "[5 rows x 37 columns]"
      ]
     },
     "execution_count": 17,
     "metadata": {},
     "output_type": "execute_result"
    }
   ],
   "source": [
    "numerical_house_data_reduced[\n",
    "    numerical_house_data_reduced.LotFrontage.isna()\n",
    "].head()"
   ]
  },
  {
   "cell_type": "code",
   "execution_count": 18,
   "id": "f29f85d3",
   "metadata": {
    "ExecuteTime": {
     "end_time": "2022-09-02T03:27:39.738075Z",
     "start_time": "2022-09-02T03:27:39.715534Z"
    },
    "pycharm": {
     "name": "#%%\n"
    }
   },
   "outputs": [
    {
     "data": {
      "text/html": [
       "<div>\n",
       "<style scoped>\n",
       "    .dataframe tbody tr th:only-of-type {\n",
       "        vertical-align: middle;\n",
       "    }\n",
       "\n",
       "    .dataframe tbody tr th {\n",
       "        vertical-align: top;\n",
       "    }\n",
       "\n",
       "    .dataframe thead th {\n",
       "        text-align: right;\n",
       "    }\n",
       "</style>\n",
       "<table border=\"1\" class=\"dataframe\">\n",
       "  <thead>\n",
       "    <tr style=\"text-align: right;\">\n",
       "      <th></th>\n",
       "      <th>Id</th>\n",
       "      <th>MSSubClass</th>\n",
       "      <th>LotFrontage</th>\n",
       "      <th>LotArea</th>\n",
       "      <th>OverallQual</th>\n",
       "      <th>OverallCond</th>\n",
       "      <th>YearBuilt</th>\n",
       "      <th>YearRemodAdd</th>\n",
       "      <th>MasVnrArea</th>\n",
       "      <th>BsmtFinSF1</th>\n",
       "      <th>...</th>\n",
       "      <th>GarageArea</th>\n",
       "      <th>WoodDeckSF</th>\n",
       "      <th>OpenPorchSF</th>\n",
       "      <th>EnclosedPorch</th>\n",
       "      <th>3SsnPorch</th>\n",
       "      <th>ScreenPorch</th>\n",
       "      <th>PoolArea</th>\n",
       "      <th>MiscVal</th>\n",
       "      <th>MoSold</th>\n",
       "      <th>YrSold</th>\n",
       "    </tr>\n",
       "  </thead>\n",
       "  <tbody>\n",
       "    <tr>\n",
       "      <th>6</th>\n",
       "      <td>1467.0</td>\n",
       "      <td>20.0</td>\n",
       "      <td>68.580357</td>\n",
       "      <td>7980.0</td>\n",
       "      <td>6.0</td>\n",
       "      <td>7.0</td>\n",
       "      <td>1992.0</td>\n",
       "      <td>2007.0</td>\n",
       "      <td>0.0</td>\n",
       "      <td>935.0</td>\n",
       "      <td>...</td>\n",
       "      <td>420.0</td>\n",
       "      <td>483.0</td>\n",
       "      <td>21.0</td>\n",
       "      <td>0.0</td>\n",
       "      <td>0.0</td>\n",
       "      <td>0.0</td>\n",
       "      <td>0.0</td>\n",
       "      <td>500.0</td>\n",
       "      <td>3.0</td>\n",
       "      <td>2010.0</td>\n",
       "    </tr>\n",
       "    <tr>\n",
       "      <th>40</th>\n",
       "      <td>1501.0</td>\n",
       "      <td>160.0</td>\n",
       "      <td>68.580357</td>\n",
       "      <td>2980.0</td>\n",
       "      <td>6.0</td>\n",
       "      <td>5.0</td>\n",
       "      <td>2000.0</td>\n",
       "      <td>2000.0</td>\n",
       "      <td>1159.0</td>\n",
       "      <td>466.0</td>\n",
       "      <td>...</td>\n",
       "      <td>440.0</td>\n",
       "      <td>0.0</td>\n",
       "      <td>32.0</td>\n",
       "      <td>0.0</td>\n",
       "      <td>0.0</td>\n",
       "      <td>0.0</td>\n",
       "      <td>0.0</td>\n",
       "      <td>0.0</td>\n",
       "      <td>5.0</td>\n",
       "      <td>2010.0</td>\n",
       "    </tr>\n",
       "    <tr>\n",
       "      <th>41</th>\n",
       "      <td>1502.0</td>\n",
       "      <td>160.0</td>\n",
       "      <td>68.580357</td>\n",
       "      <td>2403.0</td>\n",
       "      <td>7.0</td>\n",
       "      <td>5.0</td>\n",
       "      <td>2003.0</td>\n",
       "      <td>2003.0</td>\n",
       "      <td>0.0</td>\n",
       "      <td>244.0</td>\n",
       "      <td>...</td>\n",
       "      <td>496.0</td>\n",
       "      <td>0.0</td>\n",
       "      <td>50.0</td>\n",
       "      <td>0.0</td>\n",
       "      <td>0.0</td>\n",
       "      <td>0.0</td>\n",
       "      <td>0.0</td>\n",
       "      <td>0.0</td>\n",
       "      <td>6.0</td>\n",
       "      <td>2010.0</td>\n",
       "    </tr>\n",
       "    <tr>\n",
       "      <th>45</th>\n",
       "      <td>1506.0</td>\n",
       "      <td>20.0</td>\n",
       "      <td>68.580357</td>\n",
       "      <td>10456.0</td>\n",
       "      <td>6.0</td>\n",
       "      <td>6.0</td>\n",
       "      <td>1967.0</td>\n",
       "      <td>1967.0</td>\n",
       "      <td>120.0</td>\n",
       "      <td>506.0</td>\n",
       "      <td>...</td>\n",
       "      <td>535.0</td>\n",
       "      <td>0.0</td>\n",
       "      <td>76.0</td>\n",
       "      <td>0.0</td>\n",
       "      <td>0.0</td>\n",
       "      <td>0.0</td>\n",
       "      <td>0.0</td>\n",
       "      <td>0.0</td>\n",
       "      <td>5.0</td>\n",
       "      <td>2010.0</td>\n",
       "    </tr>\n",
       "    <tr>\n",
       "      <th>47</th>\n",
       "      <td>1508.0</td>\n",
       "      <td>50.0</td>\n",
       "      <td>68.580357</td>\n",
       "      <td>18837.0</td>\n",
       "      <td>6.0</td>\n",
       "      <td>5.0</td>\n",
       "      <td>1978.0</td>\n",
       "      <td>1978.0</td>\n",
       "      <td>0.0</td>\n",
       "      <td>687.0</td>\n",
       "      <td>...</td>\n",
       "      <td>678.0</td>\n",
       "      <td>0.0</td>\n",
       "      <td>69.0</td>\n",
       "      <td>0.0</td>\n",
       "      <td>0.0</td>\n",
       "      <td>0.0</td>\n",
       "      <td>0.0</td>\n",
       "      <td>0.0</td>\n",
       "      <td>4.0</td>\n",
       "      <td>2010.0</td>\n",
       "    </tr>\n",
       "  </tbody>\n",
       "</table>\n",
       "<p>5 rows × 37 columns</p>\n",
       "</div>"
      ],
      "text/plain": [
       "        Id  MSSubClass  LotFrontage  LotArea  OverallQual  OverallCond  \\\n",
       "6   1467.0        20.0    68.580357   7980.0          6.0          7.0   \n",
       "40  1501.0       160.0    68.580357   2980.0          6.0          5.0   \n",
       "41  1502.0       160.0    68.580357   2403.0          7.0          5.0   \n",
       "45  1506.0        20.0    68.580357  10456.0          6.0          6.0   \n",
       "47  1508.0        50.0    68.580357  18837.0          6.0          5.0   \n",
       "\n",
       "    YearBuilt  YearRemodAdd  MasVnrArea  BsmtFinSF1  ...  GarageArea  \\\n",
       "6      1992.0        2007.0         0.0       935.0  ...       420.0   \n",
       "40     2000.0        2000.0      1159.0       466.0  ...       440.0   \n",
       "41     2003.0        2003.0         0.0       244.0  ...       496.0   \n",
       "45     1967.0        1967.0       120.0       506.0  ...       535.0   \n",
       "47     1978.0        1978.0         0.0       687.0  ...       678.0   \n",
       "\n",
       "    WoodDeckSF  OpenPorchSF  EnclosedPorch  3SsnPorch  ScreenPorch  PoolArea  \\\n",
       "6        483.0         21.0            0.0        0.0          0.0       0.0   \n",
       "40         0.0         32.0            0.0        0.0          0.0       0.0   \n",
       "41         0.0         50.0            0.0        0.0          0.0       0.0   \n",
       "45         0.0         76.0            0.0        0.0          0.0       0.0   \n",
       "47         0.0         69.0            0.0        0.0          0.0       0.0   \n",
       "\n",
       "    MiscVal  MoSold  YrSold  \n",
       "6     500.0     3.0  2010.0  \n",
       "40      0.0     5.0  2010.0  \n",
       "41      0.0     6.0  2010.0  \n",
       "45      0.0     5.0  2010.0  \n",
       "47      0.0     4.0  2010.0  \n",
       "\n",
       "[5 rows x 37 columns]"
      ]
     },
     "execution_count": 18,
     "metadata": {},
     "output_type": "execute_result"
    }
   ],
   "source": [
    "transformation = pd.DataFrame(data_with_imputed_values, columns=numerical_house_data_reduced.columns)\n",
    "transformation[numerical_house_data_reduced.LotFrontage.isna()].head()"
   ]
  },
  {
   "cell_type": "code",
   "execution_count": 25,
   "id": "554f8381",
   "metadata": {
    "ExecuteTime": {
     "end_time": "2022-09-02T03:27:39.810988Z",
     "start_time": "2022-09-02T03:27:39.740087Z"
    },
    "pycharm": {
     "name": "#%%\n"
    }
   },
   "outputs": [
    {
     "data": {
      "text/plain": "        Id  MSSubClass  LotFrontage  LotArea  OverallQual  OverallCond  \\\n6   1467.0        20.0    71.053977   7980.0          6.0          7.0   \n40  1501.0       160.0    27.841191   2980.0          6.0          5.0   \n41  1502.0       160.0    23.514370   2403.0          7.0          5.0   \n45  1506.0        20.0    74.406012  10456.0          6.0          6.0   \n47  1508.0        50.0   100.187441  18837.0          6.0          5.0   \n\n    YearBuilt  YearRemodAdd  MasVnrArea  BsmtFinSF1  ...  GarageArea  \\\n6      1992.0        2007.0         0.0       935.0  ...       420.0   \n40     2000.0        2000.0      1159.0       466.0  ...       440.0   \n41     2003.0        2003.0         0.0       244.0  ...       496.0   \n45     1967.0        1967.0       120.0       506.0  ...       535.0   \n47     1978.0        1978.0         0.0       687.0  ...       678.0   \n\n    WoodDeckSF  OpenPorchSF  EnclosedPorch  3SsnPorch  ScreenPorch  PoolArea  \\\n6        483.0         21.0            0.0        0.0          0.0       0.0   \n40         0.0         32.0            0.0        0.0          0.0       0.0   \n41         0.0         50.0            0.0        0.0          0.0       0.0   \n45         0.0         76.0            0.0        0.0          0.0       0.0   \n47         0.0         69.0            0.0        0.0          0.0       0.0   \n\n    MiscVal  MoSold  YrSold  \n6     500.0     3.0  2010.0  \n40      0.0     5.0  2010.0  \n41      0.0     6.0  2010.0  \n45      0.0     5.0  2010.0  \n47      0.0     4.0  2010.0  \n\n[5 rows x 37 columns]",
      "text/html": "<div>\n<style scoped>\n    .dataframe tbody tr th:only-of-type {\n        vertical-align: middle;\n    }\n\n    .dataframe tbody tr th {\n        vertical-align: top;\n    }\n\n    .dataframe thead th {\n        text-align: right;\n    }\n</style>\n<table border=\"1\" class=\"dataframe\">\n  <thead>\n    <tr style=\"text-align: right;\">\n      <th></th>\n      <th>Id</th>\n      <th>MSSubClass</th>\n      <th>LotFrontage</th>\n      <th>LotArea</th>\n      <th>OverallQual</th>\n      <th>OverallCond</th>\n      <th>YearBuilt</th>\n      <th>YearRemodAdd</th>\n      <th>MasVnrArea</th>\n      <th>BsmtFinSF1</th>\n      <th>...</th>\n      <th>GarageArea</th>\n      <th>WoodDeckSF</th>\n      <th>OpenPorchSF</th>\n      <th>EnclosedPorch</th>\n      <th>3SsnPorch</th>\n      <th>ScreenPorch</th>\n      <th>PoolArea</th>\n      <th>MiscVal</th>\n      <th>MoSold</th>\n      <th>YrSold</th>\n    </tr>\n  </thead>\n  <tbody>\n    <tr>\n      <th>6</th>\n      <td>1467.0</td>\n      <td>20.0</td>\n      <td>71.053977</td>\n      <td>7980.0</td>\n      <td>6.0</td>\n      <td>7.0</td>\n      <td>1992.0</td>\n      <td>2007.0</td>\n      <td>0.0</td>\n      <td>935.0</td>\n      <td>...</td>\n      <td>420.0</td>\n      <td>483.0</td>\n      <td>21.0</td>\n      <td>0.0</td>\n      <td>0.0</td>\n      <td>0.0</td>\n      <td>0.0</td>\n      <td>500.0</td>\n      <td>3.0</td>\n      <td>2010.0</td>\n    </tr>\n    <tr>\n      <th>40</th>\n      <td>1501.0</td>\n      <td>160.0</td>\n      <td>27.841191</td>\n      <td>2980.0</td>\n      <td>6.0</td>\n      <td>5.0</td>\n      <td>2000.0</td>\n      <td>2000.0</td>\n      <td>1159.0</td>\n      <td>466.0</td>\n      <td>...</td>\n      <td>440.0</td>\n      <td>0.0</td>\n      <td>32.0</td>\n      <td>0.0</td>\n      <td>0.0</td>\n      <td>0.0</td>\n      <td>0.0</td>\n      <td>0.0</td>\n      <td>5.0</td>\n      <td>2010.0</td>\n    </tr>\n    <tr>\n      <th>41</th>\n      <td>1502.0</td>\n      <td>160.0</td>\n      <td>23.514370</td>\n      <td>2403.0</td>\n      <td>7.0</td>\n      <td>5.0</td>\n      <td>2003.0</td>\n      <td>2003.0</td>\n      <td>0.0</td>\n      <td>244.0</td>\n      <td>...</td>\n      <td>496.0</td>\n      <td>0.0</td>\n      <td>50.0</td>\n      <td>0.0</td>\n      <td>0.0</td>\n      <td>0.0</td>\n      <td>0.0</td>\n      <td>0.0</td>\n      <td>6.0</td>\n      <td>2010.0</td>\n    </tr>\n    <tr>\n      <th>45</th>\n      <td>1506.0</td>\n      <td>20.0</td>\n      <td>74.406012</td>\n      <td>10456.0</td>\n      <td>6.0</td>\n      <td>6.0</td>\n      <td>1967.0</td>\n      <td>1967.0</td>\n      <td>120.0</td>\n      <td>506.0</td>\n      <td>...</td>\n      <td>535.0</td>\n      <td>0.0</td>\n      <td>76.0</td>\n      <td>0.0</td>\n      <td>0.0</td>\n      <td>0.0</td>\n      <td>0.0</td>\n      <td>0.0</td>\n      <td>5.0</td>\n      <td>2010.0</td>\n    </tr>\n    <tr>\n      <th>47</th>\n      <td>1508.0</td>\n      <td>50.0</td>\n      <td>100.187441</td>\n      <td>18837.0</td>\n      <td>6.0</td>\n      <td>5.0</td>\n      <td>1978.0</td>\n      <td>1978.0</td>\n      <td>0.0</td>\n      <td>687.0</td>\n      <td>...</td>\n      <td>678.0</td>\n      <td>0.0</td>\n      <td>69.0</td>\n      <td>0.0</td>\n      <td>0.0</td>\n      <td>0.0</td>\n      <td>0.0</td>\n      <td>0.0</td>\n      <td>4.0</td>\n      <td>2010.0</td>\n    </tr>\n  </tbody>\n</table>\n<p>5 rows × 37 columns</p>\n</div>"
     },
     "execution_count": 25,
     "metadata": {},
     "output_type": "execute_result"
    }
   ],
   "source": [
    "my_ml_imputer = KNNImputer(weights='distance')\n",
    "\n",
    "numerical_house_data_reduced = house_data_reduced.select_dtypes('number')\n",
    "my_ml_imputer.fit(numerical_house_data_reduced)\n",
    "data_with_imputed_values = my_ml_imputer.transform(numerical_house_data_reduced)\n",
    "\n",
    "\n",
    "transformation = pd.DataFrame(data_with_imputed_values, columns=numerical_house_data_reduced.columns)\n",
    "transformation[numerical_house_data_reduced.LotFrontage.isna()].head()"
   ]
  },
  {
   "cell_type": "code",
   "execution_count": 32,
   "outputs": [
    {
     "name": "stderr",
     "output_type": "stream",
     "text": [
      "/var/folders/h6/k3ph73lj23qbzlrl9r95w4lh0000gn/T/ipykernel_80496/1324621285.py:4: SettingWithCopyWarning: \n",
      "A value is trying to be set on a copy of a slice from a DataFrame.\n",
      "Try using .loc[row_indexer,col_indexer] = value instead\n",
      "\n",
      "See the caveats in the documentation: https://pandas.pydata.org/pandas-docs/stable/user_guide/indexing.html#returning-a-view-versus-a-copy\n",
      "  c[index]['LotFrontage'] = c[index]['LotArea'].map(lambda x: math.sqrt(x))\n"
     ]
    },
    {
     "data": {
      "text/plain": "        Id  MSSubClass  LotFrontage  LotArea  OverallQual  OverallCond  \\\n0     1461          20         80.0    11622            5            6   \n1     1462          20         81.0    14267            6            6   \n2     1463          60         74.0    13830            5            5   \n3     1464          60         78.0     9978            6            6   \n4     1465         120         43.0     5005            8            5   \n...    ...         ...          ...      ...          ...          ...   \n1454  2915         160         21.0     1936            4            7   \n1455  2916         160         21.0     1894            4            5   \n1456  2917          20        160.0    20000            5            7   \n1457  2918          85         62.0    10441            5            5   \n1458  2919          60         74.0     9627            7            5   \n\n      YearBuilt  YearRemodAdd  MasVnrArea  BsmtFinSF1  ...  GarageArea  \\\n0          1961          1961         0.0       468.0  ...       730.0   \n1          1958          1958       108.0       923.0  ...       312.0   \n2          1997          1998         0.0       791.0  ...       482.0   \n3          1998          1998        20.0       602.0  ...       470.0   \n4          1992          1992         0.0       263.0  ...       506.0   \n...         ...           ...         ...         ...  ...         ...   \n1454       1970          1970         0.0         0.0  ...         0.0   \n1455       1970          1970         0.0       252.0  ...       286.0   \n1456       1960          1996         0.0      1224.0  ...       576.0   \n1457       1992          1992         0.0       337.0  ...         0.0   \n1458       1993          1994        94.0       758.0  ...       650.0   \n\n      WoodDeckSF  OpenPorchSF  EnclosedPorch  3SsnPorch  ScreenPorch  \\\n0            140            0              0          0          120   \n1            393           36              0          0            0   \n2            212           34              0          0            0   \n3            360           36              0          0            0   \n4              0           82              0          0          144   \n...          ...          ...            ...        ...          ...   \n1454           0            0              0          0            0   \n1455           0           24              0          0            0   \n1456         474            0              0          0            0   \n1457          80           32              0          0            0   \n1458         190           48              0          0            0   \n\n      PoolArea  MiscVal  MoSold  YrSold  \n0            0        0       6    2010  \n1            0    12500       6    2010  \n2            0        0       3    2010  \n3            0        0       6    2010  \n4            0        0       1    2010  \n...        ...      ...     ...     ...  \n1454         0        0       6    2006  \n1455         0        0       4    2006  \n1456         0        0       9    2006  \n1457         0      700       7    2006  \n1458         0        0      11    2006  \n\n[1459 rows x 37 columns]",
      "text/html": "<div>\n<style scoped>\n    .dataframe tbody tr th:only-of-type {\n        vertical-align: middle;\n    }\n\n    .dataframe tbody tr th {\n        vertical-align: top;\n    }\n\n    .dataframe thead th {\n        text-align: right;\n    }\n</style>\n<table border=\"1\" class=\"dataframe\">\n  <thead>\n    <tr style=\"text-align: right;\">\n      <th></th>\n      <th>Id</th>\n      <th>MSSubClass</th>\n      <th>LotFrontage</th>\n      <th>LotArea</th>\n      <th>OverallQual</th>\n      <th>OverallCond</th>\n      <th>YearBuilt</th>\n      <th>YearRemodAdd</th>\n      <th>MasVnrArea</th>\n      <th>BsmtFinSF1</th>\n      <th>...</th>\n      <th>GarageArea</th>\n      <th>WoodDeckSF</th>\n      <th>OpenPorchSF</th>\n      <th>EnclosedPorch</th>\n      <th>3SsnPorch</th>\n      <th>ScreenPorch</th>\n      <th>PoolArea</th>\n      <th>MiscVal</th>\n      <th>MoSold</th>\n      <th>YrSold</th>\n    </tr>\n  </thead>\n  <tbody>\n    <tr>\n      <th>0</th>\n      <td>1461</td>\n      <td>20</td>\n      <td>80.0</td>\n      <td>11622</td>\n      <td>5</td>\n      <td>6</td>\n      <td>1961</td>\n      <td>1961</td>\n      <td>0.0</td>\n      <td>468.0</td>\n      <td>...</td>\n      <td>730.0</td>\n      <td>140</td>\n      <td>0</td>\n      <td>0</td>\n      <td>0</td>\n      <td>120</td>\n      <td>0</td>\n      <td>0</td>\n      <td>6</td>\n      <td>2010</td>\n    </tr>\n    <tr>\n      <th>1</th>\n      <td>1462</td>\n      <td>20</td>\n      <td>81.0</td>\n      <td>14267</td>\n      <td>6</td>\n      <td>6</td>\n      <td>1958</td>\n      <td>1958</td>\n      <td>108.0</td>\n      <td>923.0</td>\n      <td>...</td>\n      <td>312.0</td>\n      <td>393</td>\n      <td>36</td>\n      <td>0</td>\n      <td>0</td>\n      <td>0</td>\n      <td>0</td>\n      <td>12500</td>\n      <td>6</td>\n      <td>2010</td>\n    </tr>\n    <tr>\n      <th>2</th>\n      <td>1463</td>\n      <td>60</td>\n      <td>74.0</td>\n      <td>13830</td>\n      <td>5</td>\n      <td>5</td>\n      <td>1997</td>\n      <td>1998</td>\n      <td>0.0</td>\n      <td>791.0</td>\n      <td>...</td>\n      <td>482.0</td>\n      <td>212</td>\n      <td>34</td>\n      <td>0</td>\n      <td>0</td>\n      <td>0</td>\n      <td>0</td>\n      <td>0</td>\n      <td>3</td>\n      <td>2010</td>\n    </tr>\n    <tr>\n      <th>3</th>\n      <td>1464</td>\n      <td>60</td>\n      <td>78.0</td>\n      <td>9978</td>\n      <td>6</td>\n      <td>6</td>\n      <td>1998</td>\n      <td>1998</td>\n      <td>20.0</td>\n      <td>602.0</td>\n      <td>...</td>\n      <td>470.0</td>\n      <td>360</td>\n      <td>36</td>\n      <td>0</td>\n      <td>0</td>\n      <td>0</td>\n      <td>0</td>\n      <td>0</td>\n      <td>6</td>\n      <td>2010</td>\n    </tr>\n    <tr>\n      <th>4</th>\n      <td>1465</td>\n      <td>120</td>\n      <td>43.0</td>\n      <td>5005</td>\n      <td>8</td>\n      <td>5</td>\n      <td>1992</td>\n      <td>1992</td>\n      <td>0.0</td>\n      <td>263.0</td>\n      <td>...</td>\n      <td>506.0</td>\n      <td>0</td>\n      <td>82</td>\n      <td>0</td>\n      <td>0</td>\n      <td>144</td>\n      <td>0</td>\n      <td>0</td>\n      <td>1</td>\n      <td>2010</td>\n    </tr>\n    <tr>\n      <th>...</th>\n      <td>...</td>\n      <td>...</td>\n      <td>...</td>\n      <td>...</td>\n      <td>...</td>\n      <td>...</td>\n      <td>...</td>\n      <td>...</td>\n      <td>...</td>\n      <td>...</td>\n      <td>...</td>\n      <td>...</td>\n      <td>...</td>\n      <td>...</td>\n      <td>...</td>\n      <td>...</td>\n      <td>...</td>\n      <td>...</td>\n      <td>...</td>\n      <td>...</td>\n      <td>...</td>\n    </tr>\n    <tr>\n      <th>1454</th>\n      <td>2915</td>\n      <td>160</td>\n      <td>21.0</td>\n      <td>1936</td>\n      <td>4</td>\n      <td>7</td>\n      <td>1970</td>\n      <td>1970</td>\n      <td>0.0</td>\n      <td>0.0</td>\n      <td>...</td>\n      <td>0.0</td>\n      <td>0</td>\n      <td>0</td>\n      <td>0</td>\n      <td>0</td>\n      <td>0</td>\n      <td>0</td>\n      <td>0</td>\n      <td>6</td>\n      <td>2006</td>\n    </tr>\n    <tr>\n      <th>1455</th>\n      <td>2916</td>\n      <td>160</td>\n      <td>21.0</td>\n      <td>1894</td>\n      <td>4</td>\n      <td>5</td>\n      <td>1970</td>\n      <td>1970</td>\n      <td>0.0</td>\n      <td>252.0</td>\n      <td>...</td>\n      <td>286.0</td>\n      <td>0</td>\n      <td>24</td>\n      <td>0</td>\n      <td>0</td>\n      <td>0</td>\n      <td>0</td>\n      <td>0</td>\n      <td>4</td>\n      <td>2006</td>\n    </tr>\n    <tr>\n      <th>1456</th>\n      <td>2917</td>\n      <td>20</td>\n      <td>160.0</td>\n      <td>20000</td>\n      <td>5</td>\n      <td>7</td>\n      <td>1960</td>\n      <td>1996</td>\n      <td>0.0</td>\n      <td>1224.0</td>\n      <td>...</td>\n      <td>576.0</td>\n      <td>474</td>\n      <td>0</td>\n      <td>0</td>\n      <td>0</td>\n      <td>0</td>\n      <td>0</td>\n      <td>0</td>\n      <td>9</td>\n      <td>2006</td>\n    </tr>\n    <tr>\n      <th>1457</th>\n      <td>2918</td>\n      <td>85</td>\n      <td>62.0</td>\n      <td>10441</td>\n      <td>5</td>\n      <td>5</td>\n      <td>1992</td>\n      <td>1992</td>\n      <td>0.0</td>\n      <td>337.0</td>\n      <td>...</td>\n      <td>0.0</td>\n      <td>80</td>\n      <td>32</td>\n      <td>0</td>\n      <td>0</td>\n      <td>0</td>\n      <td>0</td>\n      <td>700</td>\n      <td>7</td>\n      <td>2006</td>\n    </tr>\n    <tr>\n      <th>1458</th>\n      <td>2919</td>\n      <td>60</td>\n      <td>74.0</td>\n      <td>9627</td>\n      <td>7</td>\n      <td>5</td>\n      <td>1993</td>\n      <td>1994</td>\n      <td>94.0</td>\n      <td>758.0</td>\n      <td>...</td>\n      <td>650.0</td>\n      <td>190</td>\n      <td>48</td>\n      <td>0</td>\n      <td>0</td>\n      <td>0</td>\n      <td>0</td>\n      <td>0</td>\n      <td>11</td>\n      <td>2006</td>\n    </tr>\n  </tbody>\n</table>\n<p>1459 rows × 37 columns</p>\n</div>"
     },
     "execution_count": 32,
     "metadata": {},
     "output_type": "execute_result"
    }
   ],
   "source": [
    "import math\n",
    "c = numerical_house_data_reduced.copy()\n",
    "c['LotFrontage'] = c['LotArea'].map(lambda x: math.sqrt(x))\n",
    "c"
   ],
   "metadata": {
    "collapsed": false,
    "pycharm": {
     "name": "#%%\n"
    }
   }
  },
  {
   "cell_type": "code",
   "execution_count": null,
   "outputs": [],
   "source": [],
   "metadata": {
    "collapsed": false,
    "pycharm": {
     "name": "#%%\n"
    }
   }
  }
 ],
 "metadata": {
  "hide_input": false,
  "kernelspec": {
   "display_name": "Python 3 (ipykernel)",
   "language": "python",
   "name": "python3"
  },
  "language_info": {
   "codemirror_mode": {
    "name": "ipython",
    "version": 3
   },
   "file_extension": ".py",
   "mimetype": "text/x-python",
   "name": "python",
   "nbconvert_exporter": "python",
   "pygments_lexer": "ipython3",
   "version": "3.8.10"
  },
  "toc": {
   "base_numbering": 1,
   "nav_menu": {},
   "number_sections": true,
   "sideBar": true,
   "skip_h1_title": false,
   "title_cell": "Table of Contents",
   "title_sidebar": "Contents",
   "toc_cell": false,
   "toc_position": {},
   "toc_section_display": true,
   "toc_window_display": false
  }
 },
 "nbformat": 4,
 "nbformat_minor": 5
}